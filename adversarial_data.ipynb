{
 "cells": [
  {
   "cell_type": "code",
   "execution_count": 27,
   "metadata": {
    "colab": {
     "base_uri": "https://localhost:8080/",
     "height": 879
    },
    "id": "nCBYLwcJzgwg",
    "outputId": "1a2fab86-8a76-466d-fda4-8b6144b02ae4"
   },
   "outputs": [
    {
     "name": "stdout",
     "output_type": "stream",
     "text": [
      "Loading existing profiles...\n",
      "Total profiles loaded: 3600\n",
      "Label distribution:\n",
      "Label\n",
      "0     1800\n",
      "1      600\n",
      "10     600\n",
      "11     600\n",
      "Name: count, dtype: int64\n",
      "\n",
      "Target number of profiles: 1800 \n",
      "Loading existing profiles from: generated_profiles_NEW.csv\n",
      "Loaded 240 existing profiles\n",
      "Generating 1560 more profiles...\n"
     ]
    },
    {
     "name": "stderr",
     "output_type": "stream",
     "text": [
      "Generating profiles:  13%|██████▎                                        | 240/1800 [00:00<?, ?it/s]"
     ]
    },
    {
     "name": "stdout",
     "output_type": "stream",
     "text": [
      "\n",
      "Starting batch 1/312\n",
      "Selected 5 new random example profiles for this batch\n"
     ]
    },
    {
     "name": "stderr",
     "output_type": "stream",
     "text": [
      "Generating profiles:  14%|████▉                               | 245/1800 [03:51<19:57:00, 46.19s/it]"
     ]
    },
    {
     "name": "stdout",
     "output_type": "stream",
     "text": [
      "\n",
      "Saved 245 profiles to: generated_profiles_NEW.csv\n",
      "Completed batch 1, total profiles generated: 245\n",
      "\n",
      "Starting batch 2/312\n",
      "Selected 5 new random example profiles for this batch\n"
     ]
    },
    {
     "name": "stderr",
     "output_type": "stream",
     "text": [
      "Generating profiles:  14%|█████                               | 250/1800 [07:47<20:59:44, 48.76s/it]"
     ]
    },
    {
     "name": "stdout",
     "output_type": "stream",
     "text": [
      "\n",
      "Saved 250 profiles to: generated_profiles_NEW.csv\n",
      "Completed batch 2, total profiles generated: 250\n",
      "\n",
      "Starting batch 3/312\n",
      "Selected 5 new random example profiles for this batch\n"
     ]
    },
    {
     "name": "stderr",
     "output_type": "stream",
     "text": [
      "Generating profiles:  14%|█████                               | 255/1800 [10:56<17:47:39, 41.46s/it]"
     ]
    },
    {
     "name": "stdout",
     "output_type": "stream",
     "text": [
      "\n",
      "Saved 255 profiles to: generated_profiles_NEW.csv\n",
      "Completed batch 3, total profiles generated: 255\n",
      "\n",
      "Starting batch 4/312\n",
      "Selected 5 new random example profiles for this batch\n"
     ]
    },
    {
     "name": "stderr",
     "output_type": "stream",
     "text": [
      "Generating profiles:  14%|█████▏                              | 260/1800 [14:19<17:29:19, 40.88s/it]"
     ]
    },
    {
     "name": "stdout",
     "output_type": "stream",
     "text": [
      "\n",
      "Saved 260 profiles to: generated_profiles_NEW.csv\n",
      "Completed batch 4, total profiles generated: 260\n",
      "\n",
      "Starting batch 5/312\n",
      "Selected 5 new random example profiles for this batch\n"
     ]
    },
    {
     "name": "stderr",
     "output_type": "stream",
     "text": [
      "Generating profiles:  15%|█████▏                              | 262/1800 [16:04<19:55:35, 46.64s/it]"
     ]
    },
    {
     "name": "stdout",
     "output_type": "stream",
     "text": [
      "\n",
      "Invalid JSON received:\n",
      "{\n",
      "  \"Intro\": \"{'Full Name': 'Ajit Singh', 'Workplace': 'Senior Software Engineer at Google | Machine Learning & AI Expert', 'Location': 'Bangalore, Karnataka, India', 'Connections': '500+', 'Photo': 'Yes', 'Followers': ''}\",\n",
      "  \"Full Name\": \"Ajit Singh\",\n",
      "  \"Workplace\": \"Senior Software Engineer at Google | Machine Learning & AI Expert\",\n",
      "  \"Location\": \"Bangalore, Karnataka, India\",\n",
      "  \"Connections\": 500,\n",
      "  \"Photo\": \"Yes\",\n",
      "  \"Followers\": 4100,\n",
      "  \"About\": \"NaN\",\n",
      "  \"Experiences\": \"{'0': {'Workplace': 'Google', 'Role': 'Senior Software Engineer', 'Duration': 'Feb 2018 - Present \\u00b7 5 yrs 1 mo', 'Workplace Location': 'Bangalore, India', 'Description': 'Leading key projects in the domain of machine learning and artificial intelligence. Focus on developing scalable AI solutions for Google\\'s products.'}, '1': {'Workplace': 'Microsoft', 'Role': 'Software Engineer', 'Duration': 'Jan 2014 - Jan 2018 \\u00b7 4 yrs', 'Workplace Location': 'Hyderabad, India', 'Description': 'Worked on cloud computing and big data analytics projects. Played a pivotal role in developing and optimizing algorithms for better data processing.'}, '2': {'Workplace': 'Startup ABC', 'Role': 'Co-founder & CTO', 'Duration': 'May 2010 - Dec 2013 \\u00b7 3 yrs 8 mos', 'Workplace Location': 'Bangalore, India', 'Description': 'Co-founded a tech startup focused on developing AI-driven applications for the e-commerce sector. Led the tech team to build innovative products from the ground up.'}}\",\n",
      "  \"Number of Experiences\": 3,\n",
      "  \"Educations\": \"{'0': {'Institute': 'Indian Institute of Technology, Delhi', 'Degree': 'Bachelor of Technology (B.Tech.), Computer Science', 'Duration': '2006 - 2010', 'Description': 'Participated in coding marathons and was a part of the robotics club.'}}\",\n",
      "  \"Number of Educations\": 1,\n",
      "  \"Licenses\": \"{}\",\n",
      "  \"Number of Licenses\": 0,\n",
      "  \"Volunteering\": \"{'0': {'Role': 'Mentor', 'Organization': 'CodeForGood', 'Duration': 'Jan 2019 - Present \\u00b7 4 yrs 2 mos', 'Description': 'Acting as a mentor to up-and-coming programmers and technology enthusiasts. Provide guidance on projects related to social good.'}}\",\n",
      "  \"Number of Volunteering\": 1,\n",
      "  \"Skills\": \"{'Skill 0': 'Machine Learning', 'Skill 1': 'Artificial Intelligence', 'Skill 2': 'Big Data', 'Skill 3': 'Cloud Computing'}\",\n",
      "  \"Number of Skills\": 4,\n",
      "  \"Recommendations\": \"{'0': {'User': 'Rohit Sharma', 'Category': 'in', 'ID': 'rohitsharma', 'URL': 'https://www.linkedin.com/in/rohitsharma', 'Relation': 'March 12, 2020, Rohit was Ajit\\'s client', 'Description': 'Ajit is a phenomenal engineer with an exceptional ability to solve complex problems with simple solutions. His work on our project exceeded our expectations. Highly recommend him for any AI-driven projects.'}}\",\n",
      "  \"Number of Recommendations\": 1,\n",
      "  \"Projects\": \"{'0': {'Title': 'E-commerce AI Chatbot', 'Date': 'Jun 2020 - Present', 'Description': 'Developed an AI Chatbot that leverages natural language processing to understand customer queries and provide meaningful responses, increasing customer engagement by 40%.'}}\",\n",
      "  \"Number of Projects\": 1,\n",
      "  \"Publications\": \"{}\",\n",
      "  \"Number of Publications\": 0,\n",
      "  \"Courses\": \"{}\",\n",
      "  \"Number of Courses\": 0,\n",
      "  \"Honors\": \"{'0': {'Award': 'Innovation in AI Award', 'Info': 'Issued by TechAICon \\u00b7 Mar 2021', 'Description': 'Received for developing an innovative AI-based solution to streamline online customer support.'}}\",\n",
      "  \"Number of Honors\": 1,\n",
      "  \"Scores\": \"{}\",\n",
      "  \"Number of Scores\": 0,\n",
      "  \"Languages\": \"{'Language 0': 'English', 'Language 1': 'Hindi'}\",\n",
      "  \"Number of Languages\": 2,\n",
      "  \"Organizations\": \"{'0': {'Organization': 'Indian Institute of Technology Alumni Association', 'Role': 'Member \\u00b7 Jun 2010 - Present'}}\",\n",
      "  \"Number of Organizations\": 1,\n",
      "  \"Interests\": \"{'0': {'Interest': 'DeepMind', 'ID': '4199432', 'Category': 'company', 'URL': 'https://www.linkedin.com/company/4199432'}, '1': {'Interest': 'OpenAI', 'ID': '10311366', 'Category': 'company', 'URL': 'https://www.linkedin.com/company/10311366'}, '2': {'Interest': 'Google AI', 'ID': '4417319', 'Category': 'company', 'URL': 'https://www.linkedin.com/company/4417319'}}\",\n",
      "  \"Number of Interests\": 3,\n",
      "  \"Activities\": \"{}\",\n",
      "  \"Number of Activities\": 0,\n",
      "  \"Label\": 0\n",
      "}\n",
      "JSON Error: Invalid \\escape: line 10 column 331 (char 792)\n",
      "\n",
      "Retry 1/3 after error: Invalid \\escape: line 10 column 331 (char 792)\n",
      "Last response received: {\n",
      "  \"Intro\": \"{'Full Name': 'Ajit Singh', 'Workplace': 'Senior Software Engineer at Google | Machine Learning & AI Expert', 'Location': 'Bangalore, Karnataka, India', 'Connections': '500+', 'Photo': 'Yes', 'Followers': ''}\",\n",
      "  \"Full Name\": \"Ajit Singh\",\n",
      "  \"Workplace\": \"Senior Software Engineer at Google | Machine Learning & AI Expert\",\n",
      "  \"Location\": \"Bangalore, Karnataka, India\",\n",
      "  \"Connections\": 500,\n",
      "  \"Photo\": \"Yes\",\n",
      "  \"Followers\": 4100,\n",
      "  \"About\": \"NaN\",\n",
      "  \"Experiences\": \"{'0': {'Workplace': 'Google', 'Role': 'Senior Software Engineer', 'Duration': 'Feb 2018 - Present \\u00b7 5 yrs 1 mo', 'Workplace Location': 'Bangalore, India', 'Description': 'Leading key projects in the domain of machine learning and artificial intelligence. Focus on developing scalable AI solutions for Google\\'s products.'}, '1': {'Workplace': 'Microsoft', 'Role': 'Software Engineer', 'Duration': 'Jan 2014 - Jan 2018 \\u00b7 4 yrs', 'Workplace Location': 'Hyderabad, India', 'Description': 'Worked on cloud computing and big data analytics projects. Played a pivotal role in developing and optimizing algorithms for better data processing.'}, '2': {'Workplace': 'Startup ABC', 'Role': 'Co-founder & CTO', 'Duration': 'May 2010 - Dec 2013 \\u00b7 3 yrs 8 mos', 'Workplace Location': 'Bangalore, India', 'Description': 'Co-founded a tech startup focused on developing AI-driven applications for the e-commerce sector. Led the tech team to build innovative products from the ground up.'}}\",\n",
      "  \"Number of Experiences\": 3,\n",
      "  \"Educations\": \"{'0': {'Institute': 'Indian Institute of Technology, Delhi', 'Degree': 'Bachelor of Technology (B.Tech.), Computer Science', 'Duration': '2006 - 2010', 'Description': 'Participated in coding marathons and was a part of the robotics club.'}}\",\n",
      "  \"Number of Educations\": 1,\n",
      "  \"Licenses\": \"{}\",\n",
      "  \"Number of Licenses\": 0,\n",
      "  \"Volunteering\": \"{'0': {'Role': 'Mentor', 'Organization': 'CodeForGood', 'Duration': 'Jan 2019 - Present \\u00b7 4 yrs 2 mos', 'Description': 'Acting as a mentor to up-and-coming programmers and technology enthusiasts. Provide guidance on projects related to social good.'}}\",\n",
      "  \"Number of Volunteering\": 1,\n",
      "  \"Skills\": \"{'Skill 0': 'Machine Learning', 'Skill 1': 'Artificial Intelligence', 'Skill 2': 'Big Data', 'Skill 3': 'Cloud Computing'}\",\n",
      "  \"Number of Skills\": 4,\n",
      "  \"Recommendations\": \"{'0': {'User': 'Rohit Sharma', 'Category': 'in', 'ID': 'rohitsharma', 'URL': 'https://www.linkedin.com/in/rohitsharma', 'Relation': 'March 12, 2020, Rohit was Ajit\\'s client', 'Description': 'Ajit is a phenomenal engineer with an exceptional ability to solve complex problems with simple solutions. His work on our project exceeded our expectations. Highly recommend him for any AI-driven projects.'}}\",\n",
      "  \"Number of Recommendations\": 1,\n",
      "  \"Projects\": \"{'0': {'Title': 'E-commerce AI Chatbot', 'Date': 'Jun 2020 - Present', 'Description': 'Developed an AI Chatbot that leverages natural language processing to understand customer queries and provide meaningful responses, increasing customer engagement by 40%.'}}\",\n",
      "  \"Number of Projects\": 1,\n",
      "  \"Publications\": \"{}\",\n",
      "  \"Number of Publications\": 0,\n",
      "  \"Courses\": \"{}\",\n",
      "  \"Number of Courses\": 0,\n",
      "  \"Honors\": \"{'0': {'Award': 'Innovation in AI Award', 'Info': 'Issued by TechAICon \\u00b7 Mar 2021', 'Description': 'Received for developing an innovative AI-based solution to streamline online customer support.'}}\",\n",
      "  \"Number of Honors\": 1,\n",
      "  \"Scores\": \"{}\",\n",
      "  \"Number of Scores\": 0,\n",
      "  \"Languages\": \"{'Language 0': 'English', 'Language 1': 'Hindi'}\",\n",
      "  \"Number of Languages\": 2,\n",
      "  \"Organizations\": \"{'0': {'Organization': 'Indian Institute of Technology Alumni Association', 'Role': 'Member \\u00b7 Jun 2010 - Present'}}\",\n",
      "  \"Number of Organizations\": 1,\n",
      "  \"Interests\": \"{'0': {'Interest': 'DeepMind', 'ID': '4199432', 'Category': 'company', 'URL': 'https://www.linkedin.com/company/4199432'}, '1': {'Interest': 'OpenAI', 'ID': '10311366', 'Category': 'company', 'URL': 'https://www.linkedin.com/company/10311366'}, '2': {'Interest': 'Google AI', 'ID': '4417319', 'Category': 'company', 'URL': 'https://www.linkedin.com/company/4417319'}}\",\n",
      "  \"Number of Interests\": 3,\n",
      "  \"Activities\": \"{}\",\n",
      "  \"Number of Activities\": 0,\n",
      "  \"Label\": 0\n",
      "}\n"
     ]
    },
    {
     "name": "stderr",
     "output_type": "stream",
     "text": [
      "Generating profiles:  15%|█████▎                              | 265/1800 [18:44<20:10:00, 47.30s/it]"
     ]
    },
    {
     "name": "stdout",
     "output_type": "stream",
     "text": [
      "\n",
      "Saved 265 profiles to: generated_profiles_NEW.csv\n",
      "Completed batch 5, total profiles generated: 265\n",
      "\n",
      "Starting batch 6/312\n",
      "Selected 5 new random example profiles for this batch\n"
     ]
    },
    {
     "name": "stderr",
     "output_type": "stream",
     "text": [
      "Generating profiles:  15%|█████▍                              | 270/1800 [23:00<21:05:58, 49.65s/it]"
     ]
    },
    {
     "name": "stdout",
     "output_type": "stream",
     "text": [
      "\n",
      "Saved 270 profiles to: generated_profiles_NEW.csv\n",
      "Completed batch 6, total profiles generated: 270\n",
      "\n",
      "Starting batch 7/312\n",
      "Selected 5 new random example profiles for this batch\n"
     ]
    },
    {
     "name": "stderr",
     "output_type": "stream",
     "text": [
      "Generating profiles:  15%|█████▌                              | 275/1800 [26:22<17:04:02, 40.29s/it]"
     ]
    },
    {
     "name": "stdout",
     "output_type": "stream",
     "text": [
      "\n",
      "Saved 275 profiles to: generated_profiles_NEW.csv\n",
      "Completed batch 7, total profiles generated: 275\n",
      "\n",
      "Starting batch 8/312\n",
      "Selected 5 new random example profiles for this batch\n"
     ]
    },
    {
     "name": "stderr",
     "output_type": "stream",
     "text": [
      "Generating profiles:  16%|█████▌                              | 280/1800 [30:03<19:15:37, 45.62s/it]"
     ]
    },
    {
     "name": "stdout",
     "output_type": "stream",
     "text": [
      "\n",
      "Saved 280 profiles to: generated_profiles_NEW.csv\n",
      "Completed batch 8, total profiles generated: 280\n",
      "\n",
      "Starting batch 9/312\n",
      "Selected 5 new random example profiles for this batch\n"
     ]
    },
    {
     "name": "stderr",
     "output_type": "stream",
     "text": [
      "Generating profiles:  16%|█████▋                              | 285/1800 [33:26<17:17:59, 41.11s/it]"
     ]
    },
    {
     "name": "stdout",
     "output_type": "stream",
     "text": [
      "\n",
      "Saved 285 profiles to: generated_profiles_NEW.csv\n",
      "Completed batch 9, total profiles generated: 285\n",
      "\n",
      "Starting batch 10/312\n",
      "Selected 5 new random example profiles for this batch\n"
     ]
    },
    {
     "name": "stderr",
     "output_type": "stream",
     "text": [
      "Generating profiles:  16%|█████▊                              | 290/1800 [37:27<20:35:44, 49.10s/it]"
     ]
    },
    {
     "name": "stdout",
     "output_type": "stream",
     "text": [
      "\n",
      "Saved 290 profiles to: generated_profiles_NEW.csv\n",
      "Completed batch 10, total profiles generated: 290\n",
      "\n",
      "Starting batch 11/312\n",
      "Selected 5 new random example profiles for this batch\n"
     ]
    },
    {
     "name": "stderr",
     "output_type": "stream",
     "text": [
      "Generating profiles:  16%|█████▊                              | 291/1800 [38:20<21:00:10, 50.11s/it]"
     ]
    },
    {
     "name": "stdout",
     "output_type": "stream",
     "text": [
      "\n",
      "Invalid JSON received:\n",
      "{\n",
      "    \"Intro\": \"{'Full Name': 'Sofia Alvarez', 'Workplace': 'Head of Marketing | Fostering Brand Growth through Strategic Digital Campaigns.', 'Location': 'Mexico City, Mexico', 'Connections': '500+', 'Photo': 'Yes', 'Followers': '982'}\",\n",
      "    \"Full Name\": \"Sofia Alvarez\",\n",
      "    \"Workplace\": \"Head of Marketing | Fostering Brand Growth through Strategic Digital Campaigns.\",\n",
      "    \"Location\": \"Mexico City, Mexico\",\n",
      "    \"Connections\": 500,\n",
      "    \"Photo\": \"Yes\",\n",
      "    \"Followers\": 982,\n",
      "    \"About\": NaN,\n",
      "    \"Experiences\": \"{'0': {'Role': 'Head of Marketing', 'Workplace': 'Estrella Digital LLC \\u00b7 Full-time', 'Duration': 'Aug 2018 - Present \\u00b7 4 yrs 7 mos', 'Workplace Location': 'Mexico City, Mexico', 'Description': 'Leading a team focused on developing and executing innovative digital marketing strategies for a leading e-commerce solution provider in LATAM. Managed multiple high-budget campaigns across search engines, social media, and mobile platforms, significantly increasing brand visibility and sales. Established successful partnerships for cross-promotional marketing ventures, optimizing the brand's reach.'}, '1': {'Role': 'Digital Marketing Manager', 'Workplace': 'SolarTech Renewables', 'Duration': 'Jan 2015 - Jul 2018 \\u00b7 3 yrs 7 mos', 'Workplace Location': 'Mexico City, Mexico', 'Description': 'Oversaw the digital marketing department, driving brand growth through targeted social media campaigns and SEO/SEM strategies. Spearheaded the development of a new digital branding strategy that resulted in a 50% growth in online traffic within the first year. Collaborated with sales and product teams to align digital marketing strategies with overall business goals.'}, '2': {'Role': 'Marketing Specialist', 'Workplace': 'Verde Sustentable', 'Duration': 'May 2012 - Dec 2014 \\u00b7 2 yrs 8 mos', 'Workplace Location': 'Guadalajara, Mexico', 'Description': 'Implemented key digital marketing initiatives for this environmental non-profit organization, increasing online engagement by over 40% and boosting fundraising efforts. Managed social media accounts and content creation, leveraging analytics to optimize campaign performance and reach.'}}\",\n",
      "    \"Number of Experiences\": 3,\n",
      "    \"Educations\": \"{'0': {'Institute': 'Universidad Nacional Autónoma de México (UNAM)', 'Degree': 'Master of Business Administration (MBA)', 'Duration': '2016 - 2018', 'Description': 'Specialization in Digital Marketing'}, '1': {'Institute': 'Instituto Tecnológico y de Estudios Superiores de Monterrey (ITESM)', 'Degree': 'Bachelor\\u2019s Degree, Marketing', 'Duration': '2008 - 2012', 'Description': 'Activities and societies: Member of the Marketing Club, Volunteer at the Annual Technology and Innovation Conference'}}\",\n",
      "    \"Number of Educations\": 2,\n",
      "    \"Licenses\": \"{}\",\n",
      "    \"Number of Licenses\": 0,\n",
      "    \"Volunteering\": \"{'0': {'Role': 'Social Media Advisor', 'Organization': 'Tech Women Mexico', 'Duration': 'Jun 2019 - Present \\u00b7 3 yrs 9 mos', 'Description': 'Providing strategic advice and planning for social media campaigns aimed at empowering women in the technology sector in Mexico. Collaborated on community management and content creation, significantly increasing the organization's online presence and engagement.'}}\",\n",
      "    \"Number of Volunteering\": 1,\n",
      "    \"Skills\": \"{'Skill 0': 'Digital Marketing', 'Skill 1': 'SEO/SEM', 'Skill 2': 'Social Media Marketing', 'Skill 3': 'Brand Development', 'Skill 4': 'Content Strategy'}\",\n",
      "    \"Number of Skills\": 5,\n",
      "    \"Recommendations\": \"{}\",\n",
      "    \"Number of Recommendations\": 0,\n",
      "    \"Projects\": \"{}\",\n",
      "    \"Number of Projects\": 0,\n",
      "    \"Publications\": \"{}\",\n",
      "    \"Number of Publications\": 0,\n",
      "    \"Courses\": \"{}\",\n",
      "    \"Number of Courses\": 0,\n",
      "    \"Honors\": \"{}\",\n",
      "    \"Number of Honors\": 0,\n",
      "    \"Scores\": \"{}\",\n",
      "    \"Number of Scores\": 0,\n",
      "    \"Languages\": \"{'Language 0': 'Spanish', 'Language 1': 'English'}\",\n",
      "    \"Number of Languages\": 2,\n",
      "    \"Organizations\": \"{}\",\n",
      "    \"Number of Organizations\": 0,\n",
      "    \"Interests\": \"{'0': {'Interest': 'Gary Vaynerchuk', 'ID': 'garyvaynerchuk', 'Category': 'in', 'URL': 'https://www.linkedin.com/in/garyvaynerchuk'}, '1': {'Interest': 'TED Conferences', 'ID': '164727', 'Category': 'company', 'URL': 'https://www.linkedin.com/company/164727'}, '2': {'Interest': 'Marketing and Advertising Professionals', 'ID': '4426775', 'Category': 'groups', 'URL': 'https://www.linkedin.com/groups/4426775'}, '3': {'Interest': 'Digital Marketing Trends', 'ID': '6596789', 'Category': 'groups', 'URL': 'https://www.linkedin.com/groups/6596789'}, '4': {'Interest': 'UNAM - Universidad Nacional Autónoma de México', 'ID': '134086', 'Category': 'school', 'URL': 'https://www.linkedin.com/school/134086'}, '5': {'Interest': 'ITESM Campus Monterrey', 'ID': '107472', 'Category': 'school', 'URL': 'https://www.linkedin.com/school/107472'}}\",\n",
      "    \"Number of Interests\": 6,\n",
      "    \"Activities\": \"{'karen-m']))\n",
      "    \"Number of Activities\": 15,\n",
      "    \"Label\": 0\n",
      "}\n",
      "JSON Error: Invalid control character at: line 38 column 33 (char 4877)\n",
      "\n",
      "Retry 1/3 after error: Invalid control character at: line 38 column 33 (char 4877)\n",
      "Last response received: {\n",
      "    \"Intro\": \"{'Full Name': 'Sofia Alvarez', 'Workplace': 'Head of Marketing | Fostering Brand Growth through Strategic Digital Campaigns.', 'Location': 'Mexico City, Mexico', 'Connections': '500+', 'Photo': 'Yes', 'Followers': '982'}\",\n",
      "    \"Full Name\": \"Sofia Alvarez\",\n",
      "    \"Workplace\": \"Head of Marketing | Fostering Brand Growth through Strategic Digital Campaigns.\",\n",
      "    \"Location\": \"Mexico City, Mexico\",\n",
      "    \"Connections\": 500,\n",
      "    \"Photo\": \"Yes\",\n",
      "    \"Followers\": 982,\n",
      "    \"About\": NaN,\n",
      "    \"Experiences\": \"{'0': {'Role': 'Head of Marketing', 'Workplace': 'Estrella Digital LLC \\u00b7 Full-time', 'Duration': 'Aug 2018 - Present \\u00b7 4 yrs 7 mos', 'Workplace Location': 'Mexico City, Mexico', 'Description': 'Leading a team focused on developing and executing innovative digital marketing strategies for a leading e-commerce solution provider in LATAM. Managed multiple high-budget campaigns across search engines, social media, and mobile platforms, significantly increasing brand visibility and sales. Established successful partnerships for cross-promotional marketing ventures, optimizing the brand's reach.'}, '1': {'Role': 'Digital Marketing Manager', 'Workplace': 'SolarTech Renewables', 'Duration': 'Jan 2015 - Jul 2018 \\u00b7 3 yrs 7 mos', 'Workplace Location': 'Mexico City, Mexico', 'Description': 'Oversaw the digital marketing department, driving brand growth through targeted social media campaigns and SEO/SEM strategies. Spearheaded the development of a new digital branding strategy that resulted in a 50% growth in online traffic within the first year. Collaborated with sales and product teams to align digital marketing strategies with overall business goals.'}, '2': {'Role': 'Marketing Specialist', 'Workplace': 'Verde Sustentable', 'Duration': 'May 2012 - Dec 2014 \\u00b7 2 yrs 8 mos', 'Workplace Location': 'Guadalajara, Mexico', 'Description': 'Implemented key digital marketing initiatives for this environmental non-profit organization, increasing online engagement by over 40% and boosting fundraising efforts. Managed social media accounts and content creation, leveraging analytics to optimize campaign performance and reach.'}}\",\n",
      "    \"Number of Experiences\": 3,\n",
      "    \"Educations\": \"{'0': {'Institute': 'Universidad Nacional Autónoma de México (UNAM)', 'Degree': 'Master of Business Administration (MBA)', 'Duration': '2016 - 2018', 'Description': 'Specialization in Digital Marketing'}, '1': {'Institute': 'Instituto Tecnológico y de Estudios Superiores de Monterrey (ITESM)', 'Degree': 'Bachelor\\u2019s Degree, Marketing', 'Duration': '2008 - 2012', 'Description': 'Activities and societies: Member of the Marketing Club, Volunteer at the Annual Technology and Innovation Conference'}}\",\n",
      "    \"Number of Educations\": 2,\n",
      "    \"Licenses\": \"{}\",\n",
      "    \"Number of Licenses\": 0,\n",
      "    \"Volunteering\": \"{'0': {'Role': 'Social Media Advisor', 'Organization': 'Tech Women Mexico', 'Duration': 'Jun 2019 - Present \\u00b7 3 yrs 9 mos', 'Description': 'Providing strategic advice and planning for social media campaigns aimed at empowering women in the technology sector in Mexico. Collaborated on community management and content creation, significantly increasing the organization's online presence and engagement.'}}\",\n",
      "    \"Number of Volunteering\": 1,\n",
      "    \"Skills\": \"{'Skill 0': 'Digital Marketing', 'Skill 1': 'SEO/SEM', 'Skill 2': 'Social Media Marketing', 'Skill 3': 'Brand Development', 'Skill 4': 'Content Strategy'}\",\n",
      "    \"Number of Skills\": 5,\n",
      "    \"Recommendations\": \"{}\",\n",
      "    \"Number of Recommendations\": 0,\n",
      "    \"Projects\": \"{}\",\n",
      "    \"Number of Projects\": 0,\n",
      "    \"Publications\": \"{}\",\n",
      "    \"Number of Publications\": 0,\n",
      "    \"Courses\": \"{}\",\n",
      "    \"Number of Courses\": 0,\n",
      "    \"Honors\": \"{}\",\n",
      "    \"Number of Honors\": 0,\n",
      "    \"Scores\": \"{}\",\n",
      "    \"Number of Scores\": 0,\n",
      "    \"Languages\": \"{'Language 0': 'Spanish', 'Language 1': 'English'}\",\n",
      "    \"Number of Languages\": 2,\n",
      "    \"Organizations\": \"{}\",\n",
      "    \"Number of Organizations\": 0,\n",
      "    \"Interests\": \"{'0': {'Interest': 'Gary Vaynerchuk', 'ID': 'garyvaynerchuk', 'Category': 'in', 'URL': 'https://www.linkedin.com/in/garyvaynerchuk'}, '1': {'Interest': 'TED Conferences', 'ID': '164727', 'Category': 'company', 'URL': 'https://www.linkedin.com/company/164727'}, '2': {'Interest': 'Marketing and Advertising Professionals', 'ID': '4426775', 'Category': 'groups', 'URL': 'https://www.linkedin.com/groups/4426775'}, '3': {'Interest': 'Digital Marketing Trends', 'ID': '6596789', 'Category': 'groups', 'URL': 'https://www.linkedin.com/groups/6596789'}, '4': {'Interest': 'UNAM - Universidad Nacional Autónoma de México', 'ID': '134086', 'Category': 'school', 'URL': 'https://www.linkedin.com/school/134086'}, '5': {'Interest': 'ITESM Campus Monterrey', 'ID': '107472', 'Category': 'school', 'URL': 'https://www.linkedin.com/school/107472'}}\",\n",
      "    \"Number of Interests\": 6,\n",
      "    \"Activities\": \"{'karen-m']))\n",
      "    \"Number of Activities\": 15,\n",
      "    \"Label\": 0\n",
      "}\n"
     ]
    },
    {
     "name": "stderr",
     "output_type": "stream",
     "text": [
      "Generating profiles:  16%|█████▉                              | 295/1800 [42:41<23:06:27, 55.27s/it]"
     ]
    },
    {
     "name": "stdout",
     "output_type": "stream",
     "text": [
      "\n",
      "Saved 295 profiles to: generated_profiles_NEW.csv\n",
      "Completed batch 11, total profiles generated: 295\n",
      "\n",
      "Starting batch 12/312\n",
      "Selected 5 new random example profiles for this batch\n"
     ]
    },
    {
     "name": "stderr",
     "output_type": "stream",
     "text": [
      "Generating profiles:  17%|██████                              | 300/1800 [46:26<20:18:05, 48.72s/it]"
     ]
    },
    {
     "name": "stdout",
     "output_type": "stream",
     "text": [
      "\n",
      "Saved 300 profiles to: generated_profiles_NEW.csv\n",
      "Completed batch 12, total profiles generated: 300\n",
      "\n",
      "Starting batch 13/312\n",
      "Selected 5 new random example profiles for this batch\n"
     ]
    },
    {
     "name": "stderr",
     "output_type": "stream",
     "text": [
      "Generating profiles:  17%|██████                              | 303/1800 [49:14<22:36:42, 54.38s/it]"
     ]
    },
    {
     "name": "stdout",
     "output_type": "stream",
     "text": [
      "\n",
      "Invalid JSON received:\n",
      "{\n",
      "    \"Intro\": \"{'Full Name': 'Mireille Okoro', 'Workplace': 'Solutions Architect at Andela', 'Location': 'Lagos, Nigeria', 'Connections': '500+', 'Photo': 'Yes', 'Followers': ''}\",\n",
      "    \"Full Name\": \"Mireille Okoro\",\n",
      "    \"Workplace\": \"Solutions Architect at Andela\",\n",
      "    \"Location\": \"Lagos, Nigeria\",\n",
      "    \"Connections\": 500,\n",
      "    \"Photo\": \"Yes\",\n",
      "    \"Followers\": 3200,\n",
      "    \"About\": NaN,\n",
      "    \"Experiences\": \"{'0': {'Role': 'Solutions Architect', 'Workplace': 'Andela \\u00b7 Full-time', 'Duration': 'Jan 2020 - Present \\u00b7 3 yrs 2 mos', 'Workplace Location': 'Lagos, Nigeria', 'Description': 'Lead the development of tailor-made software solutions to meet the needs of global clients. Implement best practices in software architecture while mentoring a team of developers.'}, '1': {'Workplace': 'Interswitch Group', 'Role': 'Software Developer', 'Duration': 'Feb 2016 - Dec 2019 \\u00b7 3 yrs 11 mos', 'Workplace Location': 'Lagos, Nigeria', 'Description': 'Developed payment solutions for the African market, contributing significantly to digital transactions growth in the region.'}, '2': {'Workplace': 'Freelance', 'Role': 'Software Consultant', 'Duration': 'May 2014 - Jan 2016 \\u00b7 1 yr 9 mos', 'Workplace Location': 'Lagos, Nigeria', 'Description': 'Provided consultancy services for software development projects, specializing in fintech and e-commerce.'}}\",\n",
      "    \"Number of Experiences\": 3,\n",
      "    \"Educations\": \"{'0': {'Institute': 'University of Lagos', 'Degree': 'BSc, Computer Science', 'Duration': '2009 - 2013', 'Description': ''}}\",\n",
      "    \"Number of Educations\": 1,\n",
      "    \"Licenses\": \"{}\",\n",
      "    \"Number of Licenses\": 0,\n",
      "    \"Volunteering\": \"{}\",\n",
      "    \"Number of Volunteering\": 0,\n",
      "    \"Skills\": \"{'Skill 0': 'Software Development', 'Skill 1': 'Solution Architecture', 'Skill 2': 'Team Leadership', 'Skill 3': 'Fintech'}\",\n",
      "    \"Number of Skills\": 4,\n",
      "    \"Recommendations\": \"{'0': {'User': 'Chibuzor Nwaobasi', 'Category': 'in', 'ID': 'chibuzornwaobasi', 'URL': 'https://www.linkedin.com/in/chibuzornwaobasi', 'Relation': 'January 15, 2021, Mireille managed Chibuzor directly', 'Description': 'Mireille is an exceptional mentor and leader. Her expertise in software architecture and commitment to excellence have greatly contributed to the team\\'s success. She\\'s an inspirational leader who always ensures the delivery of high-quality solutions.'}}\",\n",
      "    \"Number of Recommendations\": 1,\n",
      "    \"Projects\": \"{}\",\n",
      "    \"Number of Projects\": 0,\n",
      "    \"Publications\": \"{}\",\n",
      "    \"Number of Publications\": 0,\n",
      "    \"Courses\": \"{}\",\n",
      "    \"Number of Courses\": 0,\n",
      "    \"Honors\": \"{}\",\n",
      "    \"Number of Honors\": 0,\n",
      "    \"Scores\": \"{}\",\n",
      "    \"Number of Scores\": 0,\n",
      "    \"Languages\": \"{}\",\n",
      "    \"Number of Languages\": 0,\n",
      "    \"Organizations\": \"{}\",\n",
      "    \"Number of Organizations\": 0,\n",
      "    \"Interests\": \"{'0': {'Interest': 'Google Africa', 'ID': 'googleafrica', 'Category': 'company', 'URL': 'https://www.linkedin.com/company/googleafrica'}, '1': {'Interest': 'Microsoft', 'ID': '1035', 'Category': 'company', 'URL': 'https://www.linkedin.com/company/1035'}, '2': {'Interest': 'TED Conferences', 'ID': '31644', 'Category': 'company', 'URL': 'https://www.linkedin.com/company/31644'}, '3': {'Interest': 'Andela', 'ID': '11245933', 'Category': 'company', 'URL': 'https://www.linkedin.com/company/11245933'}, '4': {'Interest': 'Women Who Code', 'ID': '4833328', 'Category': 'groups', 'URL': 'https://www.linkedin.com/groups/4833328'}, '5': {'Interest': 'University of Lagos', 'ID': '159041', 'Category': 'school', 'URL': 'https://www.linkedin.com/school/159041'}}\",\n",
      "    \"Number of Interests\": 6,\n",
      "    \"Activities\": \"{'samantha-john-ccc241a': {'Full Name': 'Samantha John', 'Category': 'in', 'URL': 'https://www.linkedin.com/in/samantha-john-ccc241a'}, 'emeka-akinwale-73340810': {'Full Name': 'Emeka Akinwale', 'Category': 'in', 'URL': 'https://www.linkedin.com/in/emeka-akinwale-73340810'}, 'amaka_useme43902': {'Full Name': 'Amaka Useme', 'Category': 'in', 'URL': 'https://www.linkedin.com/in/amaka_useme43902'}, 'kenenna-okoye-12a45678': {'Full Name': 'Kenenna Okoye', 'Category': 'in', 'URL': 'https://www.linkedin.com/in/kenenna-okoye-12a45678'}}\",\n",
      "    \"Number of Activities\": 4,\n",
      "    \"Label\": 0\n",
      "}\n",
      "JSON Error: Invalid \\escape: line 20 column 394 (char 2247)\n",
      "\n",
      "Retry 1/3 after error: Invalid \\escape: line 20 column 394 (char 2247)\n",
      "Last response received: {\n",
      "    \"Intro\": \"{'Full Name': 'Mireille Okoro', 'Workplace': 'Solutions Architect at Andela', 'Location': 'Lagos, Nigeria', 'Connections': '500+', 'Photo': 'Yes', 'Followers': ''}\",\n",
      "    \"Full Name\": \"Mireille Okoro\",\n",
      "    \"Workplace\": \"Solutions Architect at Andela\",\n",
      "    \"Location\": \"Lagos, Nigeria\",\n",
      "    \"Connections\": 500,\n",
      "    \"Photo\": \"Yes\",\n",
      "    \"Followers\": 3200,\n",
      "    \"About\": NaN,\n",
      "    \"Experiences\": \"{'0': {'Role': 'Solutions Architect', 'Workplace': 'Andela \\u00b7 Full-time', 'Duration': 'Jan 2020 - Present \\u00b7 3 yrs 2 mos', 'Workplace Location': 'Lagos, Nigeria', 'Description': 'Lead the development of tailor-made software solutions to meet the needs of global clients. Implement best practices in software architecture while mentoring a team of developers.'}, '1': {'Workplace': 'Interswitch Group', 'Role': 'Software Developer', 'Duration': 'Feb 2016 - Dec 2019 \\u00b7 3 yrs 11 mos', 'Workplace Location': 'Lagos, Nigeria', 'Description': 'Developed payment solutions for the African market, contributing significantly to digital transactions growth in the region.'}, '2': {'Workplace': 'Freelance', 'Role': 'Software Consultant', 'Duration': 'May 2014 - Jan 2016 \\u00b7 1 yr 9 mos', 'Workplace Location': 'Lagos, Nigeria', 'Description': 'Provided consultancy services for software development projects, specializing in fintech and e-commerce.'}}\",\n",
      "    \"Number of Experiences\": 3,\n",
      "    \"Educations\": \"{'0': {'Institute': 'University of Lagos', 'Degree': 'BSc, Computer Science', 'Duration': '2009 - 2013', 'Description': ''}}\",\n",
      "    \"Number of Educations\": 1,\n",
      "    \"Licenses\": \"{}\",\n",
      "    \"Number of Licenses\": 0,\n",
      "    \"Volunteering\": \"{}\",\n",
      "    \"Number of Volunteering\": 0,\n",
      "    \"Skills\": \"{'Skill 0': 'Software Development', 'Skill 1': 'Solution Architecture', 'Skill 2': 'Team Leadership', 'Skill 3': 'Fintech'}\",\n",
      "    \"Number of Skills\": 4,\n",
      "    \"Recommendations\": \"{'0': {'User': 'Chibuzor Nwaobasi', 'Category': 'in', 'ID': 'chibuzornwaobasi', 'URL': 'https://www.linkedin.com/in/chibuzornwaobasi', 'Relation': 'January 15, 2021, Mireille managed Chibuzor directly', 'Description': 'Mireille is an exceptional mentor and leader. Her expertise in software architecture and commitment to excellence have greatly contributed to the team\\'s success. She\\'s an inspirational leader who always ensures the delivery of high-quality solutions.'}}\",\n",
      "    \"Number of Recommendations\": 1,\n",
      "    \"Projects\": \"{}\",\n",
      "    \"Number of Projects\": 0,\n",
      "    \"Publications\": \"{}\",\n",
      "    \"Number of Publications\": 0,\n",
      "    \"Courses\": \"{}\",\n",
      "    \"Number of Courses\": 0,\n",
      "    \"Honors\": \"{}\",\n",
      "    \"Number of Honors\": 0,\n",
      "    \"Scores\": \"{}\",\n",
      "    \"Number of Scores\": 0,\n",
      "    \"Languages\": \"{}\",\n",
      "    \"Number of Languages\": 0,\n",
      "    \"Organizations\": \"{}\",\n",
      "    \"Number of Organizations\": 0,\n",
      "    \"Interests\": \"{'0': {'Interest': 'Google Africa', 'ID': 'googleafrica', 'Category': 'company', 'URL': 'https://www.linkedin.com/company/googleafrica'}, '1': {'Interest': 'Microsoft', 'ID': '1035', 'Category': 'company', 'URL': 'https://www.linkedin.com/company/1035'}, '2': {'Interest': 'TED Conferences', 'ID': '31644', 'Category': 'company', 'URL': 'https://www.linkedin.com/company/31644'}, '3': {'Interest': 'Andela', 'ID': '11245933', 'Category': 'company', 'URL': 'https://www.linkedin.com/company/11245933'}, '4': {'Interest': 'Women Who Code', 'ID': '4833328', 'Category': 'groups', 'URL': 'https://www.linkedin.com/groups/4833328'}, '5': {'Interest': 'University of Lagos', 'ID': '159041', 'Category': 'school', 'URL': 'https://www.linkedin.com/school/159041'}}\",\n",
      "    \"Number of Interests\": 6,\n",
      "    \"Activities\": \"{'samantha-john-ccc241a': {'Full Name': 'Samantha John', 'Category': 'in', 'URL': 'https://www.linkedin.com/in/samantha-john-ccc241a'}, 'emeka-akinwale-73340810': {'Full Name': 'Emeka Akinwale', 'Category': 'in', 'URL': 'https://www.linkedin.com/in/emeka-akinwale-73340810'}, 'amaka_useme43902': {'Full Name': 'Amaka Useme', 'Category': 'in', 'URL': 'https://www.linkedin.com/in/amaka_useme43902'}, 'kenenna-okoye-12a45678': {'Full Name': 'Kenenna Okoye', 'Category': 'in', 'URL': 'https://www.linkedin.com/in/kenenna-okoye-12a45678'}}\",\n",
      "    \"Number of Activities\": 4,\n",
      "    \"Label\": 0\n",
      "}\n"
     ]
    },
    {
     "name": "stderr",
     "output_type": "stream",
     "text": [
      "Generating profiles:  17%|██████                              | 305/1800 [51:54<26:41:18, 64.27s/it]"
     ]
    },
    {
     "name": "stdout",
     "output_type": "stream",
     "text": [
      "\n",
      "Saved 305 profiles to: generated_profiles_NEW.csv\n",
      "Completed batch 13, total profiles generated: 305\n",
      "\n",
      "Starting batch 14/312\n",
      "Selected 5 new random example profiles for this batch\n"
     ]
    },
    {
     "name": "stderr",
     "output_type": "stream",
     "text": [
      "Generating profiles:  17%|██████▏                             | 310/1800 [55:55<20:34:28, 49.71s/it]"
     ]
    },
    {
     "name": "stdout",
     "output_type": "stream",
     "text": [
      "\n",
      "Saved 310 profiles to: generated_profiles_NEW.csv\n",
      "Completed batch 14, total profiles generated: 310\n",
      "\n",
      "Starting batch 15/312\n",
      "Selected 5 new random example profiles for this batch\n"
     ]
    },
    {
     "name": "stderr",
     "output_type": "stream",
     "text": [
      "Generating profiles:  18%|█████▉                            | 315/1800 [1:00:30<22:59:45, 55.75s/it]"
     ]
    },
    {
     "name": "stdout",
     "output_type": "stream",
     "text": [
      "\n",
      "Saved 315 profiles to: generated_profiles_NEW.csv\n",
      "Completed batch 15, total profiles generated: 315\n",
      "\n",
      "Starting batch 16/312\n",
      "Selected 5 new random example profiles for this batch\n"
     ]
    },
    {
     "name": "stderr",
     "output_type": "stream",
     "text": [
      "Generating profiles:  18%|██████                            | 320/1800 [1:04:54<21:03:25, 51.22s/it]"
     ]
    },
    {
     "name": "stdout",
     "output_type": "stream",
     "text": [
      "\n",
      "Saved 320 profiles to: generated_profiles_NEW.csv\n",
      "Completed batch 16, total profiles generated: 320\n",
      "\n",
      "Starting batch 17/312\n",
      "Selected 5 new random example profiles for this batch\n"
     ]
    },
    {
     "name": "stderr",
     "output_type": "stream",
     "text": [
      "Generating profiles:  18%|██████                            | 323/1800 [1:07:22<19:56:49, 48.62s/it]"
     ]
    },
    {
     "name": "stdout",
     "output_type": "stream",
     "text": [
      "\n",
      "Invalid JSON received:\n",
      "{\n",
      "  \"Intro\": \"{'Full Name': 'Tariq Jabari', 'Workplace': 'CO-FOUNDER AND CTO, QuBit Tech Solutions', 'Location': 'Dubai, United Arab Emirates', 'Connections': '500+', 'Photo': 'Yes', 'Followers': '2,100'}\",\n",
      "  \"Full Name\": \"Tariq Jabari\",\n",
      "  \"Workplace\": \"CO-FOUNDER AND CTO, QuBit Tech Solutions\",\n",
      "  \"Location\": \"Dubai, United Arab Emirates\",\n",
      "  \"Connections\": 500,\n",
      "  \"Photo\": \"Yes\",\n",
      "  \"Followers\": 2100,\n",
      "  \"About\": NaN,\n",
      "  \"Experiences\": \"{'0': {'Role': 'Co-Founder & CTO', 'Workplace': 'QuBit Tech Solutions', 'Duration': 'Jun 2018 - Present · 4 yrs 9 mos', 'Workplace Location': 'Dubai, United Arab Emirates', 'Description': 'Oversaw creation and market introduction of innovative software solutions targeting industry pain points with AI and machine learning technology. Led cross-functional global teams and scaled the organization from startup phase to a competitive player within the fintech environment.'}, '1': {'Role': 'Senior Software Developer', 'Workplace': 'EmerTech Innovations', 'Duration': 'Jan 2015 - May 2018 · 3 yrs 5 mos', 'Workplace Location': 'Dubai, United Arab Emirates', 'Description': 'Developed scalable software architecture for blockchain applications targeting logistics and supply chain transparency. Mentored junior developers and collaborated with product teams to integrate customer feedback and improve product offerings.'}, '2': {'Role': 'Software Engineer', 'Workplace': 'TechSphere Ltd', 'Duration': 'Aug 2010 - Dec 2014 · 4 yrs 5 mos', 'Workplace Location': 'Abu Dhabi, United Arab Emirates', 'Description': 'Contributed to the development team of cloud computing services and advanced analytics platforms while promoting agile development methodologies and continuous improvement practices within the team.'}}\",\n",
      "  \"Number of Experiences\": 3,\n",
      "  \"Educations\": \"{'0': {'Institute': 'University of Dubai', 'Degree': 'Master of Science (M.Sc.), Computer Science', 'Duration': '2012 - 2014', 'Description': 'Specialization in Artificial Intelligence and Machine Learning.'}, '1': {'Institute': 'American University of Sharjah', 'Degree': 'Bachelor of Science (B.Sc.), Computer Science', 'Duration': '2006 - 2010', 'Description': 'Member of the Computer Science Club and winner of the annual hackathon in 2010.'}}\",\n",
      "  \"Number of Educations\": 2,\n",
      "  \"Licenses\": \"{'0': {'Title': 'Certified ScrumMaster® (CSM®)', 'Company': 'Scrum Alliance', 'Description': 'Issued May 2016 · No Expiration Date'}, '1': {'Title': 'AWS Certified Solutions Architect - Associate', 'Company': 'Amazon Web Services (AWS)', 'Description': 'Issued Jan 2017 · Expires Jan 2023'}}\",\n",
      "  \"Number of Licenses\": 2,\n",
      "  \"Volunteering\": \"{'0': {'Role': 'Mentor', 'Organization': 'Code for Good - UAE', 'Duration': 'Feb 2019 - Present · 4 yrs', 'Description': 'Mentoring young technology enthusiasts and guiding early-stage tech startups with a focus on socially impactful solutions.'}}\",\n",
      "  \"Number of Volunteering\": 1,\n",
      "  \"Skills\": \"{'Skill 0': 'AI and Machine Learning', 'Skill 1': 'Blockchain Technology', 'Skill 2': 'Software Development', 'Skill 3': 'Agile Methodologies', 'Skill 4': 'Cloud Computing'}\",\n",
      "  \"Number of Skills\": 5,\n",
      "  \"Recommendations\": \"{'0': {'User': 'Ahmed Farid', 'Category': 'in', 'ID': 'ahmedfarid', 'URL': 'https://www.linkedin.com/in/ahmedfarid', 'Relation': 'June 12, 2019, Ahmed was a client of Tariq\\'s', 'Description': 'Tariq\\'s ability to navigate complex technical challenges while maintaining a clear focus on our project objectives was instrumental in the successful deployment of our blockchain-based platform. His technical expertise, especially in AI, has added immense value to our operations.'}}\",\n",
      "  \"Number of Recommendations\": 1,\n",
      "  \"Projects\": \"{}\",\n",
      "  \"Number of Projects\": 0,\n",
      "  \"Publications\": \"{}\",\n",
      "  \"Number of Publications\": 0,\n",
      "  \"Courses\": \"{}\",\n",
      "  \"Number of Courses\": 0,\n",
      "  \"Honors\": \"{}\",\n",
      "  \"Number of Honors\": 0,\n",
      "  \"Scores\": \"{}\",\n",
      "  \"Number of Scores\": 0,\n",
      "  \"Languages\": \"{'0': {'Language': 'English', 'Proficiency': 'Fluent'}, '1': {'Language': 'Arabic', 'Proficiency': 'Native'}}\",\n",
      "  \"Number of Languages\": 2,\n",
      "  \"Organizations\": \"{}\",\n",
      "  \"Number of Organizations\": 0,\n",
      "  \"Interests\": \"{'0': {'Interest': 'TechCrunch', 'ID': '2134', 'Category': 'company', 'URL': 'https://www.linkedin.com/company/2134'}, '1': {'Interest': 'Google AI', 'ID': '1687337', 'Category': 'company', 'URL': 'https://www.linkedin.com/company/1687337'}, '2': {'Interest': 'Elon Musk', 'ID': 'elonsmusk', 'Category': 'in', 'URL': 'https://www.linkedin.com/in/elonsmusk'}, '3': {'Interest': 'Cloud Computing', 'ID': '', 'Category': 'topics', 'URL': 'https://www.linkedin.com/topics/cloud-computing/'}, '4': {'Interest': 'Startups', 'ID': '', 'Category': 'topics', 'URL': 'https://www.linkedin.com/topics/startups/'}}\",\n",
      "  \"Number of Interests\": 5,\n",
      "  \"Activities\": \"{'satyanadella': {'Full Name': 'Satya Nadella', 'Category': 'in', 'URL': 'https://www.linkedin.com/in/satyanadella'}, 'reidhoffman': {'Full Name': 'Reid Hoffman', 'Category': 'in', 'URL': 'https://www.linkedin.com/in/reidhoffman'}, 'vitalikbuterin': {'Full Name': 'Vitalik Buterin', 'Category': 'in', 'URL': 'https://www.linkedin.com/in/vitalikbuterin'}, 'eva-ho-68b2864': {'Full Name': 'Eva Ho', 'Category': 'in', 'URL': 'https://www.linkedin.com/in/eva-ho-68b2864'}}\",\n",
      "  \"Number of Activities\": 4,\n",
      "  \"Label\": 0\n",
      "}\n",
      "JSON Error: Invalid \\escape: line 20 column 195 (char 3320)\n",
      "\n",
      "Retry 1/3 after error: Invalid \\escape: line 20 column 195 (char 3320)\n",
      "Last response received: {\n",
      "  \"Intro\": \"{'Full Name': 'Tariq Jabari', 'Workplace': 'CO-FOUNDER AND CTO, QuBit Tech Solutions', 'Location': 'Dubai, United Arab Emirates', 'Connections': '500+', 'Photo': 'Yes', 'Followers': '2,100'}\",\n",
      "  \"Full Name\": \"Tariq Jabari\",\n",
      "  \"Workplace\": \"CO-FOUNDER AND CTO, QuBit Tech Solutions\",\n",
      "  \"Location\": \"Dubai, United Arab Emirates\",\n",
      "  \"Connections\": 500,\n",
      "  \"Photo\": \"Yes\",\n",
      "  \"Followers\": 2100,\n",
      "  \"About\": NaN,\n",
      "  \"Experiences\": \"{'0': {'Role': 'Co-Founder & CTO', 'Workplace': 'QuBit Tech Solutions', 'Duration': 'Jun 2018 - Present · 4 yrs 9 mos', 'Workplace Location': 'Dubai, United Arab Emirates', 'Description': 'Oversaw creation and market introduction of innovative software solutions targeting industry pain points with AI and machine learning technology. Led cross-functional global teams and scaled the organization from startup phase to a competitive player within the fintech environment.'}, '1': {'Role': 'Senior Software Developer', 'Workplace': 'EmerTech Innovations', 'Duration': 'Jan 2015 - May 2018 · 3 yrs 5 mos', 'Workplace Location': 'Dubai, United Arab Emirates', 'Description': 'Developed scalable software architecture for blockchain applications targeting logistics and supply chain transparency. Mentored junior developers and collaborated with product teams to integrate customer feedback and improve product offerings.'}, '2': {'Role': 'Software Engineer', 'Workplace': 'TechSphere Ltd', 'Duration': 'Aug 2010 - Dec 2014 · 4 yrs 5 mos', 'Workplace Location': 'Abu Dhabi, United Arab Emirates', 'Description': 'Contributed to the development team of cloud computing services and advanced analytics platforms while promoting agile development methodologies and continuous improvement practices within the team.'}}\",\n",
      "  \"Number of Experiences\": 3,\n",
      "  \"Educations\": \"{'0': {'Institute': 'University of Dubai', 'Degree': 'Master of Science (M.Sc.), Computer Science', 'Duration': '2012 - 2014', 'Description': 'Specialization in Artificial Intelligence and Machine Learning.'}, '1': {'Institute': 'American University of Sharjah', 'Degree': 'Bachelor of Science (B.Sc.), Computer Science', 'Duration': '2006 - 2010', 'Description': 'Member of the Computer Science Club and winner of the annual hackathon in 2010.'}}\",\n",
      "  \"Number of Educations\": 2,\n",
      "  \"Licenses\": \"{'0': {'Title': 'Certified ScrumMaster® (CSM®)', 'Company': 'Scrum Alliance', 'Description': 'Issued May 2016 · No Expiration Date'}, '1': {'Title': 'AWS Certified Solutions Architect - Associate', 'Company': 'Amazon Web Services (AWS)', 'Description': 'Issued Jan 2017 · Expires Jan 2023'}}\",\n",
      "  \"Number of Licenses\": 2,\n",
      "  \"Volunteering\": \"{'0': {'Role': 'Mentor', 'Organization': 'Code for Good - UAE', 'Duration': 'Feb 2019 - Present · 4 yrs', 'Description': 'Mentoring young technology enthusiasts and guiding early-stage tech startups with a focus on socially impactful solutions.'}}\",\n",
      "  \"Number of Volunteering\": 1,\n",
      "  \"Skills\": \"{'Skill 0': 'AI and Machine Learning', 'Skill 1': 'Blockchain Technology', 'Skill 2': 'Software Development', 'Skill 3': 'Agile Methodologies', 'Skill 4': 'Cloud Computing'}\",\n",
      "  \"Number of Skills\": 5,\n",
      "  \"Recommendations\": \"{'0': {'User': 'Ahmed Farid', 'Category': 'in', 'ID': 'ahmedfarid', 'URL': 'https://www.linkedin.com/in/ahmedfarid', 'Relation': 'June 12, 2019, Ahmed was a client of Tariq\\'s', 'Description': 'Tariq\\'s ability to navigate complex technical challenges while maintaining a clear focus on our project objectives was instrumental in the successful deployment of our blockchain-based platform. His technical expertise, especially in AI, has added immense value to our operations.'}}\",\n",
      "  \"Number of Recommendations\": 1,\n",
      "  \"Projects\": \"{}\",\n",
      "  \"Number of Projects\": 0,\n",
      "  \"Publications\": \"{}\",\n",
      "  \"Number of Publications\": 0,\n",
      "  \"Courses\": \"{}\",\n",
      "  \"Number of Courses\": 0,\n",
      "  \"Honors\": \"{}\",\n",
      "  \"Number of Honors\": 0,\n",
      "  \"Scores\": \"{}\",\n",
      "  \"Number of Scores\": 0,\n",
      "  \"Languages\": \"{'0': {'Language': 'English', 'Proficiency': 'Fluent'}, '1': {'Language': 'Arabic', 'Proficiency': 'Native'}}\",\n",
      "  \"Number of Languages\": 2,\n",
      "  \"Organizations\": \"{}\",\n",
      "  \"Number of Organizations\": 0,\n",
      "  \"Interests\": \"{'0': {'Interest': 'TechCrunch', 'ID': '2134', 'Category': 'company', 'URL': 'https://www.linkedin.com/company/2134'}, '1': {'Interest': 'Google AI', 'ID': '1687337', 'Category': 'company', 'URL': 'https://www.linkedin.com/company/1687337'}, '2': {'Interest': 'Elon Musk', 'ID': 'elonsmusk', 'Category': 'in', 'URL': 'https://www.linkedin.com/in/elonsmusk'}, '3': {'Interest': 'Cloud Computing', 'ID': '', 'Category': 'topics', 'URL': 'https://www.linkedin.com/topics/cloud-computing/'}, '4': {'Interest': 'Startups', 'ID': '', 'Category': 'topics', 'URL': 'https://www.linkedin.com/topics/startups/'}}\",\n",
      "  \"Number of Interests\": 5,\n",
      "  \"Activities\": \"{'satyanadella': {'Full Name': 'Satya Nadella', 'Category': 'in', 'URL': 'https://www.linkedin.com/in/satyanadella'}, 'reidhoffman': {'Full Name': 'Reid Hoffman', 'Category': 'in', 'URL': 'https://www.linkedin.com/in/reidhoffman'}, 'vitalikbuterin': {'Full Name': 'Vitalik Buterin', 'Category': 'in', 'URL': 'https://www.linkedin.com/in/vitalikbuterin'}, 'eva-ho-68b2864': {'Full Name': 'Eva Ho', 'Category': 'in', 'URL': 'https://www.linkedin.com/in/eva-ho-68b2864'}}\",\n",
      "  \"Number of Activities\": 4,\n",
      "  \"Label\": 0\n",
      "}\n"
     ]
    },
    {
     "name": "stderr",
     "output_type": "stream",
     "text": [
      "Generating profiles:  18%|██████▏                           | 325/1800 [1:09:54<24:41:22, 60.26s/it]"
     ]
    },
    {
     "name": "stdout",
     "output_type": "stream",
     "text": [
      "\n",
      "Saved 325 profiles to: generated_profiles_NEW.csv\n",
      "Completed batch 17, total profiles generated: 325\n",
      "\n",
      "Starting batch 18/312\n",
      "Selected 5 new random example profiles for this batch\n"
     ]
    },
    {
     "name": "stderr",
     "output_type": "stream",
     "text": [
      "Generating profiles:  18%|██████▏                           | 330/1800 [1:13:59<20:07:06, 49.27s/it]"
     ]
    },
    {
     "name": "stdout",
     "output_type": "stream",
     "text": [
      "\n",
      "Saved 330 profiles to: generated_profiles_NEW.csv\n",
      "Completed batch 18, total profiles generated: 330\n",
      "\n",
      "Starting batch 19/312\n",
      "Selected 5 new random example profiles for this batch\n"
     ]
    },
    {
     "name": "stderr",
     "output_type": "stream",
     "text": [
      "Generating profiles:  19%|██████▎                           | 335/1800 [1:17:38<18:40:26, 45.89s/it]"
     ]
    },
    {
     "name": "stdout",
     "output_type": "stream",
     "text": [
      "\n",
      "Saved 335 profiles to: generated_profiles_NEW.csv\n",
      "Completed batch 19, total profiles generated: 335\n",
      "\n",
      "Starting batch 20/312\n",
      "Selected 5 new random example profiles for this batch\n"
     ]
    },
    {
     "name": "stderr",
     "output_type": "stream",
     "text": [
      "Generating profiles:  19%|██████▍                           | 340/1800 [1:21:20<17:40:14, 43.57s/it]"
     ]
    },
    {
     "name": "stdout",
     "output_type": "stream",
     "text": [
      "\n",
      "Saved 340 profiles to: generated_profiles_NEW.csv\n",
      "Completed batch 20, total profiles generated: 340\n",
      "\n",
      "Starting batch 21/312\n",
      "Selected 5 new random example profiles for this batch\n"
     ]
    },
    {
     "name": "stderr",
     "output_type": "stream",
     "text": [
      "Generating profiles:  19%|██████▌                           | 345/1800 [1:24:54<17:14:16, 42.65s/it]"
     ]
    },
    {
     "name": "stdout",
     "output_type": "stream",
     "text": [
      "\n",
      "Saved 345 profiles to: generated_profiles_NEW.csv\n",
      "Completed batch 21, total profiles generated: 345\n",
      "\n",
      "Starting batch 22/312\n",
      "Selected 5 new random example profiles for this batch\n"
     ]
    },
    {
     "name": "stderr",
     "output_type": "stream",
     "text": [
      "Generating profiles:  19%|██████▌                           | 350/1800 [1:28:19<16:41:46, 41.45s/it]"
     ]
    },
    {
     "name": "stdout",
     "output_type": "stream",
     "text": [
      "\n",
      "Saved 350 profiles to: generated_profiles_NEW.csv\n",
      "Completed batch 22, total profiles generated: 350\n",
      "\n",
      "Starting batch 23/312\n",
      "Selected 5 new random example profiles for this batch\n"
     ]
    },
    {
     "name": "stderr",
     "output_type": "stream",
     "text": [
      "Generating profiles:  20%|██████▋                           | 355/1800 [1:32:06<18:23:21, 45.81s/it]"
     ]
    },
    {
     "name": "stdout",
     "output_type": "stream",
     "text": [
      "\n",
      "Saved 355 profiles to: generated_profiles_NEW.csv\n",
      "Completed batch 23, total profiles generated: 355\n",
      "\n",
      "Starting batch 24/312\n",
      "Selected 5 new random example profiles for this batch\n"
     ]
    },
    {
     "name": "stderr",
     "output_type": "stream",
     "text": [
      "Generating profiles:  20%|██████▊                           | 360/1800 [1:36:18<19:24:00, 48.50s/it]"
     ]
    },
    {
     "name": "stdout",
     "output_type": "stream",
     "text": [
      "\n",
      "Saved 360 profiles to: generated_profiles_NEW.csv\n",
      "Completed batch 24, total profiles generated: 360\n",
      "\n",
      "Starting batch 25/312\n",
      "Selected 5 new random example profiles for this batch\n"
     ]
    },
    {
     "name": "stderr",
     "output_type": "stream",
     "text": [
      "Generating profiles:  20%|██████▉                           | 365/1800 [1:40:14<18:35:15, 46.63s/it]"
     ]
    },
    {
     "name": "stdout",
     "output_type": "stream",
     "text": [
      "\n",
      "Saved 365 profiles to: generated_profiles_NEW.csv\n",
      "Completed batch 25, total profiles generated: 365\n",
      "\n",
      "Starting batch 26/312\n",
      "Selected 5 new random example profiles for this batch\n"
     ]
    },
    {
     "name": "stderr",
     "output_type": "stream",
     "text": [
      "Generating profiles:  20%|██████▉                           | 367/1800 [1:42:01<20:02:47, 50.36s/it]"
     ]
    },
    {
     "name": "stdout",
     "output_type": "stream",
     "text": [
      "\n",
      "Invalid JSON received:\n",
      "{\n",
      "    \"Intro\": \"{'Full Name': 'Sofia Morales', 'Workplace': 'Executive Director at GreenTech Innovations', 'Location': 'Mexico City, Mexico', 'Connections': '500+', 'Photo': 'Yes', 'Followers': '890'}\",\n",
      "    \"Full Name\": \"Sofia Morales\",\n",
      "    \"Workplace\": \"Executive Director at GreenTech Innovations\",\n",
      "    \"Location\": \"Mexico City, Mexico\",\n",
      "    \"Connections\": 500,\n",
      "    \"Photo\": \"Yes\",\n",
      "    \"Followers\": 890,\n",
      "    \"About\": NaN,\n",
      "    \"Experiences\": \"{'0': {'Workplace': 'GreenTech Innovations', 'Role': 'Executive Director', 'Duration': 'Jan 2018 - Present \\u00b7 5 yrs', 'Workplace Location': 'Mexico City, Mexico', 'Description': 'Leading a startup focused on sustainable technology solutions for urban environments in Latin America.- Spearheaded the launch of three key products that reduce urban carbon footprint, each leading its category in the Latin American market.- Successfully secured Series B funding, contributing to a 150% growth in company revenue within three years.- Established strategic partnerships with major tech firms and environmental orgs globally.'}, '1': {'Workplace': 'EcoSolutions Group', 'Role': 'Director of Innovation', 'Duration': 'Aug 2013 - Dec 2017 \\u00b7 4 yrs 5 mos', 'Workplace Location': 'Mexico City, Mexico', 'Description': '- Led a cross-functional team in the development of eco-friendly packaging solutions that decreased plastic use by 30% for our clients.- Implemented a corporate innovation program that included employee idea generation, resulting in two patents.- Negotiated and forged strong relationships with suppliers to ensure sustainable material sourcing.'}, '2': {'Workplace': 'EnviroTech Inc.', 'Role': 'Product Manager', 'Duration': 'May 2009 - Jul 2013 \\u00b7 4 yrs 3 mos', 'Workplace Location': 'San Jose, Costa Rica', 'Description': '- Managed the lifecycle of a portfolio of green-tech products, increasing market share by 25% in the Central American market.- Conducted market research to guide the creation of products that met the region's unique environmental challenges.- Collaborated closely with R&D to streamline product development, reducing time to market by 20%.'}}\",\n",
      "    \"Number of Experiences\": 3,\n",
      "    \"Educations\": \"{'0': {'Institute': 'Tecnológico de Monterrey', 'Degree': 'Master of Business Administration (M.B.A.)', 'Duration': '2010 - 2012', 'Description': 'Concentration in Sustainable Business Practices'}, '1': {'Institute': 'Universidad Nacional Autónoma de México (UNAM)', 'Degree': 'Bachelor of Science (B.Sc.), Environmental Engineering', 'Duration': '2004 - 2008', 'Description': ''}}\",\n",
      "    \"Number of Educations\": 2,\n",
      "    \"Licenses\": \"{'0': {'Title': 'Certified Sustainability Professional', 'Company': 'Institute for Sustainable Development', 'Description': 'Issued Jan 2015 \\u00b7 No expiration date'}}\",\n",
      "    \"Number of Licenses\": 1,\n",
      "    \"Volunteering\": \"{'0': {'Organization': 'TechWomen Mexico', 'Role': 'Mentor', 'Duration': 'Jun 2016 - Present', 'Description': 'Mentoring young women pursuing careers in STEM, with a focus on sustainable technologies.'}}\",\n",
      "    \"Number of Volunteering\": 1,\n",
      "    \"Skills\": \"{'Skill 0': 'Sustainable Development', 'Skill 1': 'Innovation Management', 'Skill 2': 'Strategic Partnerships', 'Skill 3': 'Startup Development'}\",\n",
      "    \"Number of Skills\": 4,\n",
      "    \"Recommendations\": \"{'0': {'User': 'Laura Hernandez', 'Category': 'in', 'ID': 'laura-eco-innovator', 'URL': 'https://www.linkedin.com/in/laura-eco-innovator', 'Relation': 'November 12, 2019, Laura reported directly to Sofia', 'Description': 'Sofia is a visionary leader who understands the importance of sustainability in today\\'s world. She has an uncanny ability to identify market needs and drive innovation that meets those needs while remaining environmentally responsible. Working under her leadership at GreenTech Innovations not only helped me grow professionally but also deepened my commitment to sustainable practices.'}}\",\n",
      "    \"Number of Recommendations\": 1,\n",
      "    \"Projects\": \"{'0': {'Title': 'Green Urban Spaces Initiative', 'Date': 'Mar 2020 - Present', 'Description': 'Launching a pilot program in Mexico City to integrate green technology into public spaces, reducing CO2 emissions and increasing public awareness on sustainability.'}}\",\n",
      "    \"Number of Projects\": 1,\n",
      "    \"Publications\": \"{'0': {'Title': 'The Future of Urban Sustainability', 'Journal': 'Harvard Business Review \\u00b7 May 01, 2021', 'Description': 'Co-authored an article discussing innovative approaches to integrating sustainable practices into urban planning and development.'}}\",\n",
      "    \"Number of Publications\": 1,\n",
      "    \"Courses\": \"{}\",\n",
      "    \"Number of Courses\": 0,\n",
      "    \"Honors\": \"{'0': {'Award': 'Top 30 Under 30 in Tech', 'Info': 'Issued by TechLatino Magazine \\u00b7 Mar 2016', 'Description': 'Recognized for my contributions to sustainable technology innovations in Latin America.'}}\",\n",
      "    \"Number of Honors\": 1,\n",
      "    \"Scores\": \"{}\",\n",
      "    \"Number of Scores\": 0,\n",
      "    \"Languages\": \"{'0': {'Language': 'Spanish', 'Proficiency': 'Native or bilingual proficiency'}, '1': {'Language': 'English', 'Proficiency': 'Professional working proficiency'}}\",\n",
      "    \"Number of Languages\": 2,\n",
      "    \"Organizations\": \"{'0': {'Organization': 'Latin American Network for Sustainable Development', 'Role': 'Board Member', 'Duration': 'Apr 2019 - Present'}, '1': {'Organization': 'Global GreenTech Entrepreneurs', 'Role': 'Co-founder', 'Duration': 'Jan 2017 - Present'}}\",\n",
      "    \"Number of Organizations\": 2,\n",
      "    \"Interests\": \"{'0': {'Interest': 'Elon Musk', 'ID': 'elonmusk', 'Category': 'in', 'URL': 'https://www.linkedin.com/in/elonmusk'}, '1': {'Interest': 'World Economic Forum', 'ID': '133312', 'Category': 'company', 'URL': 'https://www.linkedin.com/company/133312'}, '2': {'Interest': 'GreenTech Media', 'ID': '923474', 'Category': 'company', 'URL': 'https://www.linkedin.com/company/923474'}, '3': {'Interest': 'Sustainable Energy for All (SEforALL)', 'ID': '27311122', 'Category': 'company', 'URL': 'https://www.linkedin.com/company/27311122'}}\",\n",
      "    \"Number of Interests\": 4,\n",
      "    \"Activities\": \"{'elonmusk': {'Full Name': 'Elon Musk', 'Category': 'in', 'URL': 'https://www.linkedin.com/in/elonmusk'}, 'worldeconomicforum': {'Full Name': 'World Economic Forum', 'Category': 'company', 'URL': 'https://www.linkedin.com/company/world-economic-forum'}, 'greentechmedia': {'Full Name': 'GreenTech Media', 'Category': 'company', 'URL': 'https://www.linkedin.com/company/greentech-media'}, 'seforallorg': {'Full Name': 'Sustainable Energy for All (SEforALL)', 'Category': 'company', 'URL': 'https://www.linkedin.com/company/sustainable-energy-for-all-seforall-org'}}\",\n",
      "    \"Number of Activities\": 4,\n",
      "    \"Label\": 0\n",
      "}\n",
      "JSON Error: Invalid \\escape: line 20 column 332 (char 3601)\n",
      "\n",
      "Retry 1/3 after error: Invalid \\escape: line 20 column 332 (char 3601)\n",
      "Last response received: {\n",
      "    \"Intro\": \"{'Full Name': 'Sofia Morales', 'Workplace': 'Executive Director at GreenTech Innovations', 'Location': 'Mexico City, Mexico', 'Connections': '500+', 'Photo': 'Yes', 'Followers': '890'}\",\n",
      "    \"Full Name\": \"Sofia Morales\",\n",
      "    \"Workplace\": \"Executive Director at GreenTech Innovations\",\n",
      "    \"Location\": \"Mexico City, Mexico\",\n",
      "    \"Connections\": 500,\n",
      "    \"Photo\": \"Yes\",\n",
      "    \"Followers\": 890,\n",
      "    \"About\": NaN,\n",
      "    \"Experiences\": \"{'0': {'Workplace': 'GreenTech Innovations', 'Role': 'Executive Director', 'Duration': 'Jan 2018 - Present \\u00b7 5 yrs', 'Workplace Location': 'Mexico City, Mexico', 'Description': 'Leading a startup focused on sustainable technology solutions for urban environments in Latin America.- Spearheaded the launch of three key products that reduce urban carbon footprint, each leading its category in the Latin American market.- Successfully secured Series B funding, contributing to a 150% growth in company revenue within three years.- Established strategic partnerships with major tech firms and environmental orgs globally.'}, '1': {'Workplace': 'EcoSolutions Group', 'Role': 'Director of Innovation', 'Duration': 'Aug 2013 - Dec 2017 \\u00b7 4 yrs 5 mos', 'Workplace Location': 'Mexico City, Mexico', 'Description': '- Led a cross-functional team in the development of eco-friendly packaging solutions that decreased plastic use by 30% for our clients.- Implemented a corporate innovation program that included employee idea generation, resulting in two patents.- Negotiated and forged strong relationships with suppliers to ensure sustainable material sourcing.'}, '2': {'Workplace': 'EnviroTech Inc.', 'Role': 'Product Manager', 'Duration': 'May 2009 - Jul 2013 \\u00b7 4 yrs 3 mos', 'Workplace Location': 'San Jose, Costa Rica', 'Description': '- Managed the lifecycle of a portfolio of green-tech products, increasing market share by 25% in the Central American market.- Conducted market research to guide the creation of products that met the region's unique environmental challenges.- Collaborated closely with R&D to streamline product development, reducing time to market by 20%.'}}\",\n",
      "    \"Number of Experiences\": 3,\n",
      "    \"Educations\": \"{'0': {'Institute': 'Tecnológico de Monterrey', 'Degree': 'Master of Business Administration (M.B.A.)', 'Duration': '2010 - 2012', 'Description': 'Concentration in Sustainable Business Practices'}, '1': {'Institute': 'Universidad Nacional Autónoma de México (UNAM)', 'Degree': 'Bachelor of Science (B.Sc.), Environmental Engineering', 'Duration': '2004 - 2008', 'Description': ''}}\",\n",
      "    \"Number of Educations\": 2,\n",
      "    \"Licenses\": \"{'0': {'Title': 'Certified Sustainability Professional', 'Company': 'Institute for Sustainable Development', 'Description': 'Issued Jan 2015 \\u00b7 No expiration date'}}\",\n",
      "    \"Number of Licenses\": 1,\n",
      "    \"Volunteering\": \"{'0': {'Organization': 'TechWomen Mexico', 'Role': 'Mentor', 'Duration': 'Jun 2016 - Present', 'Description': 'Mentoring young women pursuing careers in STEM, with a focus on sustainable technologies.'}}\",\n",
      "    \"Number of Volunteering\": 1,\n",
      "    \"Skills\": \"{'Skill 0': 'Sustainable Development', 'Skill 1': 'Innovation Management', 'Skill 2': 'Strategic Partnerships', 'Skill 3': 'Startup Development'}\",\n",
      "    \"Number of Skills\": 4,\n",
      "    \"Recommendations\": \"{'0': {'User': 'Laura Hernandez', 'Category': 'in', 'ID': 'laura-eco-innovator', 'URL': 'https://www.linkedin.com/in/laura-eco-innovator', 'Relation': 'November 12, 2019, Laura reported directly to Sofia', 'Description': 'Sofia is a visionary leader who understands the importance of sustainability in today\\'s world. She has an uncanny ability to identify market needs and drive innovation that meets those needs while remaining environmentally responsible. Working under her leadership at GreenTech Innovations not only helped me grow professionally but also deepened my commitment to sustainable practices.'}}\",\n",
      "    \"Number of Recommendations\": 1,\n",
      "    \"Projects\": \"{'0': {'Title': 'Green Urban Spaces Initiative', 'Date': 'Mar 2020 - Present', 'Description': 'Launching a pilot program in Mexico City to integrate green technology into public spaces, reducing CO2 emissions and increasing public awareness on sustainability.'}}\",\n",
      "    \"Number of Projects\": 1,\n",
      "    \"Publications\": \"{'0': {'Title': 'The Future of Urban Sustainability', 'Journal': 'Harvard Business Review \\u00b7 May 01, 2021', 'Description': 'Co-authored an article discussing innovative approaches to integrating sustainable practices into urban planning and development.'}}\",\n",
      "    \"Number of Publications\": 1,\n",
      "    \"Courses\": \"{}\",\n",
      "    \"Number of Courses\": 0,\n",
      "    \"Honors\": \"{'0': {'Award': 'Top 30 Under 30 in Tech', 'Info': 'Issued by TechLatino Magazine \\u00b7 Mar 2016', 'Description': 'Recognized for my contributions to sustainable technology innovations in Latin America.'}}\",\n",
      "    \"Number of Honors\": 1,\n",
      "    \"Scores\": \"{}\",\n",
      "    \"Number of Scores\": 0,\n",
      "    \"Languages\": \"{'0': {'Language': 'Spanish', 'Proficiency': 'Native or bilingual proficiency'}, '1': {'Language': 'English', 'Proficiency': 'Professional working proficiency'}}\",\n",
      "    \"Number of Languages\": 2,\n",
      "    \"Organizations\": \"{'0': {'Organization': 'Latin American Network for Sustainable Development', 'Role': 'Board Member', 'Duration': 'Apr 2019 - Present'}, '1': {'Organization': 'Global GreenTech Entrepreneurs', 'Role': 'Co-founder', 'Duration': 'Jan 2017 - Present'}}\",\n",
      "    \"Number of Organizations\": 2,\n",
      "    \"Interests\": \"{'0': {'Interest': 'Elon Musk', 'ID': 'elonmusk', 'Category': 'in', 'URL': 'https://www.linkedin.com/in/elonmusk'}, '1': {'Interest': 'World Economic Forum', 'ID': '133312', 'Category': 'company', 'URL': 'https://www.linkedin.com/company/133312'}, '2': {'Interest': 'GreenTech Media', 'ID': '923474', 'Category': 'company', 'URL': 'https://www.linkedin.com/company/923474'}, '3': {'Interest': 'Sustainable Energy for All (SEforALL)', 'ID': '27311122', 'Category': 'company', 'URL': 'https://www.linkedin.com/company/27311122'}}\",\n",
      "    \"Number of Interests\": 4,\n",
      "    \"Activities\": \"{'elonmusk': {'Full Name': 'Elon Musk', 'Category': 'in', 'URL': 'https://www.linkedin.com/in/elonmusk'}, 'worldeconomicforum': {'Full Name': 'World Economic Forum', 'Category': 'company', 'URL': 'https://www.linkedin.com/company/world-economic-forum'}, 'greentechmedia': {'Full Name': 'GreenTech Media', 'Category': 'company', 'URL': 'https://www.linkedin.com/company/greentech-media'}, 'seforallorg': {'Full Name': 'Sustainable Energy for All (SEforALL)', 'Category': 'company', 'URL': 'https://www.linkedin.com/company/sustainable-energy-for-all-seforall-org'}}\",\n",
      "    \"Number of Activities\": 4,\n",
      "    \"Label\": 0\n",
      "}\n"
     ]
    },
    {
     "name": "stderr",
     "output_type": "stream",
     "text": [
      "Generating profiles:  21%|██████▉                           | 370/1800 [1:46:04<25:57:46, 65.36s/it]"
     ]
    },
    {
     "name": "stdout",
     "output_type": "stream",
     "text": [
      "\n",
      "Saved 370 profiles to: generated_profiles_NEW.csv\n",
      "Completed batch 26, total profiles generated: 370\n",
      "\n",
      "Starting batch 27/312\n",
      "Selected 5 new random example profiles for this batch\n",
      "\n",
      "Invalid JSON received:\n",
      "{\n",
      "  \"Intro\": \"{'Full Name': 'Sofia Alvarez', 'Workplace': 'Chief Technology Officer at Emerging Tech Solutions', 'Location': 'São Paulo, Brazil', 'Connections': '500+', 'Photo': 'Yes', 'Followers': ''}\",\n",
      "  \"Full Name\": \"Sofia Alvarez\",\n",
      "  \"Workplace\": \"Chief Technology Officer at Emerging Tech Solutions\",\n",
      "  \"Location\": \"São Paulo, Brazil\",\n",
      "  \"Connections\": 500,\n",
      "  \"Photo\": \"Yes\",\n",
      "  \"Followers\": 3240,\n",
      "  \"About\": NaN,\n",
      "  \"Experiences\": \"{'0': {'Role': 'Chief Technology Officer', 'Workplace': 'Emerging Tech Solutions \\u00b7 Full-time', 'Duration': 'Jan 2019 - Present \\u00b7 4 yrs', 'Workplace Location': 'São Paulo, Brazil', 'Description': 'Leading the development of cutting-edge solutions in AI, IoT, and blockchain for the South American Market.'}, '1': {'Role': 'Director of Software Engineering', 'Workplace': 'Infinity Tech Group', 'Duration': 'May 2014 - Dec 2018 \\u00b7 4 yrs 8 mos', 'Workplace Location': 'Campinas, Brazil', 'Description': 'Oversaw global software development teams and implemented agile methodologies, increasing efficiency by 40%.'}, '2': {'Role': 'Senior Software Engineer', 'Workplace': 'Tech Solutions Inc.', 'Duration': 'Jul 2009 - May 2014 \\u00b7 5 yrs', 'Workplace Location': 'São Paulo, Brazil', 'Description': 'Developed and optimized enterprise-level software applications, contributing to a 30% increase in productivity.'}, '3': {'Role': 'Software Developer', 'Workplace': 'Startech Solutions', 'Duration': 'Jan 2006 - Jun 2009 \\u00b7 3 yrs 6 mos', 'Workplace Location': 'Rio de Janeiro, Brazil', 'Description': 'Participated in key projects that expanded the company's reach into new markets in Latin America.'}}\",\n",
      "  \"Number of Experiences\": 4,\n",
      "  \"Educations\": \"{'0': {'Institute': 'Instituto Tecnológico de Aeronáutica (ITA)', 'Degree': 'Master of Science (MSc), Computer Science', 'Duration': '2003 - 2005', 'Description': 'Thesis on Machine Learning Algorithms for Predictive Modelling'}, '1': {'Institute': 'Universidade de São Paulo (USP)', 'Degree': 'Bachelor of Science (BSc), Computer Engineering', 'Duration': '1998 - 2002', 'Description': 'Specialized in software engineering and computational structures. Graduated with honors.'}}\",\n",
      "  \"Number of Educations\": 2,\n",
      "  \"Licenses\": \"{'0': {'Title': 'Certified ScrumMaster (CSM)', 'Company': 'Scrum Alliance', 'Description': 'Issued Jan 2010'}, '1': {'Title': 'Project Management Professional (PMP)', 'Company': 'Project Management Institute', 'Description': 'Issued Dec 2012'}}\",\n",
      "  \"Number of Licenses\": 2,\n",
      "  \"Volunteering\": \"{'0': {'Role': 'Mentor', 'Organization': 'TechStars Startup Weekend São Paulo', 'Duration': 'Jun 2017 - Present \\u00b7 6 yrs', 'Description': 'Guiding early-stage tech startups in developing their MVPs and refining their pitch decks for investors.'}}\",\n",
      "  \"Number of Volunteering\": 1,\n",
      "  \"Skills\": \"{'Skill 0': 'Software Development', 'Skill 1': 'Agile Methodologies', 'Skill 2': 'Artificial Intelligence', 'Skill 3': 'Blockchain', 'Skill 4': 'Project Management'}\",\n",
      "  \"Number of Skills\": 5,\n",
      "  \"Recommendations\": \"{'0': {'User': 'Carlos Henrique', 'Category': 'in', 'ID': 'carloshenrique-tech', 'URL': 'https://www.linkedin.com/in/carloshenrique-tech', 'Relation': 'January 22, 2020, Carlos reported directly to Sofia', 'Description': 'Sofia is a visionary leader who consistently pushes the boundaries of what\\'s possible in tech. Under her leadership, we achieved groundbreaking innovations in AI that have set new standards in the industry. Her guidance has been invaluable.'}}\",\n",
      "  \"Number of Recommendations\": 1,\n",
      "  \"Projects\": \"{}\",\n",
      "  \"Number of Projects\": 0,\n",
      "  \"Publications\": \"{}\",\n",
      "  \"Number of Publications\": 0,\n",
      "  \"Courses\": \"{}\",\n",
      "  \"Number of Courses\": 0,\n",
      "  \"Honors\": \"{}\",\n",
      "  \"Number of Honors\": 0,\n",
      "  \"Scores\": \"{}\",\n",
      "  \"Number of Scores\": 0,\n",
      "  \"Languages\": \"{'Language 0': 'Portuguese', 'Language 1': 'English', 'Language 2': 'Spanish'}\",\n",
      "  \"Number of Languages\": 3,\n",
      "  \"Organizations\": \"{'0': {'Organization': 'Brazilian Association for Software Development', 'Role': 'Member \\u00b7 Jan 2013 - Present', 'Description': 'Participates in annual conferences and contributes articles on software development trends.'}}\",\n",
      "  \"Number of Organizations\": 1,\n",
      "  \"Interests\": \"{'0': {'Interest': 'MIT Technology Review', 'ID': 'mit-technology-review', 'Category': 'company', 'URL': 'https://www.linkedin.com/company/mit-technology-review'}, '1': {'Interest': 'Google Developers', 'ID': 'google-developers', 'Category': 'company', 'URL': 'https://www.linkedin.com/company/google-developers'}, '2': {'Interest': 'Project Management Institute', 'ID': 'project-management-institute', 'Category': 'company', 'URL': 'https://www.linkedin.com/company/project-management-institute'}, '3': {'Interest': 'Scrum Alliance', 'ID': 'scrum-alliance', 'Category': 'company', 'URL': 'https://www.linkedin.com/company/scrum-alliance'}}\",\n",
      "  \"Number of Interests\": 4,\n",
      "  \"Activities\": \"{}\",\n",
      "  \"Number of Activities\": 0,\n",
      "  \"Label\": 0\n",
      "}\n",
      "JSON Error: Invalid \\escape: line 20 column 319 (char 3329)\n",
      "\n",
      "Retry 1/3 after error: Invalid \\escape: line 20 column 319 (char 3329)\n",
      "Last response received: {\n",
      "  \"Intro\": \"{'Full Name': 'Sofia Alvarez', 'Workplace': 'Chief Technology Officer at Emerging Tech Solutions', 'Location': 'São Paulo, Brazil', 'Connections': '500+', 'Photo': 'Yes', 'Followers': ''}\",\n",
      "  \"Full Name\": \"Sofia Alvarez\",\n",
      "  \"Workplace\": \"Chief Technology Officer at Emerging Tech Solutions\",\n",
      "  \"Location\": \"São Paulo, Brazil\",\n",
      "  \"Connections\": 500,\n",
      "  \"Photo\": \"Yes\",\n",
      "  \"Followers\": 3240,\n",
      "  \"About\": NaN,\n",
      "  \"Experiences\": \"{'0': {'Role': 'Chief Technology Officer', 'Workplace': 'Emerging Tech Solutions \\u00b7 Full-time', 'Duration': 'Jan 2019 - Present \\u00b7 4 yrs', 'Workplace Location': 'São Paulo, Brazil', 'Description': 'Leading the development of cutting-edge solutions in AI, IoT, and blockchain for the South American Market.'}, '1': {'Role': 'Director of Software Engineering', 'Workplace': 'Infinity Tech Group', 'Duration': 'May 2014 - Dec 2018 \\u00b7 4 yrs 8 mos', 'Workplace Location': 'Campinas, Brazil', 'Description': 'Oversaw global software development teams and implemented agile methodologies, increasing efficiency by 40%.'}, '2': {'Role': 'Senior Software Engineer', 'Workplace': 'Tech Solutions Inc.', 'Duration': 'Jul 2009 - May 2014 \\u00b7 5 yrs', 'Workplace Location': 'São Paulo, Brazil', 'Description': 'Developed and optimized enterprise-level software applications, contributing to a 30% increase in productivity.'}, '3': {'Role': 'Software Developer', 'Workplace': 'Startech Solutions', 'Duration': 'Jan 2006 - Jun 2009 \\u00b7 3 yrs 6 mos', 'Workplace Location': 'Rio de Janeiro, Brazil', 'Description': 'Participated in key projects that expanded the company's reach into new markets in Latin America.'}}\",\n",
      "  \"Number of Experiences\": 4,\n",
      "  \"Educations\": \"{'0': {'Institute': 'Instituto Tecnológico de Aeronáutica (ITA)', 'Degree': 'Master of Science (MSc), Computer Science', 'Duration': '2003 - 2005', 'Description': 'Thesis on Machine Learning Algorithms for Predictive Modelling'}, '1': {'Institute': 'Universidade de São Paulo (USP)', 'Degree': 'Bachelor of Science (BSc), Computer Engineering', 'Duration': '1998 - 2002', 'Description': 'Specialized in software engineering and computational structures. Graduated with honors.'}}\",\n",
      "  \"Number of Educations\": 2,\n",
      "  \"Licenses\": \"{'0': {'Title': 'Certified ScrumMaster (CSM)', 'Company': 'Scrum Alliance', 'Description': 'Issued Jan 2010'}, '1': {'Title': 'Project Management Professional (PMP)', 'Company': 'Project Management Institute', 'Description': 'Issued Dec 2012'}}\",\n",
      "  \"Number of Licenses\": 2,\n",
      "  \"Volunteering\": \"{'0': {'Role': 'Mentor', 'Organization': 'TechStars Startup Weekend São Paulo', 'Duration': 'Jun 2017 - Present \\u00b7 6 yrs', 'Description': 'Guiding early-stage tech startups in developing their MVPs and refining their pitch decks for investors.'}}\",\n",
      "  \"Number of Volunteering\": 1,\n",
      "  \"Skills\": \"{'Skill 0': 'Software Development', 'Skill 1': 'Agile Methodologies', 'Skill 2': 'Artificial Intelligence', 'Skill 3': 'Blockchain', 'Skill 4': 'Project Management'}\",\n",
      "  \"Number of Skills\": 5,\n",
      "  \"Recommendations\": \"{'0': {'User': 'Carlos Henrique', 'Category': 'in', 'ID': 'carloshenrique-tech', 'URL': 'https://www.linkedin.com/in/carloshenrique-tech', 'Relation': 'January 22, 2020, Carlos reported directly to Sofia', 'Description': 'Sofia is a visionary leader who consistently pushes the boundaries of what\\'s possible in tech. Under her leadership, we achieved groundbreaking innovations in AI that have set new standards in the industry. Her guidance has been invaluable.'}}\",\n",
      "  \"Number of Recommendations\": 1,\n",
      "  \"Projects\": \"{}\",\n",
      "  \"Number of Projects\": 0,\n",
      "  \"Publications\": \"{}\",\n",
      "  \"Number of Publications\": 0,\n",
      "  \"Courses\": \"{}\",\n",
      "  \"Number of Courses\": 0,\n",
      "  \"Honors\": \"{}\",\n",
      "  \"Number of Honors\": 0,\n",
      "  \"Scores\": \"{}\",\n",
      "  \"Number of Scores\": 0,\n",
      "  \"Languages\": \"{'Language 0': 'Portuguese', 'Language 1': 'English', 'Language 2': 'Spanish'}\",\n",
      "  \"Number of Languages\": 3,\n",
      "  \"Organizations\": \"{'0': {'Organization': 'Brazilian Association for Software Development', 'Role': 'Member \\u00b7 Jan 2013 - Present', 'Description': 'Participates in annual conferences and contributes articles on software development trends.'}}\",\n",
      "  \"Number of Organizations\": 1,\n",
      "  \"Interests\": \"{'0': {'Interest': 'MIT Technology Review', 'ID': 'mit-technology-review', 'Category': 'company', 'URL': 'https://www.linkedin.com/company/mit-technology-review'}, '1': {'Interest': 'Google Developers', 'ID': 'google-developers', 'Category': 'company', 'URL': 'https://www.linkedin.com/company/google-developers'}, '2': {'Interest': 'Project Management Institute', 'ID': 'project-management-institute', 'Category': 'company', 'URL': 'https://www.linkedin.com/company/project-management-institute'}, '3': {'Interest': 'Scrum Alliance', 'ID': 'scrum-alliance', 'Category': 'company', 'URL': 'https://www.linkedin.com/company/scrum-alliance'}}\",\n",
      "  \"Number of Interests\": 4,\n",
      "  \"Activities\": \"{}\",\n",
      "  \"Number of Activities\": 0,\n",
      "  \"Label\": 0\n",
      "}\n"
     ]
    },
    {
     "name": "stderr",
     "output_type": "stream",
     "text": [
      "Generating profiles:  21%|███████                           | 373/1800 [1:49:56<26:52:33, 67.80s/it]"
     ]
    },
    {
     "name": "stdout",
     "output_type": "stream",
     "text": [
      "\n",
      "Invalid JSON received:\n",
      "{\n",
      "    \"Intro\": \"{'Full Name': 'Karan Singh', 'Workplace': 'Software Developer at Flipkart', 'Location': 'Bangalore, Karnataka, India', 'Connections': '278', 'Photo': 'Yes', 'Followers': ''}\",\n",
      "    \"Full Name\": \"Karan Singh\",\n",
      "    \"Workplace\": \"Software Developer at Flipkart\",\n",
      "    \"Location\": \"Bangalore, Karnataka, India\",\n",
      "    \"Connections\": 278,\n",
      "    \"Photo\": \"Yes\",\n",
      "    \"Followers\": 560,\n",
      "    \"About\": NaN,\n",
      "    \"Experiences\": \"{'0': {'Role': 'Software Developer', 'Workplace': 'Flipkart \\u00b7 Full-time', 'Duration': 'May 2019 - Present \\u00b7 4 yrs', 'Workplace Location': 'Bangalore, India', 'Description': 'Involved in backend services improving eCommerce platform scalability and performance. Lead the deployment of critical features enhancing consumer experience.'}, '1': {'Role': 'Junior Software Developer', 'Workplace': 'Tech Mahindra', 'Duration': 'Jan 2017 - Apr 2019 \\u00b7 2 yrs 4 mos', 'Workplace Location': 'Hyderabad, India', 'Description': 'Worked on developing and maintaining software applications. Participated in the full software development lifecycle, from concept through delivery of robust applications.'}, '2': {'Role': 'Intern', 'Workplace': 'Tech Mahindra', 'Duration': 'Jun 2016 - Dec 2016 \\u00b7 7 mos', 'Workplace Location': 'Hyderabad, India', 'Description': 'Involved in several project activities, including software development, testing, and documentation. Gained foundational skills and practical knowledge in the tech industry.'}}\",\n",
      "    \"Number of Experiences\": 3,\n",
      "    \"Educations\": \"{'0': {'Institute': 'Indian Institute of Technology (IIT), Kanpur', 'Degree': 'Bachelor of Technology (B.Tech.), Computer Science and Engineering', 'Duration': '2012 - 2016', 'Description': 'Focused on algorithms, data structure, and software design principles. Engaged in collaborative projects and research activities.'}}\",\n",
      "    \"Number of Educations\": 1,\n",
      "    \"Licenses\": \"{}\",\n",
      "    \"Number of Licenses\": 0,\n",
      "    \"Volunteering\": \"{'0': {'Role': 'Coding Tutor', 'Organization': 'Code.org', 'Duration': 'Jan 2020 - Present \\u00b7 3 yrs', 'Description': 'Volunteer as a coding tutor for students, helping them understand basic and intermediate concepts of programming. Encourage problem-solving and computational thinking.'}}\",\n",
      "    \"Number of Volunteering\": 1,\n",
      "    \"Skills\": \"{'Skill 0': 'Software Development', 'Skill 1': 'Java', 'Skill 2': 'Python', 'Skill 3': 'Agile Methodologies', 'Skill 4': 'Cloud Computing'}\",\n",
      "    \"Number of Skills\": 5,\n",
      "    \"Recommendations\": \"{'0': {'User': 'Ananya Reddy', 'Category': 'in', 'ID': 'ananya-reddy', 'URL': 'https://www.linkedin.com/in/ananya-reddy', 'Relation': 'June 12, 2021, Ananya was a client of Karan\\'s', 'Description': 'Karan possesses exceptional technical skills and has an admirable dedication to his work. His contribution was invaluable to our project success, demonstrating profound professionalism and expertise.'}, '1': {'User': 'Rohan Joshi', 'Category': 'in', 'ID': 'rohan-joshi', 'URL': 'https://www.linkedin.com/in/rohan-joshi', 'Relation': 'March 5, 2020, Rohan worked with Karan in the same group', 'Description': 'Working alongside Karan has been a fantastic learning experience. His knowledge in software development and readiness to share insights has greatly contributed to our team's performance.'}}\",\n",
      "    \"Number of Recommendations\": 2,\n",
      "    \"Projects\": \"{}\",\n",
      "    \"Number of Projects\": 0,\n",
      "    \"Publications\": \"{}\",\n",
      "    \"Number of Publications\": 0,\n",
      "    \"Courses\": \"{}\",\n",
      "    \"Number of Courses\": 0,\n",
      "    \"Honors\": \"{'0': {'Title': 'Best Innovator Award', 'Issuer': 'Flipkart', 'Date': 'Dec 2020', 'Description': 'Awarded for developing an innovative solution that optimized the inventory management process, resulting in significant cost savings for the company.'}}\",\n",
      "    \"Number of Honors\": 1,\n",
      "    \"Scores\": \"{}\",\n",
      "    \"Number of Scores\": 0,\n",
      "    \"Languages\": \"{'Language 0': 'English', 'Language 1': 'Hindi'}\",\n",
      "    \"Number of Languages\": 2,\n",
      "    \"Organizations\": \"{'0': {'Organization': 'Indian Institute of Technology Alumni Association', 'Role': 'Member \\u00b7 Sep 2016 - Present'}}\",\n",
      "    \"Number of Organizations\": 1,\n",
      "    \"Interests\": \"{'0': {'Interest': 'Google', 'ID': '1441', 'Category': 'company', 'URL': 'https://www.linkedin.com/company/1441'}, '1': {'Interest': 'Microsoft', 'ID': '1035', 'Category': 'company', 'URL': 'https://www.linkedin.com/company/1035'}, '2': {'Interest': 'Amazon', 'ID': '1586', 'Category': 'company', 'URL': 'https://www.linkedin.com/company/1586'}, '3': {'Interest': 'Code.org', 'ID': '4064852', 'Category': 'company', 'URL': 'https://www.linkedin.com/company/4064852'}, '4': {'Interest': 'Indian Institute of Technology', 'ID': '1016', 'Category': 'school', 'URL': 'https://www.linkedin.com/school/1016'}}\",\n",
      "    \"Number of Interests\": 5,\n",
      "    \"Activities\": \"{}\",\n",
      "    \"Number of Activities\": 0,\n",
      "    \"Label\": 0\n",
      "}\n",
      "JSON Error: Invalid \\escape: line 20 column 203 (char 2663)\n",
      "\n",
      "Retry 1/3 after error: Invalid \\escape: line 20 column 203 (char 2663)\n",
      "Last response received: {\n",
      "    \"Intro\": \"{'Full Name': 'Karan Singh', 'Workplace': 'Software Developer at Flipkart', 'Location': 'Bangalore, Karnataka, India', 'Connections': '278', 'Photo': 'Yes', 'Followers': ''}\",\n",
      "    \"Full Name\": \"Karan Singh\",\n",
      "    \"Workplace\": \"Software Developer at Flipkart\",\n",
      "    \"Location\": \"Bangalore, Karnataka, India\",\n",
      "    \"Connections\": 278,\n",
      "    \"Photo\": \"Yes\",\n",
      "    \"Followers\": 560,\n",
      "    \"About\": NaN,\n",
      "    \"Experiences\": \"{'0': {'Role': 'Software Developer', 'Workplace': 'Flipkart \\u00b7 Full-time', 'Duration': 'May 2019 - Present \\u00b7 4 yrs', 'Workplace Location': 'Bangalore, India', 'Description': 'Involved in backend services improving eCommerce platform scalability and performance. Lead the deployment of critical features enhancing consumer experience.'}, '1': {'Role': 'Junior Software Developer', 'Workplace': 'Tech Mahindra', 'Duration': 'Jan 2017 - Apr 2019 \\u00b7 2 yrs 4 mos', 'Workplace Location': 'Hyderabad, India', 'Description': 'Worked on developing and maintaining software applications. Participated in the full software development lifecycle, from concept through delivery of robust applications.'}, '2': {'Role': 'Intern', 'Workplace': 'Tech Mahindra', 'Duration': 'Jun 2016 - Dec 2016 \\u00b7 7 mos', 'Workplace Location': 'Hyderabad, India', 'Description': 'Involved in several project activities, including software development, testing, and documentation. Gained foundational skills and practical knowledge in the tech industry.'}}\",\n",
      "    \"Number of Experiences\": 3,\n",
      "    \"Educations\": \"{'0': {'Institute': 'Indian Institute of Technology (IIT), Kanpur', 'Degree': 'Bachelor of Technology (B.Tech.), Computer Science and Engineering', 'Duration': '2012 - 2016', 'Description': 'Focused on algorithms, data structure, and software design principles. Engaged in collaborative projects and research activities.'}}\",\n",
      "    \"Number of Educations\": 1,\n",
      "    \"Licenses\": \"{}\",\n",
      "    \"Number of Licenses\": 0,\n",
      "    \"Volunteering\": \"{'0': {'Role': 'Coding Tutor', 'Organization': 'Code.org', 'Duration': 'Jan 2020 - Present \\u00b7 3 yrs', 'Description': 'Volunteer as a coding tutor for students, helping them understand basic and intermediate concepts of programming. Encourage problem-solving and computational thinking.'}}\",\n",
      "    \"Number of Volunteering\": 1,\n",
      "    \"Skills\": \"{'Skill 0': 'Software Development', 'Skill 1': 'Java', 'Skill 2': 'Python', 'Skill 3': 'Agile Methodologies', 'Skill 4': 'Cloud Computing'}\",\n",
      "    \"Number of Skills\": 5,\n",
      "    \"Recommendations\": \"{'0': {'User': 'Ananya Reddy', 'Category': 'in', 'ID': 'ananya-reddy', 'URL': 'https://www.linkedin.com/in/ananya-reddy', 'Relation': 'June 12, 2021, Ananya was a client of Karan\\'s', 'Description': 'Karan possesses exceptional technical skills and has an admirable dedication to his work. His contribution was invaluable to our project success, demonstrating profound professionalism and expertise.'}, '1': {'User': 'Rohan Joshi', 'Category': 'in', 'ID': 'rohan-joshi', 'URL': 'https://www.linkedin.com/in/rohan-joshi', 'Relation': 'March 5, 2020, Rohan worked with Karan in the same group', 'Description': 'Working alongside Karan has been a fantastic learning experience. His knowledge in software development and readiness to share insights has greatly contributed to our team's performance.'}}\",\n",
      "    \"Number of Recommendations\": 2,\n",
      "    \"Projects\": \"{}\",\n",
      "    \"Number of Projects\": 0,\n",
      "    \"Publications\": \"{}\",\n",
      "    \"Number of Publications\": 0,\n",
      "    \"Courses\": \"{}\",\n",
      "    \"Number of Courses\": 0,\n",
      "    \"Honors\": \"{'0': {'Title': 'Best Innovator Award', 'Issuer': 'Flipkart', 'Date': 'Dec 2020', 'Description': 'Awarded for developing an innovative solution that optimized the inventory management process, resulting in significant cost savings for the company.'}}\",\n",
      "    \"Number of Honors\": 1,\n",
      "    \"Scores\": \"{}\",\n",
      "    \"Number of Scores\": 0,\n",
      "    \"Languages\": \"{'Language 0': 'English', 'Language 1': 'Hindi'}\",\n",
      "    \"Number of Languages\": 2,\n",
      "    \"Organizations\": \"{'0': {'Organization': 'Indian Institute of Technology Alumni Association', 'Role': 'Member \\u00b7 Sep 2016 - Present'}}\",\n",
      "    \"Number of Organizations\": 1,\n",
      "    \"Interests\": \"{'0': {'Interest': 'Google', 'ID': '1441', 'Category': 'company', 'URL': 'https://www.linkedin.com/company/1441'}, '1': {'Interest': 'Microsoft', 'ID': '1035', 'Category': 'company', 'URL': 'https://www.linkedin.com/company/1035'}, '2': {'Interest': 'Amazon', 'ID': '1586', 'Category': 'company', 'URL': 'https://www.linkedin.com/company/1586'}, '3': {'Interest': 'Code.org', 'ID': '4064852', 'Category': 'company', 'URL': 'https://www.linkedin.com/company/4064852'}, '4': {'Interest': 'Indian Institute of Technology', 'ID': '1016', 'Category': 'school', 'URL': 'https://www.linkedin.com/school/1016'}}\",\n",
      "    \"Number of Interests\": 5,\n",
      "    \"Activities\": \"{}\",\n",
      "    \"Number of Activities\": 0,\n",
      "    \"Label\": 0\n",
      "}\n"
     ]
    },
    {
     "name": "stderr",
     "output_type": "stream",
     "text": [
      "Generating profiles:  21%|███████                           | 375/1800 [1:52:31<27:55:24, 70.54s/it]"
     ]
    },
    {
     "name": "stdout",
     "output_type": "stream",
     "text": [
      "\n",
      "Saved 375 profiles to: generated_profiles_NEW.csv\n",
      "Completed batch 27, total profiles generated: 375\n",
      "\n",
      "Starting batch 28/312\n",
      "Selected 5 new random example profiles for this batch\n"
     ]
    },
    {
     "name": "stderr",
     "output_type": "stream",
     "text": [
      "Generating profiles:  21%|███████▏                          | 380/1800 [1:56:44<21:14:09, 53.84s/it]"
     ]
    },
    {
     "name": "stdout",
     "output_type": "stream",
     "text": [
      "\n",
      "Saved 380 profiles to: generated_profiles_NEW.csv\n",
      "Completed batch 28, total profiles generated: 380\n",
      "\n",
      "Starting batch 29/312\n",
      "Selected 5 new random example profiles for this batch\n"
     ]
    },
    {
     "name": "stderr",
     "output_type": "stream",
     "text": [
      "Generating profiles:  21%|███████▎                          | 385/1800 [2:01:29<22:40:29, 57.69s/it]"
     ]
    },
    {
     "name": "stdout",
     "output_type": "stream",
     "text": [
      "\n",
      "Saved 385 profiles to: generated_profiles_NEW.csv\n",
      "Completed batch 29, total profiles generated: 385\n",
      "\n",
      "Starting batch 30/312\n",
      "Selected 5 new random example profiles for this batch\n"
     ]
    },
    {
     "name": "stderr",
     "output_type": "stream",
     "text": [
      "Generating profiles:  22%|███████▎                          | 390/1800 [2:05:45<19:59:36, 51.05s/it]"
     ]
    },
    {
     "name": "stdout",
     "output_type": "stream",
     "text": [
      "\n",
      "Saved 390 profiles to: generated_profiles_NEW.csv\n",
      "Completed batch 30, total profiles generated: 390\n",
      "\n",
      "Starting batch 31/312\n",
      "Selected 5 new random example profiles for this batch\n"
     ]
    },
    {
     "name": "stderr",
     "output_type": "stream",
     "text": [
      "Generating profiles:  22%|███████▍                          | 395/1800 [2:10:01<19:31:57, 50.05s/it]"
     ]
    },
    {
     "name": "stdout",
     "output_type": "stream",
     "text": [
      "\n",
      "Saved 395 profiles to: generated_profiles_NEW.csv\n",
      "Completed batch 31, total profiles generated: 395\n",
      "\n",
      "Starting batch 32/312\n",
      "Selected 5 new random example profiles for this batch\n"
     ]
    },
    {
     "name": "stderr",
     "output_type": "stream",
     "text": [
      "Generating profiles:  22%|███████▌                          | 399/1800 [2:13:19<19:45:04, 50.75s/it]"
     ]
    },
    {
     "name": "stdout",
     "output_type": "stream",
     "text": [
      "\n",
      "Invalid JSON received:\n",
      "{\n",
      "    \"Intro\": \"{'Full Name': 'Sofía Martinez', 'Workplace': 'Founder & CEO at VerdeTech', 'Location': 'Santiago, Chile', 'Connections': '800+', 'Photo': 'Yes', 'Followers': '1200'}\",\n",
      "    \"Full Name\": \"Sofía Martinez\",\n",
      "    \"Workplace\": \"Founder & CEO at VerdeTech\",\n",
      "    \"Location\": \"Santiago, Chile\",\n",
      "    \"Connections\": 800,\n",
      "    \"Photo\": \"Yes\",\n",
      "    \"Followers\": 1200,\n",
      "    \"About\": \"An accomplished entrepreneur and environmental advocate, Sofía Martinez has dedicated her career to promoting sustainable technologies in Latin America. With a background in environmental engineering and business, Sofía founded VerdeTech, a company that develops eco-friendly solutions for waste management. Under her leadership, VerdeTech has grown to become a leading innovator in sustainability, launching products that have revolutionized the way businesses and consumers approach recycling and waste reduction.\",\n",
      "    \"Experiences\": \"{'0': {'Workplace': 'VerdeTech', 'Role': 'Founder & CEO', 'Duration': 'Jan 2018 - Present \\u00b7 5 yrs', 'Workplace Location': 'Santiago, Chile', 'Description': 'Founded VerdeTech with a mission to introduce innovative, sustainable technology solutions for waste management. Led the company from a startup to a market leader in eco-friendly products.'}, '1': {'Workplace': 'EcoSolutions', 'Role': 'Director of Operations', 'Duration': 'Aug 2013 - Dec 2017 \\u00b7 4 yrs 5 mos', 'Workplace Location': 'Santiago, Chile', 'Description': 'Oversaw daily operations, leading a team focused on developing sustainable urban solutions. Implemented strategic partnerships that significantly increased the company\\'s reach.'}, '2': {'Role': 'Environmental Consultant', 'Workplace': 'Green Horizon Consulting \\u00b7 Freelance', 'Duration': 'Mar 2010 - Jul 2013 \\u00b7 3 yrs 5 mos', 'Workplace Location': 'Valparaiso, Chile', 'Description': 'Provided expert advice on sustainability projects, emphasizing renewable energy and waste reduction. Helped businesses achieve significant environmental impact reductions.'}}\",\n",
      "    \"Number of Experiences\": 3,\n",
      "    \"Educations\": \"{'0': {'Institute': 'University of Chile', 'Degree': 'Master of Science (MSc), Environmental Engineering', 'Duration': '2008 - 2010', 'Description': 'Thesis on Innovative Technologies for Waste Management'}, '1': {'Institute': 'Pontifical Catholic University of Chile', 'Degree': 'Bachelor of Science (BSc), Industrial Engineering', 'Duration': '2003 - 2007', 'Description': 'Specialization in Environmental Management Systems'}}\",\n",
      "    \"Number of Educations\": 2,\n",
      "    \"Licenses\": \"{}\",\n",
      "    \"Number of Licenses\": 0,\n",
      "    \"Volunteering\": \"{'0': {'Organization': 'Greenpeace Chile', 'Role': 'Volunteer Environmental Advocate', 'Duration': 'Feb 2015 - Present', 'Description': 'Collaborate on campaigns focused on promoting renewable energy and decreasing plastic use in local communities.'}}\",\n",
      "    \"Number of Volunteering\": 1,\n",
      "    \"Skills\": \"{'Skill 0': 'Sustainable Technology', 'Skill 1': 'Waste Management', 'Skill 2': 'Strategic Partnerships', 'Skill 3': 'Entrepreneurship', 'Skill 4': 'Leadership'}\",\n",
      "    \"Number of Skills\": 5,\n",
      "    \"Recommendations\": \"{}\",\n",
      "    \"Number of Recommendations\": 0,\n",
      "    \"Projects\": \"{}\",\n",
      "    \"Number of Projects\": 0,\n",
      "    \"Publications\": \"{}\",\n",
      "    \"Number of Publications\": 0,\n",
      "    \"Courses\": \"{}\",\n",
      "    \"Number of Courses\": 0,\n",
      "    \"Honors\": \"{'0': {'Award': 'Innovators Under 35 - Chile', 'Info': 'Issued by MIT Technology Review \\u00b7 Jul 2019', 'Description': 'Recognized for contributions to environmental sustainability and technology advancements in Chile.'}}\",\n",
      "    \"Number of Honors\": 1,\n",
      "    \"Scores\": \"{}\",\n",
      "    \"Number of Scores\": 0,\n",
      "    \"Languages\": \"{'Language 0': 'Spanish', 'Language 1': 'English'}\",\n",
      "    \"Number of Languages\": 2,\n",
      "    \"Organizations\": \"{}\",\n",
      "    \"Number of Organizations\": 0,\n",
      "    \"Interests\": \"{'0': {'Interest': 'Greenpeace International', 'ID': '6793', 'Category': 'company', 'URL': 'https://www.linkedin.com/company/6793'}, '1': {'Interest': 'Renewable Energy World', 'ID': '22222', 'Category': 'company', 'URL': 'https://www.linkedin.com/company/22222'}, '2': {'Interest': 'Sustainability Leaders', 'ID': '234567', 'Category': 'groups', 'URL': 'https://www.linkedin.com/groups/234567'}, '3': {'Interest': 'TED Conferences', 'ID': '165645', 'Category': 'company', 'URL': 'https://www.linkedin.com/company/165645'}, '4': {'Interest': 'University of Chile', 'ID': '12345', 'Category': 'school', 'URL': 'https://www.linkedin.com/school/12345'}, '5': {'Interest': 'Pontifical Catholic University of Chile', 'ID': '67890', 'Category': 'school', 'URL': 'https://www.linkedin.com/school/67890'}}\",\n",
      "    \"Number of Interests\": 6,\n",
      "    \"Activities\": \"{}\",\n",
      "    \"Number of Activities\": 0,\n",
      "    \"Label\": 0\n",
      "}\n",
      "JSON Error: Invalid \\escape: line 10 column 722 (char 1621)\n",
      "\n",
      "Retry 1/3 after error: Invalid \\escape: line 10 column 722 (char 1621)\n",
      "Last response received: {\n",
      "    \"Intro\": \"{'Full Name': 'Sofía Martinez', 'Workplace': 'Founder & CEO at VerdeTech', 'Location': 'Santiago, Chile', 'Connections': '800+', 'Photo': 'Yes', 'Followers': '1200'}\",\n",
      "    \"Full Name\": \"Sofía Martinez\",\n",
      "    \"Workplace\": \"Founder & CEO at VerdeTech\",\n",
      "    \"Location\": \"Santiago, Chile\",\n",
      "    \"Connections\": 800,\n",
      "    \"Photo\": \"Yes\",\n",
      "    \"Followers\": 1200,\n",
      "    \"About\": \"An accomplished entrepreneur and environmental advocate, Sofía Martinez has dedicated her career to promoting sustainable technologies in Latin America. With a background in environmental engineering and business, Sofía founded VerdeTech, a company that develops eco-friendly solutions for waste management. Under her leadership, VerdeTech has grown to become a leading innovator in sustainability, launching products that have revolutionized the way businesses and consumers approach recycling and waste reduction.\",\n",
      "    \"Experiences\": \"{'0': {'Workplace': 'VerdeTech', 'Role': 'Founder & CEO', 'Duration': 'Jan 2018 - Present \\u00b7 5 yrs', 'Workplace Location': 'Santiago, Chile', 'Description': 'Founded VerdeTech with a mission to introduce innovative, sustainable technology solutions for waste management. Led the company from a startup to a market leader in eco-friendly products.'}, '1': {'Workplace': 'EcoSolutions', 'Role': 'Director of Operations', 'Duration': 'Aug 2013 - Dec 2017 \\u00b7 4 yrs 5 mos', 'Workplace Location': 'Santiago, Chile', 'Description': 'Oversaw daily operations, leading a team focused on developing sustainable urban solutions. Implemented strategic partnerships that significantly increased the company\\'s reach.'}, '2': {'Role': 'Environmental Consultant', 'Workplace': 'Green Horizon Consulting \\u00b7 Freelance', 'Duration': 'Mar 2010 - Jul 2013 \\u00b7 3 yrs 5 mos', 'Workplace Location': 'Valparaiso, Chile', 'Description': 'Provided expert advice on sustainability projects, emphasizing renewable energy and waste reduction. Helped businesses achieve significant environmental impact reductions.'}}\",\n",
      "    \"Number of Experiences\": 3,\n",
      "    \"Educations\": \"{'0': {'Institute': 'University of Chile', 'Degree': 'Master of Science (MSc), Environmental Engineering', 'Duration': '2008 - 2010', 'Description': 'Thesis on Innovative Technologies for Waste Management'}, '1': {'Institute': 'Pontifical Catholic University of Chile', 'Degree': 'Bachelor of Science (BSc), Industrial Engineering', 'Duration': '2003 - 2007', 'Description': 'Specialization in Environmental Management Systems'}}\",\n",
      "    \"Number of Educations\": 2,\n",
      "    \"Licenses\": \"{}\",\n",
      "    \"Number of Licenses\": 0,\n",
      "    \"Volunteering\": \"{'0': {'Organization': 'Greenpeace Chile', 'Role': 'Volunteer Environmental Advocate', 'Duration': 'Feb 2015 - Present', 'Description': 'Collaborate on campaigns focused on promoting renewable energy and decreasing plastic use in local communities.'}}\",\n",
      "    \"Number of Volunteering\": 1,\n",
      "    \"Skills\": \"{'Skill 0': 'Sustainable Technology', 'Skill 1': 'Waste Management', 'Skill 2': 'Strategic Partnerships', 'Skill 3': 'Entrepreneurship', 'Skill 4': 'Leadership'}\",\n",
      "    \"Number of Skills\": 5,\n",
      "    \"Recommendations\": \"{}\",\n",
      "    \"Number of Recommendations\": 0,\n",
      "    \"Projects\": \"{}\",\n",
      "    \"Number of Projects\": 0,\n",
      "    \"Publications\": \"{}\",\n",
      "    \"Number of Publications\": 0,\n",
      "    \"Courses\": \"{}\",\n",
      "    \"Number of Courses\": 0,\n",
      "    \"Honors\": \"{'0': {'Award': 'Innovators Under 35 - Chile', 'Info': 'Issued by MIT Technology Review \\u00b7 Jul 2019', 'Description': 'Recognized for contributions to environmental sustainability and technology advancements in Chile.'}}\",\n",
      "    \"Number of Honors\": 1,\n",
      "    \"Scores\": \"{}\",\n",
      "    \"Number of Scores\": 0,\n",
      "    \"Languages\": \"{'Language 0': 'Spanish', 'Language 1': 'English'}\",\n",
      "    \"Number of Languages\": 2,\n",
      "    \"Organizations\": \"{}\",\n",
      "    \"Number of Organizations\": 0,\n",
      "    \"Interests\": \"{'0': {'Interest': 'Greenpeace International', 'ID': '6793', 'Category': 'company', 'URL': 'https://www.linkedin.com/company/6793'}, '1': {'Interest': 'Renewable Energy World', 'ID': '22222', 'Category': 'company', 'URL': 'https://www.linkedin.com/company/22222'}, '2': {'Interest': 'Sustainability Leaders', 'ID': '234567', 'Category': 'groups', 'URL': 'https://www.linkedin.com/groups/234567'}, '3': {'Interest': 'TED Conferences', 'ID': '165645', 'Category': 'company', 'URL': 'https://www.linkedin.com/company/165645'}, '4': {'Interest': 'University of Chile', 'ID': '12345', 'Category': 'school', 'URL': 'https://www.linkedin.com/school/12345'}, '5': {'Interest': 'Pontifical Catholic University of Chile', 'ID': '67890', 'Category': 'school', 'URL': 'https://www.linkedin.com/school/67890'}}\",\n",
      "    \"Number of Interests\": 6,\n",
      "    \"Activities\": \"{}\",\n",
      "    \"Number of Activities\": 0,\n",
      "    \"Label\": 0\n",
      "}\n"
     ]
    },
    {
     "name": "stderr",
     "output_type": "stream",
     "text": [
      "Generating profiles:  22%|███████▌                          | 400/1800 [2:15:02<25:51:29, 66.49s/it]"
     ]
    },
    {
     "name": "stdout",
     "output_type": "stream",
     "text": [
      "\n",
      "Saved 400 profiles to: generated_profiles_NEW.csv\n",
      "Completed batch 32, total profiles generated: 400\n",
      "\n",
      "Starting batch 33/312\n",
      "Selected 5 new random example profiles for this batch\n",
      "\n",
      "Invalid JSON received:\n",
      "{\n",
      "  \"Intro\": \"{'Full Name': 'Kumar Patel', 'Workplace': 'Senior Software Engineer at Google', 'Location': 'Bangalore, Karnataka, India', 'Connections': '500+', 'Photo': 'Yes', 'Followers': '623'}\",\n",
      "  \"Full Name\": \"Kumar Patel\",\n",
      "  \"Workplace\": \"Senior Software Engineer at Google\",\n",
      "  \"Location\": \"Bangalore, Karnataka, India\",\n",
      "  \"Connections\": 500,\n",
      "  \"Photo\": \"Yes\",\n",
      "  \"Followers\": 623,\n",
      "  \"About\": \"A passionate and dedicated Senior Software Engineer with over 8 years of experience in the tech industry, specializing in AI and Machine Learning. I have a proven track record of driving innovation and efficiency through technology. I believe in the power of technology to solve real-world problems and am constantly exploring new advancements in AI to better our lives.\",\n",
      "  \"Experiences\": \"{'0': {'Workplace': 'Google', 'Role': 'Senior Software Engineer', 'Duration': 'Jan 2019 - Present \\u00b7 4 yrs', 'Workplace Location': 'Bangalore, India', 'Description': 'Leading cross-functional teams in the development of state-of-the-art machine learning models for improving search algorithms. Implementing scalable solutions and optimizing existing processes for better efficiency.'}, '1': {'Workplace': 'Microsoft', 'Role': 'Software Engineer', 'Duration': 'Feb 2015 - Dec 2018 \\u00b7 3 yrs 11 mos', 'Workplace Location': 'Hyderabad, India', 'Description': 'Developed and maintained large-scale software solutions for cloud services. Collaborated with global teams to incorporate AI technologies into traditional software practices.'}, '2': {'Role': 'Software Developer Intern', 'Workplace': 'Infosys', 'Duration': 'May 2014 - Jul 2014 \\u00b7 3 mos', 'Workplace Location': 'Mysore, India', 'Description': 'Gained hands-on experience in software development lifecycle and contributed to several projects with mentorship from industry experts.'}}\",\n",
      "  \"Number of Experiences\": 3,\n",
      "  \"Educations\": \"{'0': {'Institute': 'Indian Institute of Technology, Bombay (IIT Bombay)', 'Degree': 'Master of Technology, Computer Science', 'Duration': '2012 - 2014', 'Description': 'Activities and societies: Member of Computer Science Association, published research on computational algorithms in peer-reviewed journals.'}, '1': {'Institute': 'Birla Institute of Technology and Science, Pilani (BITS Pilani)', 'Degree': 'Bachelor of Engineering, Computer Science', 'Duration': '2008 - 2012', 'Description': 'Graduated with first-class honours. Led the college programming team to national competitions.'}}\",\n",
      "  \"Number of Educations\": 2,\n",
      "  \"Licenses\": \"{}\",\n",
      "  \"Number of Licenses\": 0,\n",
      "  \"Volunteering\": \"{'0': {'Role': 'Mentor', 'Organization': 'Code for Good', 'Duration': 'Jun 2020 - Present \\u00b7 2 yrs 6 mos', 'Description': 'Mentoring young programmers and guiding them through coding challenges and projects. Promoting coding education among underprivileged communities.'}}\",\n",
      "  \"Number of Volunteering\": 1,\n",
      "  \"Skills\": \"{'Skill 0': 'Machine Learning', 'Skill 1': 'Artificial Intelligence', 'Skill 2': 'Software Development', 'Skill 3': 'Cloud Computing', 'Skill 4': 'Algorithm Development'}\",\n",
      "  \"Number of Skills\": 5,\n",
      "  \"Recommendations\": \"{'0': {'User': 'Anita Rao', 'Category': 'in', 'ID': 'anita-rao-technology', 'URL': 'https://www.linkedin.com/in/anita-rao-technology', 'Relation': 'July 8, 2020, Anita managed Kumar directly', 'Description': 'Kumar is a rare talent in the realm of machine learning and AI. His innovative solutions have consistently surpassed our expectations and set new benchmarks. His dedication and passion for technology have greatly contributed to our team\\'s success. I highly recommend Kumar for any endeavor he chooses to pursue.'}}\",\n",
      "  \"Number of Recommendations\": 1,\n",
      "  \"Projects\": \"{'0': {'Title': 'Deep Neural Networks for Natural Language Processing', 'Date': 'Jun 2021 - Aug 2021', 'Description': 'Led a team project to develop and implement a deep learning model that interprets natural language queries to deliver accurate search results. This project significantly improved query processing speed and accuracy.'}}\",\n",
      "  \"Number of Projects\": 1,\n",
      "  \"Publications\": \"{}\",\n",
      "  \"Number of Publications\": 0,\n",
      "  \"Courses\": \"{}\",\n",
      "  \"Number of Courses\": 0,\n",
      "  \"Honors\": \"{'0': {'Award': 'Best Innovative Project in AI', 'Info': 'Issued by TechInnovation \\u00b7 Mar 2022', 'Description': 'Awarded for developing an innovative AI-powered solution that significantly improves the accuracy of predictive analytics in retail.'}}\",\n",
      "  \"Number of Honors\": 1,\n",
      "  \"Scores\": \"{}\",\n",
      "  \"Number of Scores\": 0,\n",
      "  \"Languages\": \"{'Language 0': 'English', 'Language 1': 'Hindi'}\",\n",
      "  \"Number of Languages\": 2,\n",
      "  \"Organizations\": \"{}\",\n",
      "  \"Number of Organizations\": 0,\n",
      "  \"Interests\": \"{'0': {'Interest': 'OpenAI', 'ID': 'openai', 'Category': 'company', 'URL': 'https://www.linkedin.com/company/openai'}, '1': {'Interest': 'Google AI', 'ID': 'google-ai', 'Category': 'company', 'URL': 'https://www.linkedin.com/company/google-ai'}, '2': {'Interest': 'Indian Institute of Technology, Bombay', 'ID': 'iitbombay', 'Category': 'school', 'URL': 'https://www.linkedin.com/school/iitbombay'}, '3': {'Interest': 'Birla Institute of Technology and Science, Pilani', 'ID': 'bitspilani', 'Category': 'school', 'URL': 'https://www.linkedin.com/school/bitspilani'}}\",\n",
      "  \"Number of Interests\": 4,\n",
      "  \"Activities\": \"{}\",\n",
      "  \"Number of Activities\": 0,\n",
      "  \"Label\": 0\n",
      "}\n",
      "JSON Error: Invalid \\escape: line 20 column 468 (char 3569)\n",
      "\n",
      "Retry 1/3 after error: Invalid \\escape: line 20 column 468 (char 3569)\n",
      "Last response received: {\n",
      "  \"Intro\": \"{'Full Name': 'Kumar Patel', 'Workplace': 'Senior Software Engineer at Google', 'Location': 'Bangalore, Karnataka, India', 'Connections': '500+', 'Photo': 'Yes', 'Followers': '623'}\",\n",
      "  \"Full Name\": \"Kumar Patel\",\n",
      "  \"Workplace\": \"Senior Software Engineer at Google\",\n",
      "  \"Location\": \"Bangalore, Karnataka, India\",\n",
      "  \"Connections\": 500,\n",
      "  \"Photo\": \"Yes\",\n",
      "  \"Followers\": 623,\n",
      "  \"About\": \"A passionate and dedicated Senior Software Engineer with over 8 years of experience in the tech industry, specializing in AI and Machine Learning. I have a proven track record of driving innovation and efficiency through technology. I believe in the power of technology to solve real-world problems and am constantly exploring new advancements in AI to better our lives.\",\n",
      "  \"Experiences\": \"{'0': {'Workplace': 'Google', 'Role': 'Senior Software Engineer', 'Duration': 'Jan 2019 - Present \\u00b7 4 yrs', 'Workplace Location': 'Bangalore, India', 'Description': 'Leading cross-functional teams in the development of state-of-the-art machine learning models for improving search algorithms. Implementing scalable solutions and optimizing existing processes for better efficiency.'}, '1': {'Workplace': 'Microsoft', 'Role': 'Software Engineer', 'Duration': 'Feb 2015 - Dec 2018 \\u00b7 3 yrs 11 mos', 'Workplace Location': 'Hyderabad, India', 'Description': 'Developed and maintained large-scale software solutions for cloud services. Collaborated with global teams to incorporate AI technologies into traditional software practices.'}, '2': {'Role': 'Software Developer Intern', 'Workplace': 'Infosys', 'Duration': 'May 2014 - Jul 2014 \\u00b7 3 mos', 'Workplace Location': 'Mysore, India', 'Description': 'Gained hands-on experience in software development lifecycle and contributed to several projects with mentorship from industry experts.'}}\",\n",
      "  \"Number of Experiences\": 3,\n",
      "  \"Educations\": \"{'0': {'Institute': 'Indian Institute of Technology, Bombay (IIT Bombay)', 'Degree': 'Master of Technology, Computer Science', 'Duration': '2012 - 2014', 'Description': 'Activities and societies: Member of Computer Science Association, published research on computational algorithms in peer-reviewed journals.'}, '1': {'Institute': 'Birla Institute of Technology and Science, Pilani (BITS Pilani)', 'Degree': 'Bachelor of Engineering, Computer Science', 'Duration': '2008 - 2012', 'Description': 'Graduated with first-class honours. Led the college programming team to national competitions.'}}\",\n",
      "  \"Number of Educations\": 2,\n",
      "  \"Licenses\": \"{}\",\n",
      "  \"Number of Licenses\": 0,\n",
      "  \"Volunteering\": \"{'0': {'Role': 'Mentor', 'Organization': 'Code for Good', 'Duration': 'Jun 2020 - Present \\u00b7 2 yrs 6 mos', 'Description': 'Mentoring young programmers and guiding them through coding challenges and projects. Promoting coding education among underprivileged communities.'}}\",\n",
      "  \"Number of Volunteering\": 1,\n",
      "  \"Skills\": \"{'Skill 0': 'Machine Learning', 'Skill 1': 'Artificial Intelligence', 'Skill 2': 'Software Development', 'Skill 3': 'Cloud Computing', 'Skill 4': 'Algorithm Development'}\",\n",
      "  \"Number of Skills\": 5,\n",
      "  \"Recommendations\": \"{'0': {'User': 'Anita Rao', 'Category': 'in', 'ID': 'anita-rao-technology', 'URL': 'https://www.linkedin.com/in/anita-rao-technology', 'Relation': 'July 8, 2020, Anita managed Kumar directly', 'Description': 'Kumar is a rare talent in the realm of machine learning and AI. His innovative solutions have consistently surpassed our expectations and set new benchmarks. His dedication and passion for technology have greatly contributed to our team\\'s success. I highly recommend Kumar for any endeavor he chooses to pursue.'}}\",\n",
      "  \"Number of Recommendations\": 1,\n",
      "  \"Projects\": \"{'0': {'Title': 'Deep Neural Networks for Natural Language Processing', 'Date': 'Jun 2021 - Aug 2021', 'Description': 'Led a team project to develop and implement a deep learning model that interprets natural language queries to deliver accurate search results. This project significantly improved query processing speed and accuracy.'}}\",\n",
      "  \"Number of Projects\": 1,\n",
      "  \"Publications\": \"{}\",\n",
      "  \"Number of Publications\": 0,\n",
      "  \"Courses\": \"{}\",\n",
      "  \"Number of Courses\": 0,\n",
      "  \"Honors\": \"{'0': {'Award': 'Best Innovative Project in AI', 'Info': 'Issued by TechInnovation \\u00b7 Mar 2022', 'Description': 'Awarded for developing an innovative AI-powered solution that significantly improves the accuracy of predictive analytics in retail.'}}\",\n",
      "  \"Number of Honors\": 1,\n",
      "  \"Scores\": \"{}\",\n",
      "  \"Number of Scores\": 0,\n",
      "  \"Languages\": \"{'Language 0': 'English', 'Language 1': 'Hindi'}\",\n",
      "  \"Number of Languages\": 2,\n",
      "  \"Organizations\": \"{}\",\n",
      "  \"Number of Organizations\": 0,\n",
      "  \"Interests\": \"{'0': {'Interest': 'OpenAI', 'ID': 'openai', 'Category': 'company', 'URL': 'https://www.linkedin.com/company/openai'}, '1': {'Interest': 'Google AI', 'ID': 'google-ai', 'Category': 'company', 'URL': 'https://www.linkedin.com/company/google-ai'}, '2': {'Interest': 'Indian Institute of Technology, Bombay', 'ID': 'iitbombay', 'Category': 'school', 'URL': 'https://www.linkedin.com/school/iitbombay'}, '3': {'Interest': 'Birla Institute of Technology and Science, Pilani', 'ID': 'bitspilani', 'Category': 'school', 'URL': 'https://www.linkedin.com/school/bitspilani'}}\",\n",
      "  \"Number of Interests\": 4,\n",
      "  \"Activities\": \"{}\",\n",
      "  \"Number of Activities\": 0,\n",
      "  \"Label\": 0\n",
      "}\n"
     ]
    },
    {
     "name": "stderr",
     "output_type": "stream",
     "text": [
      "Generating profiles:  22%|███████▋                          | 405/1800 [2:20:18<22:28:36, 58.00s/it]"
     ]
    },
    {
     "name": "stdout",
     "output_type": "stream",
     "text": [
      "\n",
      "Saved 405 profiles to: generated_profiles_NEW.csv\n",
      "Completed batch 33, total profiles generated: 405\n",
      "\n",
      "Starting batch 34/312\n",
      "Selected 5 new random example profiles for this batch\n"
     ]
    },
    {
     "name": "stderr",
     "output_type": "stream",
     "text": [
      "Generating profiles:  23%|███████▋                          | 410/1800 [2:24:14<18:35:41, 48.16s/it]"
     ]
    },
    {
     "name": "stdout",
     "output_type": "stream",
     "text": [
      "\n",
      "Saved 410 profiles to: generated_profiles_NEW.csv\n",
      "Completed batch 34, total profiles generated: 410\n",
      "\n",
      "Starting batch 35/312\n",
      "Selected 5 new random example profiles for this batch\n"
     ]
    },
    {
     "name": "stderr",
     "output_type": "stream",
     "text": [
      "Generating profiles:  23%|███████▊                          | 411/1800 [2:25:00<18:14:30, 47.28s/it]"
     ]
    },
    {
     "name": "stdout",
     "output_type": "stream",
     "text": [
      "\n",
      "Invalid JSON received:\n",
      "{\n",
      "    \"Intro\": \"{'Full Name': 'Sofia Ortiz', 'Workplace': 'Regional Manager at MercadoLibre', 'Location': 'Buenos Aires, Argentina', 'Connections': '789', 'Photo': 'Yes', 'Followers': '1045'}\",\n",
      "    \"Full Name\": \"Sofia Ortiz\",\n",
      "    \"Workplace\": \"Regional Manager at MercadoLibre\",\n",
      "    \"Location\": \"Buenos Aires, Argentina\",\n",
      "    \"Connections\": 789,\n",
      "    \"Photo\": \"Yes\",\n",
      "    \"Followers\": 1045,\n",
      "    \"About\": NaN,\n",
      "    \"Experiences\": \"{'0': {'Role': 'Regional Manager', 'Workplace': 'MercadoLibre \\u00b7 Full-time', 'Duration': 'Jan 2019 - Present \\u00b7 3 yrs 2 mos', 'Workplace Location': 'Buenos Aires, Argentina', 'Description': 'Leading merchandising strategies across 4 countries, managing a team of 50+ to optimize regional sales operations. Spearheaded the integration of AI tools to personalize online shopping experiences, resulting in a 30% increase in customer engagement.'}, '1': {'Role': 'Market Analyst', 'Workplace': 'Diageo', 'Duration': 'Aug 2014 - Dec 2018 \\u00b7 4 yrs 5 mos', 'Workplace Location': 'Buenos Aires, Argentina', 'Description': 'Analyzed regional market trends and competitor strategies, developing successful promotional campaigns that increased brand awareness by 25%. Managed cross-functional teams for product launches.'}, '2': {'Role': 'Sales Executive', 'Workplace': 'IBM', 'Duration': 'Mar 2011 - Jul 2014 \\u00b7 3 yrs 5 mos', 'Workplace Location': 'Buenos Aires, Argentina', 'Description': 'Led key accounts, achieving over 150% of the sales target for three consecutive years. Implemented a customer relationship management system that boosted client satisfaction rates by 40%.'}}\",\n",
      "    \"Number of Experiences\": 3,\n",
      "    \"Educations\": \"{'0': {'Institute': 'Universidad de Buenos Aires', 'Degree': 'Master of Business Administration - MBA, Business Administration and Management, General', 'Duration': '2016 - 2018', 'Description': ''}, '1': {'Institute': 'Universidad Argentina de la Empresa (UADE)', 'Degree': 'Bachelor of Science - BS, Marketing', 'Duration': '2007 - 2011', 'Description': 'Graduated with honors, participated in the International Exchange Program with Universidad de Salamanca, Spain'}}\",\n",
      "    \"Number of Educations\": 2,\n",
      "    \"Licenses\": \"{}\",\n",
      "    \"Number of Licenses\": 0,\n",
      "    \"Volunteering\": \"{'0': {'Role': 'Volunteer Mentor', 'Organization': 'Empretec', 'Duration': 'Mar 2020 - Present \\u00b7 2 yrs', 'Description': 'Provide mentorship to emerging entrepreneurs, facilitating workshops on business development, marketing strategies, and financial planning. Contributed to the growth of 10+ small businesses in the regional community.'}}\",\n",
      "    \"Number of Volunteering\": 1,\n",
      "    \"Skills\": \"{'Skill 0': 'Strategic Planning', 'Skill 1': 'Team Leadership', 'Skill 2': 'Digital Marketing', 'Skill 3': 'Market Analysis', 'Skill 4': 'E-commerce'}\",\n",
      "    \"Number of Skills\": 5,\n",
      "    \"Recommendations\": \"{}\",\n",
      "    \"Number of Recommendations\": 0,\n",
      "    \"Projects\": \"{}\",\n",
      "    \"Number of Projects\": 0,\n",
      "    \"Publications\": \"{}\",\n",
      "    \"Number of Publications\": 0,\n",
      "    \"Courses\": \"{}\",\n",
      "    \"Number of Courses\": 0,\n",
      "    \"Honors\": \"{}\",\n",
      "    \"Number of Honors\": 0,\n",
      "    \"Scores\": \"{}\",\n",
      "    \"Number of Scores\": 0,\n",
      "    \"Languages\": \"{'0': {'Language': 'Spanish', 'Proficiency': 'Native'}, '1': {'Language': 'English', 'Proficiency': 'Fluent'}}\",\n",
      "    \"Number of Languages\": 2,\n",
      "    \"Organizations\": \"{}\",\n",
      "    \"Number of Organizations\": 0,\n",
      "    \"Interests\": \"{'0': {'Interest': 'Lean In', 'ID': 'leaninorg', 'Category': 'company', 'URL': 'https://www.linkedin.com/company/leaninorg'}, '1': {'Interest': 'Entrepreneurs\\' Organization', 'ID': 'entrepreneurs-organization', 'Category': 'company', 'URL': 'https://www.linkedin.com/company/entrepreneurs-organization'}, '2': {'Interest': 'Harvard Business Review', 'ID': '1035', 'Category': 'company', 'URL': 'https://www.linkedin.com/company/1035'}, '3': {'Interest': 'MercadoLibre', 'ID': '1033', 'Category': 'company', 'URL': 'https://www.linkedin.com/company/1033'}, '4': {'Interest': 'Diageo', 'ID': '3495', 'Category': 'company', 'URL': 'https://www.linkedin.com/company/3495'}, '5': {'Interest': 'Universidad de Buenos Aires', 'ID': '166674', 'Category': 'school', 'URL': 'https://www.linkedin.com/school/166674'}, '6': {'Interest': 'Universidad Argentina de la Empresa (UADE)', 'ID': '5043', 'Category': 'school', 'URL': 'https://www.linkedin.com/school/5043'}}\",\n",
      "    \"Number of Interests\": 7,\n",
      "    \"Activities\": \"{'empretec': {'Full Name': 'Empretec', 'Category': 'company', 'URL': 'https://www.linkedin.com/company/empretec'}, 'diegocavallo': {'Full Name': 'Diego Cavallo', 'Category': 'in', 'URL': 'https://www.linkedin.com/in/diegocavallo'}, 'ifc_org': {'Full Name': 'IFC - International Finance Corporation', 'Category': 'company', 'URL': 'https://www.linkedin.com/company/ifc_org'}, 'micaelapietto': {'Full Name': 'Micaela Pietto', 'Category': 'in', 'URL': 'https://www.linkedin.com/in/micaelapietto'}, 'mercadolibre': {'Full Name': 'MercadoLibre', 'Category': 'company', 'URL': 'https://www.linkedin.com/company/mercadolibre'}, 'oshadogan': {'Full Name': 'Osman Dogan', 'Category': 'in', 'URL': 'https://www.linkedin.com/in/oshadogan'}, 'clarissaleal': {'Full Name': 'Clarissa Leal', 'Category': 'in', 'URL': 'https://www.linkedin.com/in/clarissaleal'}}\",\n",
      "    \"Number of Activities\": 7,\n",
      "    \"Label\": 0\n",
      "}\n",
      "JSON Error: Invalid \\escape: line 36 column 177 (char 3536)\n",
      "\n",
      "Retry 1/3 after error: Invalid \\escape: line 36 column 177 (char 3536)\n",
      "Last response received: {\n",
      "    \"Intro\": \"{'Full Name': 'Sofia Ortiz', 'Workplace': 'Regional Manager at MercadoLibre', 'Location': 'Buenos Aires, Argentina', 'Connections': '789', 'Photo': 'Yes', 'Followers': '1045'}\",\n",
      "    \"Full Name\": \"Sofia Ortiz\",\n",
      "    \"Workplace\": \"Regional Manager at MercadoLibre\",\n",
      "    \"Location\": \"Buenos Aires, Argentina\",\n",
      "    \"Connections\": 789,\n",
      "    \"Photo\": \"Yes\",\n",
      "    \"Followers\": 1045,\n",
      "    \"About\": NaN,\n",
      "    \"Experiences\": \"{'0': {'Role': 'Regional Manager', 'Workplace': 'MercadoLibre \\u00b7 Full-time', 'Duration': 'Jan 2019 - Present \\u00b7 3 yrs 2 mos', 'Workplace Location': 'Buenos Aires, Argentina', 'Description': 'Leading merchandising strategies across 4 countries, managing a team of 50+ to optimize regional sales operations. Spearheaded the integration of AI tools to personalize online shopping experiences, resulting in a 30% increase in customer engagement.'}, '1': {'Role': 'Market Analyst', 'Workplace': 'Diageo', 'Duration': 'Aug 2014 - Dec 2018 \\u00b7 4 yrs 5 mos', 'Workplace Location': 'Buenos Aires, Argentina', 'Description': 'Analyzed regional market trends and competitor strategies, developing successful promotional campaigns that increased brand awareness by 25%. Managed cross-functional teams for product launches.'}, '2': {'Role': 'Sales Executive', 'Workplace': 'IBM', 'Duration': 'Mar 2011 - Jul 2014 \\u00b7 3 yrs 5 mos', 'Workplace Location': 'Buenos Aires, Argentina', 'Description': 'Led key accounts, achieving over 150% of the sales target for three consecutive years. Implemented a customer relationship management system that boosted client satisfaction rates by 40%.'}}\",\n",
      "    \"Number of Experiences\": 3,\n",
      "    \"Educations\": \"{'0': {'Institute': 'Universidad de Buenos Aires', 'Degree': 'Master of Business Administration - MBA, Business Administration and Management, General', 'Duration': '2016 - 2018', 'Description': ''}, '1': {'Institute': 'Universidad Argentina de la Empresa (UADE)', 'Degree': 'Bachelor of Science - BS, Marketing', 'Duration': '2007 - 2011', 'Description': 'Graduated with honors, participated in the International Exchange Program with Universidad de Salamanca, Spain'}}\",\n",
      "    \"Number of Educations\": 2,\n",
      "    \"Licenses\": \"{}\",\n",
      "    \"Number of Licenses\": 0,\n",
      "    \"Volunteering\": \"{'0': {'Role': 'Volunteer Mentor', 'Organization': 'Empretec', 'Duration': 'Mar 2020 - Present \\u00b7 2 yrs', 'Description': 'Provide mentorship to emerging entrepreneurs, facilitating workshops on business development, marketing strategies, and financial planning. Contributed to the growth of 10+ small businesses in the regional community.'}}\",\n",
      "    \"Number of Volunteering\": 1,\n",
      "    \"Skills\": \"{'Skill 0': 'Strategic Planning', 'Skill 1': 'Team Leadership', 'Skill 2': 'Digital Marketing', 'Skill 3': 'Market Analysis', 'Skill 4': 'E-commerce'}\",\n",
      "    \"Number of Skills\": 5,\n",
      "    \"Recommendations\": \"{}\",\n",
      "    \"Number of Recommendations\": 0,\n",
      "    \"Projects\": \"{}\",\n",
      "    \"Number of Projects\": 0,\n",
      "    \"Publications\": \"{}\",\n",
      "    \"Number of Publications\": 0,\n",
      "    \"Courses\": \"{}\",\n",
      "    \"Number of Courses\": 0,\n",
      "    \"Honors\": \"{}\",\n",
      "    \"Number of Honors\": 0,\n",
      "    \"Scores\": \"{}\",\n",
      "    \"Number of Scores\": 0,\n",
      "    \"Languages\": \"{'0': {'Language': 'Spanish', 'Proficiency': 'Native'}, '1': {'Language': 'English', 'Proficiency': 'Fluent'}}\",\n",
      "    \"Number of Languages\": 2,\n",
      "    \"Organizations\": \"{}\",\n",
      "    \"Number of Organizations\": 0,\n",
      "    \"Interests\": \"{'0': {'Interest': 'Lean In', 'ID': 'leaninorg', 'Category': 'company', 'URL': 'https://www.linkedin.com/company/leaninorg'}, '1': {'Interest': 'Entrepreneurs\\' Organization', 'ID': 'entrepreneurs-organization', 'Category': 'company', 'URL': 'https://www.linkedin.com/company/entrepreneurs-organization'}, '2': {'Interest': 'Harvard Business Review', 'ID': '1035', 'Category': 'company', 'URL': 'https://www.linkedin.com/company/1035'}, '3': {'Interest': 'MercadoLibre', 'ID': '1033', 'Category': 'company', 'URL': 'https://www.linkedin.com/company/1033'}, '4': {'Interest': 'Diageo', 'ID': '3495', 'Category': 'company', 'URL': 'https://www.linkedin.com/company/3495'}, '5': {'Interest': 'Universidad de Buenos Aires', 'ID': '166674', 'Category': 'school', 'URL': 'https://www.linkedin.com/school/166674'}, '6': {'Interest': 'Universidad Argentina de la Empresa (UADE)', 'ID': '5043', 'Category': 'school', 'URL': 'https://www.linkedin.com/school/5043'}}\",\n",
      "    \"Number of Interests\": 7,\n",
      "    \"Activities\": \"{'empretec': {'Full Name': 'Empretec', 'Category': 'company', 'URL': 'https://www.linkedin.com/company/empretec'}, 'diegocavallo': {'Full Name': 'Diego Cavallo', 'Category': 'in', 'URL': 'https://www.linkedin.com/in/diegocavallo'}, 'ifc_org': {'Full Name': 'IFC - International Finance Corporation', 'Category': 'company', 'URL': 'https://www.linkedin.com/company/ifc_org'}, 'micaelapietto': {'Full Name': 'Micaela Pietto', 'Category': 'in', 'URL': 'https://www.linkedin.com/in/micaelapietto'}, 'mercadolibre': {'Full Name': 'MercadoLibre', 'Category': 'company', 'URL': 'https://www.linkedin.com/company/mercadolibre'}, 'oshadogan': {'Full Name': 'Osman Dogan', 'Category': 'in', 'URL': 'https://www.linkedin.com/in/oshadogan'}, 'clarissaleal': {'Full Name': 'Clarissa Leal', 'Category': 'in', 'URL': 'https://www.linkedin.com/in/clarissaleal'}}\",\n",
      "    \"Number of Activities\": 7,\n",
      "    \"Label\": 0\n",
      "}\n"
     ]
    },
    {
     "name": "stderr",
     "output_type": "stream",
     "text": [
      "Generating profiles:  23%|███████▊                          | 415/1800 [2:29:10<20:44:55, 53.93s/it]"
     ]
    },
    {
     "name": "stdout",
     "output_type": "stream",
     "text": [
      "\n",
      "Saved 415 profiles to: generated_profiles_NEW.csv\n",
      "Completed batch 35, total profiles generated: 415\n",
      "\n",
      "Starting batch 36/312\n",
      "Selected 5 new random example profiles for this batch\n"
     ]
    },
    {
     "name": "stderr",
     "output_type": "stream",
     "text": [
      "Generating profiles:  23%|███████▉                          | 420/1800 [2:33:11<18:40:47, 48.73s/it]"
     ]
    },
    {
     "name": "stdout",
     "output_type": "stream",
     "text": [
      "\n",
      "Saved 420 profiles to: generated_profiles_NEW.csv\n",
      "Completed batch 36, total profiles generated: 420\n",
      "\n",
      "Starting batch 37/312\n",
      "Selected 5 new random example profiles for this batch\n"
     ]
    },
    {
     "name": "stderr",
     "output_type": "stream",
     "text": [
      "Generating profiles:  24%|████████                          | 425/1800 [2:36:55<16:31:37, 43.27s/it]"
     ]
    },
    {
     "name": "stdout",
     "output_type": "stream",
     "text": [
      "\n",
      "Saved 425 profiles to: generated_profiles_NEW.csv\n",
      "Completed batch 37, total profiles generated: 425\n",
      "\n",
      "Starting batch 38/312\n",
      "Selected 5 new random example profiles for this batch\n"
     ]
    },
    {
     "name": "stderr",
     "output_type": "stream",
     "text": [
      "Generating profiles:  24%|████████                          | 430/1800 [2:40:39<17:13:14, 45.25s/it]"
     ]
    },
    {
     "name": "stdout",
     "output_type": "stream",
     "text": [
      "\n",
      "Saved 430 profiles to: generated_profiles_NEW.csv\n",
      "Completed batch 38, total profiles generated: 430\n",
      "\n",
      "Starting batch 39/312\n",
      "Selected 5 new random example profiles for this batch\n"
     ]
    },
    {
     "name": "stderr",
     "output_type": "stream",
     "text": [
      "Generating profiles:  24%|████████▏                         | 435/1800 [2:44:54<18:14:22, 48.10s/it]"
     ]
    },
    {
     "name": "stdout",
     "output_type": "stream",
     "text": [
      "\n",
      "Saved 435 profiles to: generated_profiles_NEW.csv\n",
      "Completed batch 39, total profiles generated: 435\n",
      "\n",
      "Starting batch 40/312\n",
      "Selected 5 new random example profiles for this batch\n"
     ]
    },
    {
     "name": "stderr",
     "output_type": "stream",
     "text": [
      "Generating profiles:  24%|████████▎                         | 440/1800 [2:48:54<18:13:12, 48.23s/it]"
     ]
    },
    {
     "name": "stdout",
     "output_type": "stream",
     "text": [
      "\n",
      "Saved 440 profiles to: generated_profiles_NEW.csv\n",
      "Completed batch 40, total profiles generated: 440\n",
      "\n",
      "Starting batch 41/312\n",
      "Selected 5 new random example profiles for this batch\n"
     ]
    },
    {
     "name": "stderr",
     "output_type": "stream",
     "text": [
      "Generating profiles:  25%|████████▍                         | 445/1800 [2:53:00<17:38:56, 46.89s/it]"
     ]
    },
    {
     "name": "stdout",
     "output_type": "stream",
     "text": [
      "\n",
      "Saved 445 profiles to: generated_profiles_NEW.csv\n",
      "Completed batch 41, total profiles generated: 445\n",
      "\n",
      "Starting batch 42/312\n",
      "Selected 5 new random example profiles for this batch\n"
     ]
    },
    {
     "name": "stderr",
     "output_type": "stream",
     "text": [
      "Generating profiles:  25%|████████▌                         | 450/1800 [2:56:46<17:20:29, 46.24s/it]"
     ]
    },
    {
     "name": "stdout",
     "output_type": "stream",
     "text": [
      "\n",
      "Saved 450 profiles to: generated_profiles_NEW.csv\n",
      "Completed batch 42, total profiles generated: 450\n",
      "\n",
      "Starting batch 43/312\n",
      "Selected 5 new random example profiles for this batch\n"
     ]
    },
    {
     "name": "stderr",
     "output_type": "stream",
     "text": [
      "Generating profiles:  25%|████████▌                         | 455/1800 [3:00:59<18:31:42, 49.59s/it]"
     ]
    },
    {
     "name": "stdout",
     "output_type": "stream",
     "text": [
      "\n",
      "Saved 455 profiles to: generated_profiles_NEW.csv\n",
      "Completed batch 43, total profiles generated: 455\n",
      "\n",
      "Starting batch 44/312\n",
      "Selected 5 new random example profiles for this batch\n",
      "\n",
      "Invalid JSON received:\n",
      "{\n",
      "    \"Intro\": \"{'Full Name': 'Carlos Martínez', 'Workplace': 'Product Manager at Tecnolatam Solutions', 'Location': 'Buenos Aires, Argentina', 'Connections': '500+', 'Photo': 'Yes', 'Followers': ''}\",\n",
      "    \"Full Name\": \"Carlos Martínez\",\n",
      "    \"Workplace\": \"Product Manager at Tecnolatam Solutions\",\n",
      "    \"Location\": \"Buenos Aires, Argentina\",\n",
      "    \"Connections\": 500,\n",
      "    \"Photo\": \"Yes\",\n",
      "    \"Followers\": 1450,\n",
      "    \"About\": NaN,\n",
      "    \"Experiences\": \"{'0': {'Role': 'Product Manager', 'Workplace': 'Tecnolatam Solutions', 'Duration': 'Mar 2019 - Present \\u00b7 4 yrs', 'Workplace Location': '', 'Description': 'Leading the team in the development and management of software products from conception to launch. Collaborating closely with engineering, marketing, customer service, and sales teams to ensure the product success.'}, '1': {'Workplace': 'InnovaTech', 'Role': 'Business Analyst', 'Duration': 'Jun 2015 - Feb 2019 \\u00b7 3 yrs 9 mos', 'Workplace Location': 'Buenos Aires, Argentina', 'Description': 'Analyzed business processes and requirements to improve efficiency and productivity. Developed solutions and strategies in collaboration with the IT and managerial teams. Played a key role in the implementation of technology solutions within the organization.'}, '2': {'Workplace': 'Codelario', 'Role': 'Software Developer', 'Duration': 'May 2012 - May 2015 \\u00b7 3 yrs 1 mo', 'Workplace Location': 'Buenos Aires, Argentina', 'Description': 'Developed and maintained web applications using HTML, CSS, JavaScript, and PHP. Worked as part of a dynamic team in fast-paced environments, ensuring the delivery of high-quality software.'}}\",\n",
      "    \"Number of Experiences\": 3,\n",
      "    \"Educations\": \"{'0': {'Institute': 'Universidad de Buenos Aires', 'Degree': 'Master’s Degree, Computer Science', 'Duration': '2013 - 2015', 'Description': 'Specialized in software engineering and product management.'}, '1': {'Institute': 'Universidad Tecnológica Nacional', 'Degree': 'Bachelor\\'s Degree, Information Systems', 'Duration': '2008 - 2012', 'Description': 'Graduated with honors, focusing on software development and project management.'}}\",\n",
      "    \"Number of Educations\": 2,\n",
      "    \"Licenses\": \"{}\",\n",
      "    \"Number of Licenses\": 0,\n",
      "    \"Volunteering\": \"{'0': {'Role': 'Technology Mentor', 'Organization': 'CoderHouse', 'Duration': 'Jan 2017 - Dec 2018 \\u00b7 2 yrs', 'Description': 'Mentored young professionals and students aiming to transition into tech careers. Provided guidance on software development principles, career advice, and networking strategies.'}}\",\n",
      "    \"Number of Volunteering\": 1,\n",
      "    \"Skills\": \"{'Skill 0': 'Product Management', 'Skill 1': 'Business Analysis', 'Skill 2': 'Software Development', 'Skill 3': 'Agile Methodologies', 'Skill 4': 'Team Leadership'}\",\n",
      "    \"Number of Skills\": 5,\n",
      "    \"Recommendations\": \"{}\",\n",
      "    \"Number of Recommendations\": 0,\n",
      "    \"Projects\": \"{}\",\n",
      "    \"Number of Projects\": 0,\n",
      "    \"Publications\": \"{}\",\n",
      "    \"Number of Publications\": 0,\n",
      "    \"Courses\": \"{}\",\n",
      "    \"Number of Courses\": 0,\n",
      "    \"Honors\": \"{}\",\n",
      "    \"Number of Honors\": 0,\n",
      "    \"Scores\": \"{}\",\n",
      "    \"Number of Scores\": 0,\n",
      "    \"Languages\": \"{'Language 0': 'Spanish', 'Language 1': 'English', 'Language 2': 'Portuguese'}\",\n",
      "    \"Number of Languages\": 3,\n",
      "    \"Organizations\": \"{'0': {'Organization': 'Agile Argentina', 'Role': 'Member May 2015 - Present'}}\",\n",
      "    \"Number of Organizations\": 1,\n",
      "    \"Interests\": \"{'0': {'Interest': 'Google', 'ID': '1441', 'Category': 'company', 'URL': 'https://www.linkedin.com/company/1441'}, '1': {'Interest': 'Microsoft', 'ID': '1035', 'Category': 'company', 'URL': 'https://www.linkedin.com/company/1035'}, '2': {'Interest': 'Product School', 'ID': '4212234', 'Category': 'company', 'URL': 'https://www.linkedin.com/company/4212234'}, '3': {'Interest': 'Universidad de Buenos Aires', 'ID': '20483', 'Category': 'school', 'URL': 'https://www.linkedin.com/school/20483'}}\",\n",
      "    \"Number of Interests\": 4,\n",
      "    \"Activities\": \"{'alexia-reyes': {'Full Name': 'Alexia Reyes', 'Category': 'in', 'URL': 'https://www.linkedin.com/in/alexia-reyes'}, 'manuel-lopez': {'Full Name': 'Manuel Lopez', 'Category': 'in', 'URL': 'https://www.linkedin.com/in/manuel-lopez'}, 'tecnolatam-solutions': {'Full Name': 'Tecnolatam Solutions', 'Category': 'company', 'URL': 'https://www.linkedin.com/company/tecnolatam-solutions'}, 'innovatech': {'Full Name': 'InnovaTech', 'Category': 'company', 'URL': 'https://www.linkedin.com/company/innovatech'}, 'coderhouse': {'Full Name': 'CoderHouse', 'Category': 'company', 'URL': 'https://www.linkedin.com/company/coderhouse'}, 'agile-argentina': {'Full Name': 'Agile Argentina', 'Category': 'company', 'URL': 'https://www.linkedin.com/company/agile-argentina'}}\",\n",
      "    \"Number of Activities\": 6,\n",
      "    \"Label\": 0\n",
      "}\n",
      "JSON Error: Invalid \\escape: line 12 column 298 (char 1970)\n",
      "\n",
      "Retry 1/3 after error: Invalid \\escape: line 12 column 298 (char 1970)\n",
      "Last response received: {\n",
      "    \"Intro\": \"{'Full Name': 'Carlos Martínez', 'Workplace': 'Product Manager at Tecnolatam Solutions', 'Location': 'Buenos Aires, Argentina', 'Connections': '500+', 'Photo': 'Yes', 'Followers': ''}\",\n",
      "    \"Full Name\": \"Carlos Martínez\",\n",
      "    \"Workplace\": \"Product Manager at Tecnolatam Solutions\",\n",
      "    \"Location\": \"Buenos Aires, Argentina\",\n",
      "    \"Connections\": 500,\n",
      "    \"Photo\": \"Yes\",\n",
      "    \"Followers\": 1450,\n",
      "    \"About\": NaN,\n",
      "    \"Experiences\": \"{'0': {'Role': 'Product Manager', 'Workplace': 'Tecnolatam Solutions', 'Duration': 'Mar 2019 - Present \\u00b7 4 yrs', 'Workplace Location': '', 'Description': 'Leading the team in the development and management of software products from conception to launch. Collaborating closely with engineering, marketing, customer service, and sales teams to ensure the product success.'}, '1': {'Workplace': 'InnovaTech', 'Role': 'Business Analyst', 'Duration': 'Jun 2015 - Feb 2019 \\u00b7 3 yrs 9 mos', 'Workplace Location': 'Buenos Aires, Argentina', 'Description': 'Analyzed business processes and requirements to improve efficiency and productivity. Developed solutions and strategies in collaboration with the IT and managerial teams. Played a key role in the implementation of technology solutions within the organization.'}, '2': {'Workplace': 'Codelario', 'Role': 'Software Developer', 'Duration': 'May 2012 - May 2015 \\u00b7 3 yrs 1 mo', 'Workplace Location': 'Buenos Aires, Argentina', 'Description': 'Developed and maintained web applications using HTML, CSS, JavaScript, and PHP. Worked as part of a dynamic team in fast-paced environments, ensuring the delivery of high-quality software.'}}\",\n",
      "    \"Number of Experiences\": 3,\n",
      "    \"Educations\": \"{'0': {'Institute': 'Universidad de Buenos Aires', 'Degree': 'Master’s Degree, Computer Science', 'Duration': '2013 - 2015', 'Description': 'Specialized in software engineering and product management.'}, '1': {'Institute': 'Universidad Tecnológica Nacional', 'Degree': 'Bachelor\\'s Degree, Information Systems', 'Duration': '2008 - 2012', 'Description': 'Graduated with honors, focusing on software development and project management.'}}\",\n",
      "    \"Number of Educations\": 2,\n",
      "    \"Licenses\": \"{}\",\n",
      "    \"Number of Licenses\": 0,\n",
      "    \"Volunteering\": \"{'0': {'Role': 'Technology Mentor', 'Organization': 'CoderHouse', 'Duration': 'Jan 2017 - Dec 2018 \\u00b7 2 yrs', 'Description': 'Mentored young professionals and students aiming to transition into tech careers. Provided guidance on software development principles, career advice, and networking strategies.'}}\",\n",
      "    \"Number of Volunteering\": 1,\n",
      "    \"Skills\": \"{'Skill 0': 'Product Management', 'Skill 1': 'Business Analysis', 'Skill 2': 'Software Development', 'Skill 3': 'Agile Methodologies', 'Skill 4': 'Team Leadership'}\",\n",
      "    \"Number of Skills\": 5,\n",
      "    \"Recommendations\": \"{}\",\n",
      "    \"Number of Recommendations\": 0,\n",
      "    \"Projects\": \"{}\",\n",
      "    \"Number of Projects\": 0,\n",
      "    \"Publications\": \"{}\",\n",
      "    \"Number of Publications\": 0,\n",
      "    \"Courses\": \"{}\",\n",
      "    \"Number of Courses\": 0,\n",
      "    \"Honors\": \"{}\",\n",
      "    \"Number of Honors\": 0,\n",
      "    \"Scores\": \"{}\",\n",
      "    \"Number of Scores\": 0,\n",
      "    \"Languages\": \"{'Language 0': 'Spanish', 'Language 1': 'English', 'Language 2': 'Portuguese'}\",\n",
      "    \"Number of Languages\": 3,\n",
      "    \"Organizations\": \"{'0': {'Organization': 'Agile Argentina', 'Role': 'Member May 2015 - Present'}}\",\n",
      "    \"Number of Organizations\": 1,\n",
      "    \"Interests\": \"{'0': {'Interest': 'Google', 'ID': '1441', 'Category': 'company', 'URL': 'https://www.linkedin.com/company/1441'}, '1': {'Interest': 'Microsoft', 'ID': '1035', 'Category': 'company', 'URL': 'https://www.linkedin.com/company/1035'}, '2': {'Interest': 'Product School', 'ID': '4212234', 'Category': 'company', 'URL': 'https://www.linkedin.com/company/4212234'}, '3': {'Interest': 'Universidad de Buenos Aires', 'ID': '20483', 'Category': 'school', 'URL': 'https://www.linkedin.com/school/20483'}}\",\n",
      "    \"Number of Interests\": 4,\n",
      "    \"Activities\": \"{'alexia-reyes': {'Full Name': 'Alexia Reyes', 'Category': 'in', 'URL': 'https://www.linkedin.com/in/alexia-reyes'}, 'manuel-lopez': {'Full Name': 'Manuel Lopez', 'Category': 'in', 'URL': 'https://www.linkedin.com/in/manuel-lopez'}, 'tecnolatam-solutions': {'Full Name': 'Tecnolatam Solutions', 'Category': 'company', 'URL': 'https://www.linkedin.com/company/tecnolatam-solutions'}, 'innovatech': {'Full Name': 'InnovaTech', 'Category': 'company', 'URL': 'https://www.linkedin.com/company/innovatech'}, 'coderhouse': {'Full Name': 'CoderHouse', 'Category': 'company', 'URL': 'https://www.linkedin.com/company/coderhouse'}, 'agile-argentina': {'Full Name': 'Agile Argentina', 'Category': 'company', 'URL': 'https://www.linkedin.com/company/agile-argentina'}}\",\n",
      "    \"Number of Activities\": 6,\n",
      "    \"Label\": 0\n",
      "}\n"
     ]
    },
    {
     "name": "stderr",
     "output_type": "stream",
     "text": [
      "Generating profiles:  26%|████████▋                         | 460/1800 [3:05:59<19:41:18, 52.89s/it]"
     ]
    },
    {
     "name": "stdout",
     "output_type": "stream",
     "text": [
      "\n",
      "Saved 460 profiles to: generated_profiles_NEW.csv\n",
      "Completed batch 44, total profiles generated: 460\n",
      "\n",
      "Starting batch 45/312\n",
      "Selected 5 new random example profiles for this batch\n"
     ]
    },
    {
     "name": "stderr",
     "output_type": "stream",
     "text": [
      "Generating profiles:  26%|████████▊                         | 465/1800 [3:10:06<19:00:06, 51.24s/it]"
     ]
    },
    {
     "name": "stdout",
     "output_type": "stream",
     "text": [
      "\n",
      "Saved 465 profiles to: generated_profiles_NEW.csv\n",
      "Completed batch 45, total profiles generated: 465\n",
      "\n",
      "Starting batch 46/312\n",
      "Selected 5 new random example profiles for this batch\n"
     ]
    },
    {
     "name": "stderr",
     "output_type": "stream",
     "text": [
      "Generating profiles:  26%|████████▊                         | 469/1800 [3:14:06<21:46:57, 58.92s/it]"
     ]
    },
    {
     "name": "stdout",
     "output_type": "stream",
     "text": [
      "\n",
      "Invalid JSON received:\n",
      "{\n",
      "  \"Intro\": \"{'Full Name': 'Leticia Moreno', 'Workplace': 'Co-founder & CEO at AgroSave - Tech Innovations for Sustainable Farming', 'Location': 'Nairobi, Kenya', 'Connections': '500+', 'Photo': 'Yes', 'Followers': '1200'}\",\n",
      "  \"Full Name\": \"Leticia Moreno\",\n",
      "  \"Workplace\": \"Co-founder & CEO at AgroSave - Tech Innovations for Sustainable Farming\",\n",
      "  \"Location\": \"Nairobi, Kenya\",\n",
      "  \"Connections\": 500,\n",
      "  \"Photo\": \"Yes\",\n",
      "  \"Followers\": 1200,\n",
      "  \"About\": \"Passionate about leveraging technology to address critical challenges in agriculture. My focus is on using data-driven solutions to make farming sustainable and profitable for smallholder farmers in Africa. With a background in agricultural technology and impactful leadership, I aim to bridge the gap between technology and traditional farming practices to revolutionize the agritech space in emerging markets.\",\n",
      "  \"Experiences\": \"{'0': {'Role': 'Co-founder & CEO', 'Workplace': 'AgroSave', 'Duration': 'Jan 2019 - Present \\u00b7 4 yrs', 'Workplace Location': 'Nairobi, Kenya', 'Description': 'Leading a startup at the forefront of developing affordable and scalable technological solutions aimed at enhancing farm productivity and sustainability. AgroSave focuses on IoT devices for smart irrigation systems, crop disease prediction software, and data analytics platforms for better crop management.'}, '1': {'Workplace': 'Tech for Agri', 'Role': 'Product Manager', 'Duration': 'Jul 2015 - Dec 2018 \\u00b7 3 yrs 6 mos', 'Workplace Location': 'Nairobi, Kenya', 'Description': 'Managed and led key projects for developing mobile applications and software tools designed for agricultural productivity and market access. Played a crucial role in product conceptualization, development, and deployment, impacting over 10,000 smallholder farmers in East Africa.'}, '2': {'Workplace': 'Kenya Agriculture Research Institute', 'Role': 'Agronomist Intern', 'Duration': 'Jan 2014 - Jun 2015 \\u00b7 1 yr 6 mos', 'Workplace Location': 'Nairobi, Kenya', 'Description': 'Conducted research on crop health and soil management practices. Co-authored two research papers on sustainable farming techniques that were published in international agricultural journals.'}}\",\n",
      "  \"Number of Experiences\": 3,\n",
      "  \"Educations\": \"{'0': {'Institute': 'Jomo Kenyatta University of Agriculture and Technology', 'Degree': 'Master\\'s degree, Agricultural and Horticultural Plant Breeding', 'Duration': '2012 - 2014', 'Description': 'Graduated with honors and led a student project on the development of drought-resistant crops.'}, '1': {'Institute': 'University of Nairobi', 'Degree': 'Bachelor of Science (B.Sc.), Agriculture, General', 'Duration': '2008 - 2012', 'Description': 'Member of the University Agricultural Society and winner of the Young Innovators in Agriculture award 2011.'}}\",\n",
      "  \"Number of Educations\": 2,\n",
      "  \"Licenses\": \"{'0': {'Title': 'Certified Data Analyst', 'Company': 'IBM', 'Description': 'Issued Aug 2018 \\u00b7 No Expiration Date'}, '1': {'Title': 'Project Management Professional (PMP)', 'Company': 'Project Management Institute', 'Description': 'Issued Dec 2017 \\u00b7 Expires Dec 2023'}}\",\n",
      "  \"Number of Licenses\": 2,\n",
      "  \"Volunteering\": \"{'0': {'Role': 'Community Farming Advisor', 'Organization': 'Grow Kenya Initiative', 'Duration': '2016 - Present \\u00b7 7 yrs', 'Description': 'Provide voluntary advisory services to community farming projects focusing on sustainable practices and youth engagement in agriculture.'}}\",\n",
      "  \"Number of Volunteering\": 1,\n",
      "  \"Skills\": \"{'Skill 0': 'Agricultural Technology', 'Skill 1': 'Product Development', 'Skill 2': 'Data Analysis', 'Skill 3': 'Sustainable Agriculture'}\",\n",
      "  \"Number of Skills\": 4,\n",
      "  \"Recommendations\": \"{'0': {'User': 'Michael Ochieng', 'Category': 'in', 'ID': 'michaelochieng', 'URL': 'https://www.linkedin.com/in/michaelochieng', 'Relation': 'April 5, 2019, Michael was a client of Leticia\\'s', 'Description': 'Leticia and her team at AgroSave have transformed my farm with their smart irrigation system. The dedication to providing solutions that fit the needs of smallholder farmers like myself is commendable. Leticia’s leadership and innovative approach in agriculture are paving the way for a revolution in farming in Kenya.'}, '1': {'User': 'Samantha Kimani', 'Category': 'in', 'ID': 'samanthakimani', 'URL': 'https://www.linkedin.com/in/samanthakimani', 'Relation': 'July 10, 2020, Samantha worked with Leticia but on different teams', 'Description': 'Working with Leticia on the Tech for Agri project was an enlightening experience. Her expertise in agritech and her visionary approach to product development contributed immensely to the project\\'s success. Her dedication to improving the lives of farmers through technology is truly inspiring.'}}\",\n",
      "  \"Number of Recommendations\": 2,\n",
      "  \"Projects\": \"{}\",\n",
      "  \"Number of Projects\": 0,\n",
      "  \"Publications\": \"{'0': {'Title': 'Innovative Approaches to Sustainable Agriculture: Case Studies from Kenya', 'Journal': 'International Journal of Agricultural Innovation and Research \\u00b7 Mar 15, 2015', 'Description': 'Co-authored a comprehensive study on the application of innovative agricultural technologies in improving farm productivity and sustainability in Kenya.'}}\",\n",
      "  \"Number of Publications\": 1,\n",
      "  \"Courses\": \"{}\",\n",
      "  \"Number of Courses\": 0,\n",
      "  \"Honors\": \"{}\",\n",
      "  \"Number of Honors\": 0,\n",
      "  \"Scores\": \"{}\",\n",
      "  \"Number of Scores\": 0,\n",
      "  \"Languages\": \"{'Language 0': 'English', 'Language 1': 'Swahili', 'Language 2': 'French'}\",\n",
      "  \"Number of Languages\": 3,\n",
      "  \"Organizations\": \"{}\",\n",
      "  \"Number of Organizations\": 0,\n",
      "  \"Interests\": \"{'0': {'Interest': 'The World Bank', 'ID': '1035', 'Category': 'company', 'URL': 'https://www.linkedin.com/company/1035'}, '1': {'Interest': 'Bill & Melinda Gates Foundation', 'ID': '162438', 'Category': 'company', 'URL': 'https://www.linkedin.com/company/162438'}, '2': {'Interest': 'One Acre Fund', 'ID': '92673', 'Category': 'company', 'URL': 'https://www.linkedin.com/company/92673'}, '3': {'Interest': 'CGIAR', 'ID': '9521', 'Category': 'company', 'URL': 'https://www.linkedin.com/company/9521'}, '4': {'Interest': 'Agritecture', 'ID': '8096883', 'Category': 'company', 'URL': 'https://www.linkedin.com/company/8096883'}}\",\n",
      "  \"Number of Interests\": 5,\n",
      "  \"Activities\": \"{'jomo-kenyatta-university-of-agriculture-and-technology': {'Full Name': 'Jomo Kenyatta University of Agriculture and Technology', 'Category': 'school', 'URL': 'https://www.linkedin.com/school/jomo-kenyatta-university-of-agriculture-and-technology'}, 'university-of-nairobi': {'Full Name': 'University of Nairobi', 'Category': 'school', 'URL': 'https://www.linkedin.com/school/university-of-nairobi'}}\",\n",
      "  \"Number of Activities\": 2,\n",
      "  \"Label\": 0\n",
      "}\n",
      "JSON Error: Invalid \\escape: line 12 column 113 (char 2350)\n",
      "\n",
      "Retry 1/3 after error: Invalid \\escape: line 12 column 113 (char 2350)\n",
      "Last response received: {\n",
      "  \"Intro\": \"{'Full Name': 'Leticia Moreno', 'Workplace': 'Co-founder & CEO at AgroSave - Tech Innovations for Sustainable Farming', 'Location': 'Nairobi, Kenya', 'Connections': '500+', 'Photo': 'Yes', 'Followers': '1200'}\",\n",
      "  \"Full Name\": \"Leticia Moreno\",\n",
      "  \"Workplace\": \"Co-founder & CEO at AgroSave - Tech Innovations for Sustainable Farming\",\n",
      "  \"Location\": \"Nairobi, Kenya\",\n",
      "  \"Connections\": 500,\n",
      "  \"Photo\": \"Yes\",\n",
      "  \"Followers\": 1200,\n",
      "  \"About\": \"Passionate about leveraging technology to address critical challenges in agriculture. My focus is on using data-driven solutions to make farming sustainable and profitable for smallholder farmers in Africa. With a background in agricultural technology and impactful leadership, I aim to bridge the gap between technology and traditional farming practices to revolutionize the agritech space in emerging markets.\",\n",
      "  \"Experiences\": \"{'0': {'Role': 'Co-founder & CEO', 'Workplace': 'AgroSave', 'Duration': 'Jan 2019 - Present \\u00b7 4 yrs', 'Workplace Location': 'Nairobi, Kenya', 'Description': 'Leading a startup at the forefront of developing affordable and scalable technological solutions aimed at enhancing farm productivity and sustainability. AgroSave focuses on IoT devices for smart irrigation systems, crop disease prediction software, and data analytics platforms for better crop management.'}, '1': {'Workplace': 'Tech for Agri', 'Role': 'Product Manager', 'Duration': 'Jul 2015 - Dec 2018 \\u00b7 3 yrs 6 mos', 'Workplace Location': 'Nairobi, Kenya', 'Description': 'Managed and led key projects for developing mobile applications and software tools designed for agricultural productivity and market access. Played a crucial role in product conceptualization, development, and deployment, impacting over 10,000 smallholder farmers in East Africa.'}, '2': {'Workplace': 'Kenya Agriculture Research Institute', 'Role': 'Agronomist Intern', 'Duration': 'Jan 2014 - Jun 2015 \\u00b7 1 yr 6 mos', 'Workplace Location': 'Nairobi, Kenya', 'Description': 'Conducted research on crop health and soil management practices. Co-authored two research papers on sustainable farming techniques that were published in international agricultural journals.'}}\",\n",
      "  \"Number of Experiences\": 3,\n",
      "  \"Educations\": \"{'0': {'Institute': 'Jomo Kenyatta University of Agriculture and Technology', 'Degree': 'Master\\'s degree, Agricultural and Horticultural Plant Breeding', 'Duration': '2012 - 2014', 'Description': 'Graduated with honors and led a student project on the development of drought-resistant crops.'}, '1': {'Institute': 'University of Nairobi', 'Degree': 'Bachelor of Science (B.Sc.), Agriculture, General', 'Duration': '2008 - 2012', 'Description': 'Member of the University Agricultural Society and winner of the Young Innovators in Agriculture award 2011.'}}\",\n",
      "  \"Number of Educations\": 2,\n",
      "  \"Licenses\": \"{'0': {'Title': 'Certified Data Analyst', 'Company': 'IBM', 'Description': 'Issued Aug 2018 \\u00b7 No Expiration Date'}, '1': {'Title': 'Project Management Professional (PMP)', 'Company': 'Project Management Institute', 'Description': 'Issued Dec 2017 \\u00b7 Expires Dec 2023'}}\",\n",
      "  \"Number of Licenses\": 2,\n",
      "  \"Volunteering\": \"{'0': {'Role': 'Community Farming Advisor', 'Organization': 'Grow Kenya Initiative', 'Duration': '2016 - Present \\u00b7 7 yrs', 'Description': 'Provide voluntary advisory services to community farming projects focusing on sustainable practices and youth engagement in agriculture.'}}\",\n",
      "  \"Number of Volunteering\": 1,\n",
      "  \"Skills\": \"{'Skill 0': 'Agricultural Technology', 'Skill 1': 'Product Development', 'Skill 2': 'Data Analysis', 'Skill 3': 'Sustainable Agriculture'}\",\n",
      "  \"Number of Skills\": 4,\n",
      "  \"Recommendations\": \"{'0': {'User': 'Michael Ochieng', 'Category': 'in', 'ID': 'michaelochieng', 'URL': 'https://www.linkedin.com/in/michaelochieng', 'Relation': 'April 5, 2019, Michael was a client of Leticia\\'s', 'Description': 'Leticia and her team at AgroSave have transformed my farm with their smart irrigation system. The dedication to providing solutions that fit the needs of smallholder farmers like myself is commendable. Leticia’s leadership and innovative approach in agriculture are paving the way for a revolution in farming in Kenya.'}, '1': {'User': 'Samantha Kimani', 'Category': 'in', 'ID': 'samanthakimani', 'URL': 'https://www.linkedin.com/in/samanthakimani', 'Relation': 'July 10, 2020, Samantha worked with Leticia but on different teams', 'Description': 'Working with Leticia on the Tech for Agri project was an enlightening experience. Her expertise in agritech and her visionary approach to product development contributed immensely to the project\\'s success. Her dedication to improving the lives of farmers through technology is truly inspiring.'}}\",\n",
      "  \"Number of Recommendations\": 2,\n",
      "  \"Projects\": \"{}\",\n",
      "  \"Number of Projects\": 0,\n",
      "  \"Publications\": \"{'0': {'Title': 'Innovative Approaches to Sustainable Agriculture: Case Studies from Kenya', 'Journal': 'International Journal of Agricultural Innovation and Research \\u00b7 Mar 15, 2015', 'Description': 'Co-authored a comprehensive study on the application of innovative agricultural technologies in improving farm productivity and sustainability in Kenya.'}}\",\n",
      "  \"Number of Publications\": 1,\n",
      "  \"Courses\": \"{}\",\n",
      "  \"Number of Courses\": 0,\n",
      "  \"Honors\": \"{}\",\n",
      "  \"Number of Honors\": 0,\n",
      "  \"Scores\": \"{}\",\n",
      "  \"Number of Scores\": 0,\n",
      "  \"Languages\": \"{'Language 0': 'English', 'Language 1': 'Swahili', 'Language 2': 'French'}\",\n",
      "  \"Number of Languages\": 3,\n",
      "  \"Organizations\": \"{}\",\n",
      "  \"Number of Organizations\": 0,\n",
      "  \"Interests\": \"{'0': {'Interest': 'The World Bank', 'ID': '1035', 'Category': 'company', 'URL': 'https://www.linkedin.com/company/1035'}, '1': {'Interest': 'Bill & Melinda Gates Foundation', 'ID': '162438', 'Category': 'company', 'URL': 'https://www.linkedin.com/company/162438'}, '2': {'Interest': 'One Acre Fund', 'ID': '92673', 'Category': 'company', 'URL': 'https://www.linkedin.com/company/92673'}, '3': {'Interest': 'CGIAR', 'ID': '9521', 'Category': 'company', 'URL': 'https://www.linkedin.com/company/9521'}, '4': {'Interest': 'Agritecture', 'ID': '8096883', 'Category': 'company', 'URL': 'https://www.linkedin.com/company/8096883'}}\",\n",
      "  \"Number of Interests\": 5,\n",
      "  \"Activities\": \"{'jomo-kenyatta-university-of-agriculture-and-technology': {'Full Name': 'Jomo Kenyatta University of Agriculture and Technology', 'Category': 'school', 'URL': 'https://www.linkedin.com/school/jomo-kenyatta-university-of-agriculture-and-technology'}, 'university-of-nairobi': {'Full Name': 'University of Nairobi', 'Category': 'school', 'URL': 'https://www.linkedin.com/school/university-of-nairobi'}}\",\n",
      "  \"Number of Activities\": 2,\n",
      "  \"Label\": 0\n",
      "}\n"
     ]
    },
    {
     "name": "stderr",
     "output_type": "stream",
     "text": [
      "Generating profiles:  26%|████████▉                         | 470/1800 [3:16:17<29:48:28, 80.68s/it]"
     ]
    },
    {
     "name": "stdout",
     "output_type": "stream",
     "text": [
      "\n",
      "Saved 470 profiles to: generated_profiles_NEW.csv\n",
      "Completed batch 46, total profiles generated: 470\n",
      "\n",
      "Starting batch 47/312\n",
      "Selected 5 new random example profiles for this batch\n"
     ]
    },
    {
     "name": "stderr",
     "output_type": "stream",
     "text": [
      "Generating profiles:  26%|████████▉                         | 475/1800 [3:21:23<22:21:57, 60.77s/it]"
     ]
    },
    {
     "name": "stdout",
     "output_type": "stream",
     "text": [
      "\n",
      "Saved 475 profiles to: generated_profiles_NEW.csv\n",
      "Completed batch 47, total profiles generated: 475\n",
      "\n",
      "Starting batch 48/312\n",
      "Selected 5 new random example profiles for this batch\n"
     ]
    },
    {
     "name": "stderr",
     "output_type": "stream",
     "text": [
      "Generating profiles:  27%|█████████                         | 480/1800 [3:25:41<19:03:30, 51.98s/it]"
     ]
    },
    {
     "name": "stdout",
     "output_type": "stream",
     "text": [
      "\n",
      "Saved 480 profiles to: generated_profiles_NEW.csv\n",
      "Completed batch 48, total profiles generated: 480\n",
      "\n",
      "Starting batch 49/312\n",
      "Selected 5 new random example profiles for this batch\n",
      "\n",
      "Invalid JSON received:\n",
      "{\n",
      "    \"Intro\": \"{'Full Name': 'Rajiv Kumar', 'Workplace': 'Co-Founder & CEO at HealthTech Innovations', 'Location': 'Bengaluru, Karnataka, India', 'Connections': '500+', 'Photo': 'Yes', 'Followers': ''}\",\n",
      "    \"Full Name\": \"Rajiv Kumar\",\n",
      "    \"Workplace\": \"Co-Founder & CEO at HealthTech Innovations\",\n",
      "    \"Location\": \"Bengaluru, Karnataka, India\",\n",
      "    \"Connections\": 500,\n",
      "    \"Photo\": \"Yes\",\n",
      "    \"Followers\": 4583,\n",
      "    \"About\": \"A visionary entrepreneur with over 15 years of experience in the healthcare technology sector, dedicated to revolutionizing patient care through innovative solutions. Adept at leading teams to create disruptive products that improve health outcomes and access to medical services.\",\n",
      "    \"Experiences\": \"{'0': {'Role': 'Co-Founder & CEO', 'Workplace': 'HealthTech Innovations', 'Duration': 'Jan 2015 - Present · 8 yrs', 'Workplace Location': 'Bengaluru, India', 'Description': '- Spearheaded the development of a game-changing remote patient monitoring system.\\n- Successfully raised $20M in Series B funding to expand the company’s market reach.\\n- Implemented agile methodologies, resulting in a 40% increase in product development speed.'}, '1': {'Role': 'Product Manager', 'Workplace': 'MediSolutions', 'Duration': 'Aug 2008 - Dec 2014 · 6 yrs 5 mos', 'Workplace Location': 'Hyderabad, India', 'Description': '- Led cross-functional teams in the launch of three major healthcare platform updates, directly contributing to a 25% growth in annual revenue.\\n- Managed product lifecycle from ideation to market launch, ensuring compliance with international health regulations.'}}\",\n",
      "    \"Number of Experiences\": 2,\n",
      "    \"Educations\": \"{'0': {'Institute': 'Indian Institute of Management, Bangalore', 'Degree': 'Executive MBA, Business Administration', 'Duration': '2005 - 2007', 'Description': ''}, '1': {'Institute': 'Indian Institute of Technology, Delhi', 'Degree': 'B.Tech, Biomedical Engineering', 'Duration': '2001 - 2005', 'Description': ''}}\",\n",
      "    \"Number of Educations\": 2,\n",
      "    \"Licenses\": \"{}\",\n",
      "    \"Number of Licenses\": 0,\n",
      "    \"Volunteering\": \"{'0': {'Role': 'Mentor', 'Organization': 'StartUp Health India', 'Duration': 'Jun 2019 - Present · 3 yrs 9 mos', 'Description': 'Provide mentorship to early-stage healthtech startups, focusing on business development, funding strategies, and product innovation.'}}\",\n",
      "    \"Number of Volunteering\": 1,\n",
      "    \"Skills\": \"{'Skill 0': 'Entrepreneurship', 'Skill 1': 'Product Development', 'Skill 2': 'Team Leadership', 'Skill 3': 'Fundraising', 'Skill 4': 'Agile Methodologies'}\",\n",
      "    \"Number of Skills\": 5,\n",
      "    \"Recommendations\": \"{}\",\n",
      "    \"Number of Recommendations\": 0,\n",
      "    \"Projects\": \"{'0': {'Title': 'Remote Patient Monitoring System', 'Date': 'Nov 2016 - Present', 'Description': 'Led the development and launch of an innovative system that allows for real-time monitoring of patients\\' vital signs remotely, contributing to a significant reduction in hospital readmission rates.'}}\",\n",
      "    \"Number of Projects\": 1,\n",
      "    \"Publications\": \"{}\",\n",
      "    \"Number of Publications\": 0,\n",
      "    \"Courses\": \"{}\",\n",
      "    \"Number of Courses\": 0,\n",
      "    \"Honors\": \"{}\",\n",
      "    \"Number of Honors\": 0,\n",
      "    \"Scores\": \"{}\",\n",
      "    \"Number of Scores\": 0,\n",
      "    \"Languages\": \"{'0': {'Language': 'English'}, '1': {'Language': 'Hindi'}}\",\n",
      "    \"Number of Languages\": 2,\n",
      "    \"Organizations\": \"{'0': {'Organization': 'Indian Entrepreneurship Foundation', 'Role': 'Board Member'}, '1': {'Organization': 'Global HealthTech Leaders Forum', 'Role': 'Committee Member'}}\",\n",
      "    \"Number of Organizations\": 2,\n",
      "    \"Interests\": \"{'0': {'Interest': 'Narayana Health', 'ID': '164244', 'Category': 'company', 'URL': 'https://www.linkedin.com/company/164244'}, '1': {'Interest': 'Indian Institute of Management Bangalore', 'ID': '10217', 'Category': 'school', 'URL': 'https://www.linkedin.com/school/10217'}, '2': {'Interest': 'TechCrunch', 'ID': '10667', 'Category': 'company', 'URL': 'https://www.linkedin.com/company/10667'}, '3': {'Interest': 'World Health Organization', 'ID': '19373', 'Category': 'company', 'URL': 'https://www.linkedin.com/company/19373'}}\",\n",
      "    \"Number of Interests\": 4,\n",
      "    \"Activities\": \"{'reesa-gupta': {'Full Name': 'Reesa Gupta', 'Category': 'in', 'URL': 'https://www.linkedin.com/in/reesa-gupta'}, 'health-tech-asia': {'Full Name': 'Health Tech Asia', 'Category': 'company', 'URL': 'https://www.linkedin.com/company/health-tech-asia'}}\",\n",
      "    \"Number of Activities\": 2,\n",
      "    \"Label\": 0\n",
      "  }\n",
      "JSON Error: Invalid \\escape: line 22 column 219 (char 2864)\n",
      "\n",
      "Retry 1/3 after error: Invalid \\escape: line 22 column 219 (char 2864)\n",
      "Last response received: {\n",
      "    \"Intro\": \"{'Full Name': 'Rajiv Kumar', 'Workplace': 'Co-Founder & CEO at HealthTech Innovations', 'Location': 'Bengaluru, Karnataka, India', 'Connections': '500+', 'Photo': 'Yes', 'Followers': ''}\",\n",
      "    \"Full Name\": \"Rajiv Kumar\",\n",
      "    \"Workplace\": \"Co-Founder & CEO at HealthTech Innovations\",\n",
      "    \"Location\": \"Bengaluru, Karnataka, India\",\n",
      "    \"Connections\": 500,\n",
      "    \"Photo\": \"Yes\",\n",
      "    \"Followers\": 4583,\n",
      "    \"About\": \"A visionary entrepreneur with over 15 years of experience in the healthcare technology sector, dedicated to revolutionizing patient care through innovative solutions. Adept at leading teams to create disruptive products that improve health outcomes and access to medical services.\",\n",
      "    \"Experiences\": \"{'0': {'Role': 'Co-Founder & CEO', 'Workplace': 'HealthTech Innovations', 'Duration': 'Jan 2015 - Present · 8 yrs', 'Workplace Location': 'Bengaluru, India', 'Description': '- Spearheaded the development of a game-changing remote patient monitoring system.\\n- Successfully raised $20M in Series B funding to expand the company’s market reach.\\n- Implemented agile methodologies, resulting in a 40% increase in product development speed.'}, '1': {'Role': 'Product Manager', 'Workplace': 'MediSolutions', 'Duration': 'Aug 2008 - Dec 2014 · 6 yrs 5 mos', 'Workplace Location': 'Hyderabad, India', 'Description': '- Led cross-functional teams in the launch of three major healthcare platform updates, directly contributing to a 25% growth in annual revenue.\\n- Managed product lifecycle from ideation to market launch, ensuring compliance with international health regulations.'}}\",\n",
      "    \"Number of Experiences\": 2,\n",
      "    \"Educations\": \"{'0': {'Institute': 'Indian Institute of Management, Bangalore', 'Degree': 'Executive MBA, Business Administration', 'Duration': '2005 - 2007', 'Description': ''}, '1': {'Institute': 'Indian Institute of Technology, Delhi', 'Degree': 'B.Tech, Biomedical Engineering', 'Duration': '2001 - 2005', 'Description': ''}}\",\n",
      "    \"Number of Educations\": 2,\n",
      "    \"Licenses\": \"{}\",\n",
      "    \"Number of Licenses\": 0,\n",
      "    \"Volunteering\": \"{'0': {'Role': 'Mentor', 'Organization': 'StartUp Health India', 'Duration': 'Jun 2019 - Present · 3 yrs 9 mos', 'Description': 'Provide mentorship to early-stage healthtech startups, focusing on business development, funding strategies, and product innovation.'}}\",\n",
      "    \"Number of Volunteering\": 1,\n",
      "    \"Skills\": \"{'Skill 0': 'Entrepreneurship', 'Skill 1': 'Product Development', 'Skill 2': 'Team Leadership', 'Skill 3': 'Fundraising', 'Skill 4': 'Agile Methodologies'}\",\n",
      "    \"Number of Skills\": 5,\n",
      "    \"Recommendations\": \"{}\",\n",
      "    \"Number of Recommendations\": 0,\n",
      "    \"Projects\": \"{'0': {'Title': 'Remote Patient Monitoring System', 'Date': 'Nov 2016 - Present', 'Description': 'Led the development and launch of an innovative system that allows for real-time monitoring of patients\\' vital signs remotely, contributing to a significant reduction in hospital readmission rates.'}}\",\n",
      "    \"Number of Projects\": 1,\n",
      "    \"Publications\": \"{}\",\n",
      "    \"Number of Publications\": 0,\n",
      "    \"Courses\": \"{}\",\n",
      "    \"Number of Courses\": 0,\n",
      "    \"Honors\": \"{}\",\n",
      "    \"Number of Honors\": 0,\n",
      "    \"Scores\": \"{}\",\n",
      "    \"Number of Scores\": 0,\n",
      "    \"Languages\": \"{'0': {'Language': 'English'}, '1': {'Language': 'Hindi'}}\",\n",
      "    \"Number of Languages\": 2,\n",
      "    \"Organizations\": \"{'0': {'Organization': 'Indian Entrepreneurship Foundation', 'Role': 'Board Member'}, '1': {'Organization': 'Global HealthTech Leaders Forum', 'Role': 'Committee Member'}}\",\n",
      "    \"Number of Organizations\": 2,\n",
      "    \"Interests\": \"{'0': {'Interest': 'Narayana Health', 'ID': '164244', 'Category': 'company', 'URL': 'https://www.linkedin.com/company/164244'}, '1': {'Interest': 'Indian Institute of Management Bangalore', 'ID': '10217', 'Category': 'school', 'URL': 'https://www.linkedin.com/school/10217'}, '2': {'Interest': 'TechCrunch', 'ID': '10667', 'Category': 'company', 'URL': 'https://www.linkedin.com/company/10667'}, '3': {'Interest': 'World Health Organization', 'ID': '19373', 'Category': 'company', 'URL': 'https://www.linkedin.com/company/19373'}}\",\n",
      "    \"Number of Interests\": 4,\n",
      "    \"Activities\": \"{'reesa-gupta': {'Full Name': 'Reesa Gupta', 'Category': 'in', 'URL': 'https://www.linkedin.com/in/reesa-gupta'}, 'health-tech-asia': {'Full Name': 'Health Tech Asia', 'Category': 'company', 'URL': 'https://www.linkedin.com/company/health-tech-asia'}}\",\n",
      "    \"Number of Activities\": 2,\n",
      "    \"Label\": 0\n",
      "  }\n"
     ]
    },
    {
     "name": "stderr",
     "output_type": "stream",
     "text": [
      "Generating profiles:  27%|█████████▏                        | 485/1800 [3:31:13<21:46:18, 59.60s/it]"
     ]
    },
    {
     "name": "stdout",
     "output_type": "stream",
     "text": [
      "\n",
      "Saved 485 profiles to: generated_profiles_NEW.csv\n",
      "Completed batch 49, total profiles generated: 485\n",
      "\n",
      "Starting batch 50/312\n",
      "Selected 5 new random example profiles for this batch\n"
     ]
    },
    {
     "name": "stderr",
     "output_type": "stream",
     "text": [
      "Generating profiles:  27%|█████████▎                        | 490/1800 [3:36:28<21:50:17, 60.01s/it]"
     ]
    },
    {
     "name": "stdout",
     "output_type": "stream",
     "text": [
      "\n",
      "Saved 490 profiles to: generated_profiles_NEW.csv\n",
      "Completed batch 50, total profiles generated: 490\n",
      "\n",
      "Starting batch 51/312\n",
      "Selected 5 new random example profiles for this batch\n"
     ]
    },
    {
     "name": "stderr",
     "output_type": "stream",
     "text": [
      "Generating profiles:  28%|█████████▎                        | 495/1800 [3:40:49<18:34:07, 51.22s/it]"
     ]
    },
    {
     "name": "stdout",
     "output_type": "stream",
     "text": [
      "\n",
      "Saved 495 profiles to: generated_profiles_NEW.csv\n",
      "Completed batch 51, total profiles generated: 495\n",
      "\n",
      "Starting batch 52/312\n",
      "Selected 5 new random example profiles for this batch\n"
     ]
    },
    {
     "name": "stderr",
     "output_type": "stream",
     "text": [
      "Generating profiles:  28%|█████████▍                        | 500/1800 [3:44:48<16:59:45, 47.07s/it]"
     ]
    },
    {
     "name": "stdout",
     "output_type": "stream",
     "text": [
      "\n",
      "Saved 500 profiles to: generated_profiles_NEW.csv\n",
      "Completed batch 52, total profiles generated: 500\n",
      "\n",
      "Starting batch 53/312\n",
      "Selected 5 new random example profiles for this batch\n"
     ]
    },
    {
     "name": "stderr",
     "output_type": "stream",
     "text": [
      "Generating profiles:  28%|█████████▍                        | 502/1800 [3:46:19<16:43:28, 46.39s/it]"
     ]
    },
    {
     "name": "stdout",
     "output_type": "stream",
     "text": [
      "\n",
      "Invalid JSON received:\n",
      "{\n",
      "  \"Intro\": \"{'Full Name': 'Sofia Martinez', 'Workplace': 'Data Scientist at Nubank', 'Location': 'São Paulo, Brazil', 'Connections': '500+', 'Photo': 'Yes', 'Followers': '452'}\",\n",
      "  \"Full Name\": \"Sofia Martinez\",\n",
      "  \"Workplace\": \"Data Scientist at Nubank\",\n",
      "  \"Location\": \"São Paulo, Brazil\",\n",
      "  \"Connections\": 500,\n",
      "  \"Photo\": \"Yes\",\n",
      "  \"Followers\": 452,\n",
      "  \"About\": NaN,\n",
      "  \"Experiences\": \"{'0': {'Role': 'Data Scientist', 'Workplace': 'Nubank', 'Duration': 'Feb 2019 - Present \\u00b7 4 yrs', 'Workplace Location': 'São Paulo, Brazil', 'Description': 'Developing and deploying machine learning models to improve customer experience and reduce fraud. Collaborating across teams to implement data-driven strategies that support Nubank\\'s growth.'}, '1': {'Workplace': 'iFood', 'Role': 'Data Analyst', 'Duration': 'Jan 2017 - Jan 2019 \\u00b7 2 yrs', 'Workplace Location': 'Campinas, Brazil', 'Description': 'Analyzed large datasets to identify trends and insights. Supported the marketing team with data-driven decisions to enhance customer satisfaction and engagement.'}}\",\n",
      "  \"Number of Experiences\": 2,\n",
      "  \"Educations\": \"{'0': {'Institute': 'Universidade de São Paulo', 'Degree': 'Master of Science (MSc), Data Science', 'Duration': '2014 - 2016', 'Description': ''}, '1': {'Institute': 'Universidade Estadual de Campinas', 'Degree': 'Bachelor of Science (BS), Statistics', 'Duration': '2010 - 2014', 'Description': ''}}\",\n",
      "  \"Number of Educations\": 2,\n",
      "  \"Licenses\": \"{}\",\n",
      "  \"Number of Licenses\": 0,\n",
      "  \"Volunteering\": \"{}\",\n",
      "  \"Number of Volunteering\": 0,\n",
      "  \"Skills\": \"{'Skill 0': 'Data Analysis', 'Skill 1': 'Machine Learning', 'Skill 2': 'Python'}\",\n",
      "  \"Number of Skills\": 3,\n",
      "  \"Recommendations\": \"{}\",\n",
      "  \"Number of Recommendations\": 0,\n",
      "  \"Projects\": \"{'0': {'Title': 'Fraud Prevention Model', 'Date': 'Mar 2020 - Present', 'Description': 'Led a project to design and implement a fraud detection system using machine learning, resulting in a 20% reduction in fraudulent transactions.'}, '1': {'Title': 'Customer Segmentation Analysis', 'Date': 'Jul 2018 - Dec 2018', 'Description': 'Conducted a comprehensive analysis on customer data to identify distinct segments, which informed targeted marketing strategies.'}}\",\n",
      "  \"Number of Projects\": 2,\n",
      "  \"Publications\": \"{}\",\n",
      "  \"Number of Publications\": 0,\n",
      "  \"Courses\": \"{}\",\n",
      "  \"Number of Courses\": 0,\n",
      "  \"Honors\": \"{}\",\n",
      "  \"Number of Honors\": 0,\n",
      "  \"Scores\": \"{}\",\n",
      "  \"Number of Scores\": 0,\n",
      "  \"Languages\": \"{'0': {'Language': 'Portuguese', 'Proficiency': 'Native'}, '1': {'Language': 'English', 'Proficiency': 'Fluent'}}\",\n",
      "  \"Number of Languages\": 2,\n",
      "  \"Organizations\": \"{'0': {'Organization': 'Brazilian Association for Statistical Development', 'Role': 'Member \\u00b7 Jan 2015 - Present'}}\",\n",
      "  \"Number of Organizations\": 1,\n",
      "  \"Interests\": \"{'0': {'Interest': 'Data Science Central', 'ID': '12299120', 'Category': 'groups', 'URL': 'https://www.linkedin.com/groups/12299120'}, '1': {'Interest': 'Nubank', 'ID': '8346761', 'Category': 'company', 'URL': 'https://www.linkedin.com/company/8346761'}, '2': {'Interest': 'Universidade de São Paulo', 'ID': '10311', 'Category': 'school', 'URL': 'https://www.linkedin.com/school/10311'}}\",\n",
      "  \"Number of Interests\": 3,\n",
      "  \"Activities\": \"{'nubank': {'Full Name': 'Nubank', 'Category': 'company', 'URL': 'https://www.linkedin.com/company/nubank'}, 'university-of-california-berkeley': {'Full Name': 'University of São Paulo', 'Category': 'school', 'URL': 'https://www.linkedin.com/school/university-of-sao-paulo'}}\",\n",
      "  \"Number of Activities\": 2,\n",
      "  \"Label\": 0\n",
      "}\n",
      "JSON Error: Invalid \\escape: line 10 column 361 (char 728)\n",
      "\n",
      "Retry 1/3 after error: Invalid \\escape: line 10 column 361 (char 728)\n",
      "Last response received: {\n",
      "  \"Intro\": \"{'Full Name': 'Sofia Martinez', 'Workplace': 'Data Scientist at Nubank', 'Location': 'São Paulo, Brazil', 'Connections': '500+', 'Photo': 'Yes', 'Followers': '452'}\",\n",
      "  \"Full Name\": \"Sofia Martinez\",\n",
      "  \"Workplace\": \"Data Scientist at Nubank\",\n",
      "  \"Location\": \"São Paulo, Brazil\",\n",
      "  \"Connections\": 500,\n",
      "  \"Photo\": \"Yes\",\n",
      "  \"Followers\": 452,\n",
      "  \"About\": NaN,\n",
      "  \"Experiences\": \"{'0': {'Role': 'Data Scientist', 'Workplace': 'Nubank', 'Duration': 'Feb 2019 - Present \\u00b7 4 yrs', 'Workplace Location': 'São Paulo, Brazil', 'Description': 'Developing and deploying machine learning models to improve customer experience and reduce fraud. Collaborating across teams to implement data-driven strategies that support Nubank\\'s growth.'}, '1': {'Workplace': 'iFood', 'Role': 'Data Analyst', 'Duration': 'Jan 2017 - Jan 2019 \\u00b7 2 yrs', 'Workplace Location': 'Campinas, Brazil', 'Description': 'Analyzed large datasets to identify trends and insights. Supported the marketing team with data-driven decisions to enhance customer satisfaction and engagement.'}}\",\n",
      "  \"Number of Experiences\": 2,\n",
      "  \"Educations\": \"{'0': {'Institute': 'Universidade de São Paulo', 'Degree': 'Master of Science (MSc), Data Science', 'Duration': '2014 - 2016', 'Description': ''}, '1': {'Institute': 'Universidade Estadual de Campinas', 'Degree': 'Bachelor of Science (BS), Statistics', 'Duration': '2010 - 2014', 'Description': ''}}\",\n",
      "  \"Number of Educations\": 2,\n",
      "  \"Licenses\": \"{}\",\n",
      "  \"Number of Licenses\": 0,\n",
      "  \"Volunteering\": \"{}\",\n",
      "  \"Number of Volunteering\": 0,\n",
      "  \"Skills\": \"{'Skill 0': 'Data Analysis', 'Skill 1': 'Machine Learning', 'Skill 2': 'Python'}\",\n",
      "  \"Number of Skills\": 3,\n",
      "  \"Recommendations\": \"{}\",\n",
      "  \"Number of Recommendations\": 0,\n",
      "  \"Projects\": \"{'0': {'Title': 'Fraud Prevention Model', 'Date': 'Mar 2020 - Present', 'Description': 'Led a project to design and implement a fraud detection system using machine learning, resulting in a 20% reduction in fraudulent transactions.'}, '1': {'Title': 'Customer Segmentation Analysis', 'Date': 'Jul 2018 - Dec 2018', 'Description': 'Conducted a comprehensive analysis on customer data to identify distinct segments, which informed targeted marketing strategies.'}}\",\n",
      "  \"Number of Projects\": 2,\n",
      "  \"Publications\": \"{}\",\n",
      "  \"Number of Publications\": 0,\n",
      "  \"Courses\": \"{}\",\n",
      "  \"Number of Courses\": 0,\n",
      "  \"Honors\": \"{}\",\n",
      "  \"Number of Honors\": 0,\n",
      "  \"Scores\": \"{}\",\n",
      "  \"Number of Scores\": 0,\n",
      "  \"Languages\": \"{'0': {'Language': 'Portuguese', 'Proficiency': 'Native'}, '1': {'Language': 'English', 'Proficiency': 'Fluent'}}\",\n",
      "  \"Number of Languages\": 2,\n",
      "  \"Organizations\": \"{'0': {'Organization': 'Brazilian Association for Statistical Development', 'Role': 'Member \\u00b7 Jan 2015 - Present'}}\",\n",
      "  \"Number of Organizations\": 1,\n",
      "  \"Interests\": \"{'0': {'Interest': 'Data Science Central', 'ID': '12299120', 'Category': 'groups', 'URL': 'https://www.linkedin.com/groups/12299120'}, '1': {'Interest': 'Nubank', 'ID': '8346761', 'Category': 'company', 'URL': 'https://www.linkedin.com/company/8346761'}, '2': {'Interest': 'Universidade de São Paulo', 'ID': '10311', 'Category': 'school', 'URL': 'https://www.linkedin.com/school/10311'}}\",\n",
      "  \"Number of Interests\": 3,\n",
      "  \"Activities\": \"{'nubank': {'Full Name': 'Nubank', 'Category': 'company', 'URL': 'https://www.linkedin.com/company/nubank'}, 'university-of-california-berkeley': {'Full Name': 'University of São Paulo', 'Category': 'school', 'URL': 'https://www.linkedin.com/school/university-of-sao-paulo'}}\",\n",
      "  \"Number of Activities\": 2,\n",
      "  \"Label\": 0\n",
      "}\n"
     ]
    },
    {
     "name": "stderr",
     "output_type": "stream",
     "text": [
      "Generating profiles:  28%|█████████▌                        | 505/1800 [3:49:35<19:25:52, 54.02s/it]"
     ]
    },
    {
     "name": "stdout",
     "output_type": "stream",
     "text": [
      "\n",
      "Saved 505 profiles to: generated_profiles_NEW.csv\n",
      "Completed batch 53, total profiles generated: 505\n",
      "\n",
      "Starting batch 54/312\n",
      "Selected 5 new random example profiles for this batch\n"
     ]
    },
    {
     "name": "stderr",
     "output_type": "stream",
     "text": [
      "Generating profiles:  28%|█████████▋                        | 510/1800 [3:54:17<19:56:51, 55.67s/it]"
     ]
    },
    {
     "name": "stdout",
     "output_type": "stream",
     "text": [
      "\n",
      "Saved 510 profiles to: generated_profiles_NEW.csv\n",
      "Completed batch 54, total profiles generated: 510\n",
      "\n",
      "Starting batch 55/312\n",
      "Selected 5 new random example profiles for this batch\n"
     ]
    },
    {
     "name": "stderr",
     "output_type": "stream",
     "text": [
      "Generating profiles:  28%|█████████▋                        | 511/1800 [3:55:16<20:14:53, 56.55s/it]"
     ]
    },
    {
     "name": "stdout",
     "output_type": "stream",
     "text": [
      "\n",
      "Invalid JSON received:\n",
      "{\n",
      "    \"Intro\": \"{'Full Name': 'Diego Rivera', 'Workplace': 'Project Manager at Soluciones Integrales de Energía', 'Location': 'Mexico City, Mexico', 'Connections': '438', 'Photo': 'Yes', 'Followers': '622'}\",\n",
      "    \"Full Name\": \"Diego Rivera\",\n",
      "    \"Workplace\": \"Project Manager at Soluciones Integrales de Energía\",\n",
      "    \"Location\": \"Mexico City, Mexico\",\n",
      "    \"Connections\": 438,\n",
      "    \"Photo\": \"Yes\",\n",
      "    \"Followers\": 622,\n",
      "    \"About\": \"An experienced project manager in the renewable energy sector with a passion for sustainable development and innovative energy solutions. Strong background in engineering and business with proven success in leading cross-functional teams to achieve project goals and optimize energy efficiency.\",\n",
      "    \"Experiences\": \"{'0': {'Workplace': 'Soluciones Integrales de Energía', 'Role': 'Project Manager', 'Duration': 'Jan 2020 - Present \\u00b7 3 yrs', 'Workplace Location': 'Mexico City, Mexico', 'Description': 'Leading the planning, execution, and delivery of renewable energy projects including solar and wind. Manages project budgets, timelines, and resources, ensuring all projects align with industry standards and client expectations.'}, '1': {'Workplace': 'GreenTech Solutions', 'Role': 'Renewable Energy Consultant', 'Duration': 'May 2015 - Dec 2019 \\u00b7 4 yrs 8 mos', 'Workplace Location': 'Guadalajara, Jalisco, Mexico', 'Description': 'Consulted on renewable energy technologies, conducted feasibility studies, and developed strategies to reduce carbon footprint for various clients. Engaged in policy advocacy and community education campaigns.'}, '2': {'Workplace': 'Universidad Nacional Autónoma de México', 'Role': 'Research Assistant', 'Duration': 'Aug 2012 - Apr 2015 \\u00b7 2 yrs 9 mos', 'Workplace Location': 'Mexico City, Mexico', 'Description': 'Supported a team of researchers in the field of renewable energy, focusing on improving efficiency and reducing costs of solar panels. Assisted in publishing research findings in several academic journals.'}}\",\n",
      "    \"Number of Experiences\": 3,\n",
      "    \"Educations\": \"{'0': {'Institute': 'Tecnológico de Monterrey', 'Degree': 'Master’s Degree, Renewable Energy Technologies', 'Duration': '2013 - 2015', 'Description': 'Specialized in solar and wind energy technologies, graduated cum laude. Participated in university\\'s renewable energy club, leading several initiatives aimed at promoting sustainable practices on campus.'}, '1': {'Institute': 'Universidad Nacional Autónoma de México', 'Degree': 'Bachelor’s Degree, Mechanical Engineering', 'Duration': '2008 - 2012', 'Description': 'Graduated with honors. Thesis on the potential of renewable energy in rural Mexico received academic recognition and award.'}}\",\n",
      "    \"Number of Educations\": 2,\n",
      "    \"Licenses\": \"{'0': {'Title': 'Certified Project Manager (CPM)', 'Company': 'Project Management Institute', 'Description': 'Issued Jan 2018'}, '1': {'Title': 'Certified Energy Manager (CEM)', 'Company': 'Association of Energy Engineers', 'Description': 'Issued Jun 2017'}}\",\n",
      "    \"Number of Licenses\": 2,\n",
      "    \"Volunteering\": \"{'0': {'Role': 'Energy Consultant', 'Organization': 'Renewables for All', 'Duration': 'Sep 2016 - Present \\u00b7 6 yrs 6 mos', 'Description': 'Provide pro-bono consultancy for NGOs in rural areas to implement sustainable energy projects. Help communities gain access to clean and affordable energy.'}}\",\n",
      "    \"Number of Volunteering\": 1,\n",
      "    \"Skills\": \"{'Skill 0': 'Project Management', 'Skill 1': 'Renewable Energy Systems', 'Skill 2': 'Stakeholder Engagement', 'Skill 3': 'Budget Management'}\",\n",
      "    \"Number of Skills\": 4,\n",
      "    \"Recommendations\": \"{'0': {'User': 'Mariana López', 'Category': 'in', 'ID': 'mariana-lopez', 'URL': 'https://www.linkedin.com/in/mariana-lopez', 'Relation': 'June 15, 2021, Mariana reported directly to Diego', 'Description': 'Diego is an exceptional project manager who always maintains a clear vision of what is required to reach our objectives. His expertise in renewable energy not only ensures projects are completed successfully but also inspires and educates our team.'}, '1': {'User': 'Carlos Ramirez', 'Category': 'in', 'ID': 'carlos-ramirez', 'URL': 'https://www.linkedin.com/in/carlos-ramirez', 'Relation': 'December 10, 2020, Carlos was a client of Diego', 'Description': 'Working with Diego on our wind farm project was a great experience. His dedication and knowledge in renewable energy helped us overcome many challenges. He was always available and went the extra mile to meet our project goals.'}}\",\n",
      "    \"Number of Recommendations\": 2,\n",
      "    \"Projects\": \"{'0': {'Title': 'Solar Water Pumping System for Rural Communities', 'Date': 'Feb 2019 - Nov 2019', 'Description': 'Led a team to design and implement a solar water pumping system in rural Mexican communities, enhancing access to clean water and supporting local agriculture.'}}\",\n",
      "    \"Number of Projects\": 1,\n",
      "    \"Publications\": \"{'0': {'Title': 'The Impact of Renewable Energy on Rural Development in Mexico', 'Date': 'Mar 2015', 'Description': 'Co-authored a research paper that explores how renewable energy projects can drive economic growth in rural areas of Mexico, focusing on job creation and infrastructure improvement.'}}\",\n",
      "    \"Number of Publications\": 1,\n",
      "    \"Courses\": \"{'Course 0': 'Solar Energy Fundamentals', 'Course 1': 'Wind Energy Basics', 'Course 2': 'Effective Project Management for Renewable Energy'}\",\n",
      "    \"Number of Courses\": 3,\n",
      "    \"Honors\": \"{'0': {'Award': 'Best Graduate Thesis', 'Info': 'Issued by Universidad Nacional Autónoma de México \\u00b7 Jun 2012', 'Description': 'Received an award for the best thesis in renewable energy efficiency improvements.'}}\",\n",
      "    \"Number of Honors\": 1,\n",
      "    \"Scores\": \"{}\",\n",
      "    \"Number of Scores\": 0,\n",
      "    \"Languages\": \"{'Language 0': 'Spanish', 'Language 1': 'English'}\",\n",
      "    \"Number of Languages\": 2,\n",
      "    \"Organizations\": \"{}\",\n",
      "    \"Number of Organizations\": 0,\n",
      "    \"Interests\": \"{'0': {'Interest': 'Renewable Energy World', 'ID': '1009', 'Category': 'company', 'URL': 'https://www.linkedin.com/company/1009'}, '1': {'Interest': 'Project Management Institute', 'ID': '17941', 'Category': 'company', 'URL': 'https://www.linkedin.com/company/17941'}, '2': {'Interest': 'Association of Energy Engineers', 'ID': '15763', 'Category': 'company', 'URL': 'https://www.linkedin.com/company/15763'}, '3': {'Interest': 'GreenTech Media', 'ID': '274458', 'Category': 'company', 'URL': 'https://www.linkedin.com/company/274458'}}\",\n",
      "    \"Number of Interests\": 4,\n",
      "    \"Activities\": \"{'ana-maria-gonzalez': {'Full Name': 'Ana Maria Gonzalez', 'Category': 'in', 'URL': 'https://www.linkedin.com/in/ana-maria-gonzalez'}, 'jm-garcia': {'Full Name': 'Jose Miguel Garcia', 'Category': 'in', 'URL': 'https://www.linkedin.com/in/jm-garcia'}, 'luis-cardenas': {'Full Name': 'Luis Cardenas', 'Category': 'in', 'URL': 'https://www.linkedin.com/in/luis-cardenas'}}\",\n",
      "    \"Number of Activities\": 3,\n",
      "    \"Label\": 0\n",
      "}\n",
      "JSON Error: Invalid \\escape: line 12 column 269 (char 2309)\n",
      "\n",
      "Retry 1/3 after error: Invalid \\escape: line 12 column 269 (char 2309)\n",
      "Last response received: {\n",
      "    \"Intro\": \"{'Full Name': 'Diego Rivera', 'Workplace': 'Project Manager at Soluciones Integrales de Energía', 'Location': 'Mexico City, Mexico', 'Connections': '438', 'Photo': 'Yes', 'Followers': '622'}\",\n",
      "    \"Full Name\": \"Diego Rivera\",\n",
      "    \"Workplace\": \"Project Manager at Soluciones Integrales de Energía\",\n",
      "    \"Location\": \"Mexico City, Mexico\",\n",
      "    \"Connections\": 438,\n",
      "    \"Photo\": \"Yes\",\n",
      "    \"Followers\": 622,\n",
      "    \"About\": \"An experienced project manager in the renewable energy sector with a passion for sustainable development and innovative energy solutions. Strong background in engineering and business with proven success in leading cross-functional teams to achieve project goals and optimize energy efficiency.\",\n",
      "    \"Experiences\": \"{'0': {'Workplace': 'Soluciones Integrales de Energía', 'Role': 'Project Manager', 'Duration': 'Jan 2020 - Present \\u00b7 3 yrs', 'Workplace Location': 'Mexico City, Mexico', 'Description': 'Leading the planning, execution, and delivery of renewable energy projects including solar and wind. Manages project budgets, timelines, and resources, ensuring all projects align with industry standards and client expectations.'}, '1': {'Workplace': 'GreenTech Solutions', 'Role': 'Renewable Energy Consultant', 'Duration': 'May 2015 - Dec 2019 \\u00b7 4 yrs 8 mos', 'Workplace Location': 'Guadalajara, Jalisco, Mexico', 'Description': 'Consulted on renewable energy technologies, conducted feasibility studies, and developed strategies to reduce carbon footprint for various clients. Engaged in policy advocacy and community education campaigns.'}, '2': {'Workplace': 'Universidad Nacional Autónoma de México', 'Role': 'Research Assistant', 'Duration': 'Aug 2012 - Apr 2015 \\u00b7 2 yrs 9 mos', 'Workplace Location': 'Mexico City, Mexico', 'Description': 'Supported a team of researchers in the field of renewable energy, focusing on improving efficiency and reducing costs of solar panels. Assisted in publishing research findings in several academic journals.'}}\",\n",
      "    \"Number of Experiences\": 3,\n",
      "    \"Educations\": \"{'0': {'Institute': 'Tecnológico de Monterrey', 'Degree': 'Master’s Degree, Renewable Energy Technologies', 'Duration': '2013 - 2015', 'Description': 'Specialized in solar and wind energy technologies, graduated cum laude. Participated in university\\'s renewable energy club, leading several initiatives aimed at promoting sustainable practices on campus.'}, '1': {'Institute': 'Universidad Nacional Autónoma de México', 'Degree': 'Bachelor’s Degree, Mechanical Engineering', 'Duration': '2008 - 2012', 'Description': 'Graduated with honors. Thesis on the potential of renewable energy in rural Mexico received academic recognition and award.'}}\",\n",
      "    \"Number of Educations\": 2,\n",
      "    \"Licenses\": \"{'0': {'Title': 'Certified Project Manager (CPM)', 'Company': 'Project Management Institute', 'Description': 'Issued Jan 2018'}, '1': {'Title': 'Certified Energy Manager (CEM)', 'Company': 'Association of Energy Engineers', 'Description': 'Issued Jun 2017'}}\",\n",
      "    \"Number of Licenses\": 2,\n",
      "    \"Volunteering\": \"{'0': {'Role': 'Energy Consultant', 'Organization': 'Renewables for All', 'Duration': 'Sep 2016 - Present \\u00b7 6 yrs 6 mos', 'Description': 'Provide pro-bono consultancy for NGOs in rural areas to implement sustainable energy projects. Help communities gain access to clean and affordable energy.'}}\",\n",
      "    \"Number of Volunteering\": 1,\n",
      "    \"Skills\": \"{'Skill 0': 'Project Management', 'Skill 1': 'Renewable Energy Systems', 'Skill 2': 'Stakeholder Engagement', 'Skill 3': 'Budget Management'}\",\n",
      "    \"Number of Skills\": 4,\n",
      "    \"Recommendations\": \"{'0': {'User': 'Mariana López', 'Category': 'in', 'ID': 'mariana-lopez', 'URL': 'https://www.linkedin.com/in/mariana-lopez', 'Relation': 'June 15, 2021, Mariana reported directly to Diego', 'Description': 'Diego is an exceptional project manager who always maintains a clear vision of what is required to reach our objectives. His expertise in renewable energy not only ensures projects are completed successfully but also inspires and educates our team.'}, '1': {'User': 'Carlos Ramirez', 'Category': 'in', 'ID': 'carlos-ramirez', 'URL': 'https://www.linkedin.com/in/carlos-ramirez', 'Relation': 'December 10, 2020, Carlos was a client of Diego', 'Description': 'Working with Diego on our wind farm project was a great experience. His dedication and knowledge in renewable energy helped us overcome many challenges. He was always available and went the extra mile to meet our project goals.'}}\",\n",
      "    \"Number of Recommendations\": 2,\n",
      "    \"Projects\": \"{'0': {'Title': 'Solar Water Pumping System for Rural Communities', 'Date': 'Feb 2019 - Nov 2019', 'Description': 'Led a team to design and implement a solar water pumping system in rural Mexican communities, enhancing access to clean water and supporting local agriculture.'}}\",\n",
      "    \"Number of Projects\": 1,\n",
      "    \"Publications\": \"{'0': {'Title': 'The Impact of Renewable Energy on Rural Development in Mexico', 'Date': 'Mar 2015', 'Description': 'Co-authored a research paper that explores how renewable energy projects can drive economic growth in rural areas of Mexico, focusing on job creation and infrastructure improvement.'}}\",\n",
      "    \"Number of Publications\": 1,\n",
      "    \"Courses\": \"{'Course 0': 'Solar Energy Fundamentals', 'Course 1': 'Wind Energy Basics', 'Course 2': 'Effective Project Management for Renewable Energy'}\",\n",
      "    \"Number of Courses\": 3,\n",
      "    \"Honors\": \"{'0': {'Award': 'Best Graduate Thesis', 'Info': 'Issued by Universidad Nacional Autónoma de México \\u00b7 Jun 2012', 'Description': 'Received an award for the best thesis in renewable energy efficiency improvements.'}}\",\n",
      "    \"Number of Honors\": 1,\n",
      "    \"Scores\": \"{}\",\n",
      "    \"Number of Scores\": 0,\n",
      "    \"Languages\": \"{'Language 0': 'Spanish', 'Language 1': 'English'}\",\n",
      "    \"Number of Languages\": 2,\n",
      "    \"Organizations\": \"{}\",\n",
      "    \"Number of Organizations\": 0,\n",
      "    \"Interests\": \"{'0': {'Interest': 'Renewable Energy World', 'ID': '1009', 'Category': 'company', 'URL': 'https://www.linkedin.com/company/1009'}, '1': {'Interest': 'Project Management Institute', 'ID': '17941', 'Category': 'company', 'URL': 'https://www.linkedin.com/company/17941'}, '2': {'Interest': 'Association of Energy Engineers', 'ID': '15763', 'Category': 'company', 'URL': 'https://www.linkedin.com/company/15763'}, '3': {'Interest': 'GreenTech Media', 'ID': '274458', 'Category': 'company', 'URL': 'https://www.linkedin.com/company/274458'}}\",\n",
      "    \"Number of Interests\": 4,\n",
      "    \"Activities\": \"{'ana-maria-gonzalez': {'Full Name': 'Ana Maria Gonzalez', 'Category': 'in', 'URL': 'https://www.linkedin.com/in/ana-maria-gonzalez'}, 'jm-garcia': {'Full Name': 'Jose Miguel Garcia', 'Category': 'in', 'URL': 'https://www.linkedin.com/in/jm-garcia'}, 'luis-cardenas': {'Full Name': 'Luis Cardenas', 'Category': 'in', 'URL': 'https://www.linkedin.com/in/luis-cardenas'}}\",\n",
      "    \"Number of Activities\": 3,\n",
      "    \"Label\": 0\n",
      "}\n"
     ]
    },
    {
     "name": "stderr",
     "output_type": "stream",
     "text": [
      "Generating profiles:  29%|█████████▋                        | 515/1800 [4:01:04<25:28:02, 71.35s/it]"
     ]
    },
    {
     "name": "stdout",
     "output_type": "stream",
     "text": [
      "\n",
      "Saved 515 profiles to: generated_profiles_NEW.csv\n",
      "Completed batch 55, total profiles generated: 515\n",
      "\n",
      "Starting batch 56/312\n",
      "Selected 5 new random example profiles for this batch\n"
     ]
    },
    {
     "name": "stderr",
     "output_type": "stream",
     "text": [
      "Generating profiles:  29%|█████████▊                        | 520/1800 [4:06:22<22:50:44, 64.25s/it]"
     ]
    },
    {
     "name": "stdout",
     "output_type": "stream",
     "text": [
      "\n",
      "Saved 520 profiles to: generated_profiles_NEW.csv\n",
      "Completed batch 56, total profiles generated: 520\n",
      "\n",
      "Starting batch 57/312\n",
      "Selected 5 new random example profiles for this batch\n"
     ]
    },
    {
     "name": "stderr",
     "output_type": "stream",
     "text": [
      "Generating profiles:  29%|█████████▉                        | 525/1800 [4:10:07<17:06:36, 48.31s/it]"
     ]
    },
    {
     "name": "stdout",
     "output_type": "stream",
     "text": [
      "\n",
      "Saved 525 profiles to: generated_profiles_NEW.csv\n",
      "Completed batch 57, total profiles generated: 525\n",
      "\n",
      "Starting batch 58/312\n",
      "Selected 5 new random example profiles for this batch\n"
     ]
    },
    {
     "name": "stderr",
     "output_type": "stream",
     "text": [
      "Generating profiles:  29%|██████████                        | 530/1800 [4:15:20<22:43:36, 64.42s/it]"
     ]
    },
    {
     "name": "stdout",
     "output_type": "stream",
     "text": [
      "\n",
      "Saved 530 profiles to: generated_profiles_NEW.csv\n",
      "Completed batch 58, total profiles generated: 530\n",
      "\n",
      "Starting batch 59/312\n",
      "Selected 5 new random example profiles for this batch\n"
     ]
    },
    {
     "name": "stderr",
     "output_type": "stream",
     "text": [
      "Generating profiles:  30%|██████████                        | 533/1800 [4:18:36<22:31:55, 64.02s/it]"
     ]
    },
    {
     "name": "stdout",
     "output_type": "stream",
     "text": [
      "\n",
      "Invalid JSON received:\n",
      "{\n",
      "  \"Intro\": \"{'Full Name': 'Miguel Romero', 'Workplace': 'Creative Director at Luna Media Group', 'Location': 'Mexico City, Mexico', 'Connections': '500+', 'Photo': 'Yes', 'Followers': '2,142'}\",\n",
      "  \"Full Name\": \"Miguel Romero\",\n",
      "  \"Workplace\": \"Creative Director at Luna Media Group\",\n",
      "  \"Location\": \"Mexico City, Mexico\",\n",
      "  \"Connections\": 500,\n",
      "  \"Photo\": \"Yes\",\n",
      "  \"Followers\": 2142,\n",
      "  \"About\": NaN,\n",
      "  \"Experiences\": \"{'0': {'Role': 'Creative Director', 'Workplace': 'Luna Media Group \\u00b7 Full-time', 'Duration': 'May 2018 - Present \\u00b7 5 yrs', 'Workplace Location': 'Mexico City, Mexico', 'Description': 'Leading creative strategy and execution for digital marketing campaigns. Collaborated with clients to transform their branding and online presence. Managed a team to produce multimedia content.'}, '1': {'Role': 'Senior Graphic Designer', 'Workplace': 'Freelance', 'Duration': 'Jan 2013 - May 2018 \\u00b7 5 yrs 4 mos', 'Workplace Location': '', 'Description': 'Designed and delivered creative solutions for web, mobile, and print media for various international clients. Developed brand identities, websites, and marketing materials that increased client engagement and sales.'}, '2': {'Role': 'Junior Graphic Designer', 'Workplace': 'Innova Creative Solutions', 'Duration': 'Sep 2010 - Dec 2012 \\u00b7 2 yrs 4 mos', 'Workplace Location': 'Puebla, Mexico', 'Description': 'Assisted in creating visual designs and marketing materials. Supported senior designers in project execution and client consultations. Helped in website design and improving user experience.'}}\",\n",
      "  \"Number of Experiences\": 3,\n",
      "  \"Educations\": \"{'0': {'Institute': 'National Autonomous University of Mexico (UNAM)', 'Degree': 'Bachelor’s Degree, Graphic Design', 'Duration': '2006 - 2010', 'Description': 'Graduated with honors. Participated in international design workshop. Member of the student design collective.'}}\",\n",
      "  \"Number of Educations\": 1,\n",
      "  \"Licenses\": \"{}\",\n",
      "  \"Number of Licenses\": 0,\n",
      "  \"Volunteering\": \"{'0': {'Role': 'Art Workshop Facilitator', 'Organization': 'Local Community Center', 'Duration': 'Jun 2015 - Present \\u00b7 8 yrs', 'Description': 'Organize monthly art workshops for children, focusing on creativity and basic design principles. Volunteer work aimed at providing an artistic outlet for community youth.'}}\",\n",
      "  \"Number of Volunteering\": 1,\n",
      "  \"Skills\": \"{'Skill 0': 'Brand Development', 'Skill 1': 'Creative Strategy', 'Skill 2': 'Adobe Creative Suite', 'Skill 3': 'UI/UX Design'}\",\n",
      "  \"Number of Skills\": 4,\n",
      "  \"Recommendations\": \"{'0': {'User': 'Laura Estevez', 'Category': 'in', 'ID': 'lauraestevez-design', 'URL': 'https://www.linkedin.com/in/lauraestevez-design', 'Relation': 'March 15, 2019, Laura was a client of Miguel', 'Description': 'Miguel is a highly creative and detail-oriented designer. His work on our website redesign was exceptional, exceeding our expectations and significantly boosting our online presence.'}, '1': {'User': 'Alejandro Mendoza', 'Category': 'in', 'ID': 'alejandro-mendoza-creative', 'URL': 'https://www.linkedin.com/in/alejandro-mendoza-creative', 'Relation': 'June 22, 2021, Miguel worked with Alejandro in the same group', 'Description': 'Working alongside Miguel has been an immensely enriching experience. His leadership and creative vision have greatly contributed to our team\\'s success, inspiring us all to reach new heights in our projects.'}}\",\n",
      "  \"Number of Recommendations\": 2,\n",
      "  \"Projects\": \"{}\",\n",
      "  \"Number of Projects\": 0,\n",
      "  \"Publications\": \"{}\",\n",
      "  \"Number of Publications\": 0,\n",
      "  \"Courses\": \"{}\",\n",
      "  \"Number of Courses\": 0,\n",
      "  \"Honors\": \"{'0': {'Award': 'Best Digital Campaign', 'Info': 'Issued by Mexican Marketing Association \\u00b7 Jul 2019', 'Description': 'Awarded for a revolutionary digital marketing campaign that increased client engagement by 300%.'}}\",\n",
      "  \"Number of Honors\": 1,\n",
      "  \"Scores\": \"{}\",\n",
      "  \"Number of Scores\": 0,\n",
      "  \"Languages\": \"{'Language 0': 'Spanish', 'Language 1': 'English', 'Language 2': 'French'}\",\n",
      "  \"Number of Languages\": 3,\n",
      "  \"Organizations\": \"{}\",\n",
      "  \"Number of Organizations\": 0,\n",
      "  \"Interests\": \"{'0': {'Interest': 'Design Matters', 'ID': 'designmatters', 'Category': 'company', 'URL': 'https://www.linkedin.com/company/designmatters'}, '1': {'Interest': 'Adobe', 'ID': '1481', 'Category': 'company', 'URL': 'https://www.linkedin.com/company/1481'}, '2': {'Interest': 'TED Conferences', 'ID': '165698', 'Category': 'company', 'URL': 'https://www.linkedin.com/company/165698'}, '3': {'Interest': 'Behance', 'ID': '21943', 'Category': 'company', 'URL': 'https://www.linkedin.com/company/21943'}, '4': {'Interest': 'AIGA, the professional association for design', 'ID': '17802', 'Category': 'company', 'URL': 'https://www.linkedin.com/company/17802'}, '5': {'Interest': 'National Geographic', 'ID': '1112', 'Category': 'company', 'URL': 'https://www.linkedin.com/company/1112'}}\",\n",
      "  \"Number of Interests\": 6,\n",
      "  \"Activities\": \"{}\",\n",
      "  \"Number of Activities\": 0,\n",
      "  \"Label\": 0\n",
      "}\n",
      "JSON Error: Invalid \\escape: line 20 column 809 (char 3328)\n",
      "\n",
      "Retry 1/3 after error: Invalid \\escape: line 20 column 809 (char 3328)\n",
      "Last response received: {\n",
      "  \"Intro\": \"{'Full Name': 'Miguel Romero', 'Workplace': 'Creative Director at Luna Media Group', 'Location': 'Mexico City, Mexico', 'Connections': '500+', 'Photo': 'Yes', 'Followers': '2,142'}\",\n",
      "  \"Full Name\": \"Miguel Romero\",\n",
      "  \"Workplace\": \"Creative Director at Luna Media Group\",\n",
      "  \"Location\": \"Mexico City, Mexico\",\n",
      "  \"Connections\": 500,\n",
      "  \"Photo\": \"Yes\",\n",
      "  \"Followers\": 2142,\n",
      "  \"About\": NaN,\n",
      "  \"Experiences\": \"{'0': {'Role': 'Creative Director', 'Workplace': 'Luna Media Group \\u00b7 Full-time', 'Duration': 'May 2018 - Present \\u00b7 5 yrs', 'Workplace Location': 'Mexico City, Mexico', 'Description': 'Leading creative strategy and execution for digital marketing campaigns. Collaborated with clients to transform their branding and online presence. Managed a team to produce multimedia content.'}, '1': {'Role': 'Senior Graphic Designer', 'Workplace': 'Freelance', 'Duration': 'Jan 2013 - May 2018 \\u00b7 5 yrs 4 mos', 'Workplace Location': '', 'Description': 'Designed and delivered creative solutions for web, mobile, and print media for various international clients. Developed brand identities, websites, and marketing materials that increased client engagement and sales.'}, '2': {'Role': 'Junior Graphic Designer', 'Workplace': 'Innova Creative Solutions', 'Duration': 'Sep 2010 - Dec 2012 \\u00b7 2 yrs 4 mos', 'Workplace Location': 'Puebla, Mexico', 'Description': 'Assisted in creating visual designs and marketing materials. Supported senior designers in project execution and client consultations. Helped in website design and improving user experience.'}}\",\n",
      "  \"Number of Experiences\": 3,\n",
      "  \"Educations\": \"{'0': {'Institute': 'National Autonomous University of Mexico (UNAM)', 'Degree': 'Bachelor’s Degree, Graphic Design', 'Duration': '2006 - 2010', 'Description': 'Graduated with honors. Participated in international design workshop. Member of the student design collective.'}}\",\n",
      "  \"Number of Educations\": 1,\n",
      "  \"Licenses\": \"{}\",\n",
      "  \"Number of Licenses\": 0,\n",
      "  \"Volunteering\": \"{'0': {'Role': 'Art Workshop Facilitator', 'Organization': 'Local Community Center', 'Duration': 'Jun 2015 - Present \\u00b7 8 yrs', 'Description': 'Organize monthly art workshops for children, focusing on creativity and basic design principles. Volunteer work aimed at providing an artistic outlet for community youth.'}}\",\n",
      "  \"Number of Volunteering\": 1,\n",
      "  \"Skills\": \"{'Skill 0': 'Brand Development', 'Skill 1': 'Creative Strategy', 'Skill 2': 'Adobe Creative Suite', 'Skill 3': 'UI/UX Design'}\",\n",
      "  \"Number of Skills\": 4,\n",
      "  \"Recommendations\": \"{'0': {'User': 'Laura Estevez', 'Category': 'in', 'ID': 'lauraestevez-design', 'URL': 'https://www.linkedin.com/in/lauraestevez-design', 'Relation': 'March 15, 2019, Laura was a client of Miguel', 'Description': 'Miguel is a highly creative and detail-oriented designer. His work on our website redesign was exceptional, exceeding our expectations and significantly boosting our online presence.'}, '1': {'User': 'Alejandro Mendoza', 'Category': 'in', 'ID': 'alejandro-mendoza-creative', 'URL': 'https://www.linkedin.com/in/alejandro-mendoza-creative', 'Relation': 'June 22, 2021, Miguel worked with Alejandro in the same group', 'Description': 'Working alongside Miguel has been an immensely enriching experience. His leadership and creative vision have greatly contributed to our team\\'s success, inspiring us all to reach new heights in our projects.'}}\",\n",
      "  \"Number of Recommendations\": 2,\n",
      "  \"Projects\": \"{}\",\n",
      "  \"Number of Projects\": 0,\n",
      "  \"Publications\": \"{}\",\n",
      "  \"Number of Publications\": 0,\n",
      "  \"Courses\": \"{}\",\n",
      "  \"Number of Courses\": 0,\n",
      "  \"Honors\": \"{'0': {'Award': 'Best Digital Campaign', 'Info': 'Issued by Mexican Marketing Association \\u00b7 Jul 2019', 'Description': 'Awarded for a revolutionary digital marketing campaign that increased client engagement by 300%.'}}\",\n",
      "  \"Number of Honors\": 1,\n",
      "  \"Scores\": \"{}\",\n",
      "  \"Number of Scores\": 0,\n",
      "  \"Languages\": \"{'Language 0': 'Spanish', 'Language 1': 'English', 'Language 2': 'French'}\",\n",
      "  \"Number of Languages\": 3,\n",
      "  \"Organizations\": \"{}\",\n",
      "  \"Number of Organizations\": 0,\n",
      "  \"Interests\": \"{'0': {'Interest': 'Design Matters', 'ID': 'designmatters', 'Category': 'company', 'URL': 'https://www.linkedin.com/company/designmatters'}, '1': {'Interest': 'Adobe', 'ID': '1481', 'Category': 'company', 'URL': 'https://www.linkedin.com/company/1481'}, '2': {'Interest': 'TED Conferences', 'ID': '165698', 'Category': 'company', 'URL': 'https://www.linkedin.com/company/165698'}, '3': {'Interest': 'Behance', 'ID': '21943', 'Category': 'company', 'URL': 'https://www.linkedin.com/company/21943'}, '4': {'Interest': 'AIGA, the professional association for design', 'ID': '17802', 'Category': 'company', 'URL': 'https://www.linkedin.com/company/17802'}, '5': {'Interest': 'National Geographic', 'ID': '1112', 'Category': 'company', 'URL': 'https://www.linkedin.com/company/1112'}}\",\n",
      "  \"Number of Interests\": 6,\n",
      "  \"Activities\": \"{}\",\n",
      "  \"Number of Activities\": 0,\n",
      "  \"Label\": 0\n",
      "}\n"
     ]
    },
    {
     "name": "stderr",
     "output_type": "stream",
     "text": [
      "Generating profiles:  30%|██████████                        | 535/1800 [4:21:59<28:04:14, 79.89s/it]"
     ]
    },
    {
     "name": "stdout",
     "output_type": "stream",
     "text": [
      "\n",
      "Saved 535 profiles to: generated_profiles_NEW.csv\n",
      "Completed batch 59, total profiles generated: 535\n",
      "\n",
      "Starting batch 60/312\n",
      "Selected 5 new random example profiles for this batch\n"
     ]
    },
    {
     "name": "stderr",
     "output_type": "stream",
     "text": [
      "Generating profiles:  30%|██████████▏                       | 540/1800 [4:26:22<19:01:06, 54.34s/it]"
     ]
    },
    {
     "name": "stdout",
     "output_type": "stream",
     "text": [
      "\n",
      "Saved 540 profiles to: generated_profiles_NEW.csv\n",
      "Completed batch 60, total profiles generated: 540\n",
      "\n",
      "Starting batch 61/312\n",
      "Selected 5 new random example profiles for this batch\n"
     ]
    },
    {
     "name": "stderr",
     "output_type": "stream",
     "text": [
      "Generating profiles:  30%|██████████▏                       | 541/1800 [4:27:01<17:24:23, 49.77s/it]"
     ]
    },
    {
     "name": "stdout",
     "output_type": "stream",
     "text": [
      "\n",
      "Invalid JSON received:\n",
      "{\n",
      "  \"Intro\": \"{'Full Name': 'Ameena Patel', 'Workplace': 'Co-Founder & CEO at GreenSparrow | Forbes 30 Under 30 | Social Entrepreneurship | Environmental Advocate', 'Location': 'Nairobi, Kenya', 'Connections': '500+', 'Photo': 'Yes', 'Followers': '3075'}\",\n",
      "  \"Full Name\": \"Ameena Patel\",\n",
      "  \"Workplace\": \"Co-Founder & CEO at GreenSparrow | Forbes 30 Under 30 | Social Entrepreneurship | Environmental Advocate\",\n",
      "  \"Location\": \"Nairobi, Kenya\",\n",
      "  \"Connections\": 500,\n",
      "  \"Photo\": \"Yes\",\n",
      "  \"Followers\": 3075,\n",
      "  \"About\": NaN,\n",
      "  \"Experiences\": \"{'0': {'Role': 'Co-Founder & CEO', 'Workplace': 'GreenSparrow', 'Duration': 'Jan 2019 - Present \\u00b7 4 yrs 2 mos', 'Workplace Location': 'Nairobi, Kenya', 'Description': 'At GreenSparrow, we're committed to making sustainability accessible to everyone. We partner with businesses and communities to implement eco-friendly solutions, ranging from waste management to renewable energy projects. Our impact includes reducing over 1,000 tons of waste from landfills and lighting up 500 homes with solar energy in underprivileged areas. Recognized by Forbes 30 under 30 for our innovative approach to environmental sustainability.'}, '1': {'Role': 'Project Manager', 'Workplace': 'Renewable Energy Association', 'Duration': 'June 2015 - Dec 2018 \\u00b7 3 yrs 7 mos', 'Workplace Location': 'Nairobi, Kenya', 'Description': 'Led various renewable energy initiatives, focusing on solar and wind energy projects across East Africa. Managed teams to deploy sustainable energy solutions in rural areas, providing electricity to underserved communities for the first time.'}}\",\n",
      "  \"Number of Experiences\": 2,\n",
      "  \"Educations\": \"{'0': {'Institute': 'University of Nairobi', 'Degree': 'Master of Science in Renewable Energy', 'Duration': '2013 - 2015', 'Description': ''}, '1': {'Institute': 'University of Nairobi', 'Degree': 'Bachelor of Science in Environmental Studies', 'Duration': '2009 - 2013', 'Description': 'Activities and societies: Environmental Club President'}}\",\n",
      "  \"Number of Educations\": 2,\n",
      "  \"Licenses\": \"{'0': {'Title': 'Certified Project Manager (CPM)', 'Company': 'Project Management Institute', 'Description': 'Issued May 2016'}, '1': {'Title': 'Certified Renewable Energy Professional', 'Company': 'Renewable Energy Association', 'Description': 'Issued Jan 2017'}}\",\n",
      "  \"Number of Licenses\": 2,\n",
      "  \"Volunteering\": \"{'0': {'Role': 'Ambassador', 'Organization': 'Let\\'s Do It World', 'Duration': 'Mar 2017 - Present', 'Description': 'Promoting global initiatives for waste management and environmental sustainability. Organize and participate in clean-up campaigns across Kenya, engaging over 10,000 volunteers yearly.'}}\",\n",
      "  \"Number of Volunteering\": 1,\n",
      "  \"Skills\": \"{'Skill 0': 'Sustainable Development', 'Skill 1': 'Project Management', 'Skill 2': 'Renewable Energy Systems', 'Skill 3': 'Environmental Advocacy', 'Skill 4': 'Entrepreneurship'}\",\n",
      "  \"Number of Skills\": 5,\n",
      "  \"Recommendations\": \"{'0': {'User': 'Nia Thompson', 'Category': 'in', 'ID': 'niathompson', 'URL': 'https://www.linkedin.com/in/niathompson', 'Relation': 'March 5, 2020, Nia worked with Ameena in the same group', 'Description': 'Ameena\\'s leadership at GreenSparrow has not only shown her incredible passion for the environment but has also set a benchmark in how small businesses can have a large impact on sustainability. Her innovative approach and commitment to her work are truly inspirational. Working alongside her has been a learning curve, and I am excited to see how much more she will achieve.'}}\",\n",
      "  \"Number of Recommendations\": 1,\n",
      "  \"Projects\": \"{}\",\n",
      "  \"Number of Projects\": 0,\n",
      "  \"Publications\": \"{}\",\n",
      "  \"Number of Publications\": 0,\n",
      "  \"Courses\": \"{}\",\n",
      "  \"Number of Courses\": 0,\n",
      "  \"Honors\": \"{'0': {'Award': 'Forbes 30 Under 30 - Social Entrepreneurs', 'Info': 'Issued by Forbes \\u00b7 Mar 2021', 'Description': ''}}\",\n",
      "  \"Number of Honors\": 1,\n",
      "  \"Scores\": \"{}\",\n",
      "  \"Number of Scores\": 0,\n",
      "  \"Languages\": \"{'Language 0': 'English', 'Language 1': 'Swahili'}\",\n",
      "  \"Number of Languages\": 2,\n",
      "  \"Organizations\": \"{}\",\n",
      "  \"Number of Organizations\": 0,\n",
      "  \"Interests\": \"{'0': {'Interest': 'Bill Gates', 'ID': 'billgates', 'Category': 'in', 'URL': 'https://www.linkedin.com/in/billgates'}, '1': {'Interest': 'Environmental Defense Fund', 'ID': '4604', 'Category': 'company', 'URL': 'https://www.linkedin.com/company/4604'}, '2': {'Interest': 'Renewable Energy World', 'ID': '89523', 'Category': 'company', 'URL': 'https://www.linkedin.com/company/89523'}, '3': {'Interest': 'University of Nairobi', 'ID': '15250389', 'Category': 'school', 'URL': 'https://www.linkedin.com/school/15250389'}}\",\n",
      "  \"Number of Interests\": 4,\n",
      "  \"Activities\": \"{'greensparrow': {'Full Name': 'GreenSparrow', 'Category': 'company', 'URL': 'https://www.linkedin.com/company/greensparrow'}, 'letsdoitworld': {'Full Name': 'Let\\'s Do It World', 'Category': 'company', 'URL': 'https://www.linkedin.com/company/letsdoitworld'}}\",\n",
      "  \"Number of Activities\": 2,\n",
      "  \"Label\": 0\n",
      "}\n",
      "JSON Error: Invalid \\escape: line 16 column 69 (char 2407)\n",
      "\n",
      "Retry 1/3 after error: Invalid \\escape: line 16 column 69 (char 2407)\n",
      "Last response received: {\n",
      "  \"Intro\": \"{'Full Name': 'Ameena Patel', 'Workplace': 'Co-Founder & CEO at GreenSparrow | Forbes 30 Under 30 | Social Entrepreneurship | Environmental Advocate', 'Location': 'Nairobi, Kenya', 'Connections': '500+', 'Photo': 'Yes', 'Followers': '3075'}\",\n",
      "  \"Full Name\": \"Ameena Patel\",\n",
      "  \"Workplace\": \"Co-Founder & CEO at GreenSparrow | Forbes 30 Under 30 | Social Entrepreneurship | Environmental Advocate\",\n",
      "  \"Location\": \"Nairobi, Kenya\",\n",
      "  \"Connections\": 500,\n",
      "  \"Photo\": \"Yes\",\n",
      "  \"Followers\": 3075,\n",
      "  \"About\": NaN,\n",
      "  \"Experiences\": \"{'0': {'Role': 'Co-Founder & CEO', 'Workplace': 'GreenSparrow', 'Duration': 'Jan 2019 - Present \\u00b7 4 yrs 2 mos', 'Workplace Location': 'Nairobi, Kenya', 'Description': 'At GreenSparrow, we're committed to making sustainability accessible to everyone. We partner with businesses and communities to implement eco-friendly solutions, ranging from waste management to renewable energy projects. Our impact includes reducing over 1,000 tons of waste from landfills and lighting up 500 homes with solar energy in underprivileged areas. Recognized by Forbes 30 under 30 for our innovative approach to environmental sustainability.'}, '1': {'Role': 'Project Manager', 'Workplace': 'Renewable Energy Association', 'Duration': 'June 2015 - Dec 2018 \\u00b7 3 yrs 7 mos', 'Workplace Location': 'Nairobi, Kenya', 'Description': 'Led various renewable energy initiatives, focusing on solar and wind energy projects across East Africa. Managed teams to deploy sustainable energy solutions in rural areas, providing electricity to underserved communities for the first time.'}}\",\n",
      "  \"Number of Experiences\": 2,\n",
      "  \"Educations\": \"{'0': {'Institute': 'University of Nairobi', 'Degree': 'Master of Science in Renewable Energy', 'Duration': '2013 - 2015', 'Description': ''}, '1': {'Institute': 'University of Nairobi', 'Degree': 'Bachelor of Science in Environmental Studies', 'Duration': '2009 - 2013', 'Description': 'Activities and societies: Environmental Club President'}}\",\n",
      "  \"Number of Educations\": 2,\n",
      "  \"Licenses\": \"{'0': {'Title': 'Certified Project Manager (CPM)', 'Company': 'Project Management Institute', 'Description': 'Issued May 2016'}, '1': {'Title': 'Certified Renewable Energy Professional', 'Company': 'Renewable Energy Association', 'Description': 'Issued Jan 2017'}}\",\n",
      "  \"Number of Licenses\": 2,\n",
      "  \"Volunteering\": \"{'0': {'Role': 'Ambassador', 'Organization': 'Let\\'s Do It World', 'Duration': 'Mar 2017 - Present', 'Description': 'Promoting global initiatives for waste management and environmental sustainability. Organize and participate in clean-up campaigns across Kenya, engaging over 10,000 volunteers yearly.'}}\",\n",
      "  \"Number of Volunteering\": 1,\n",
      "  \"Skills\": \"{'Skill 0': 'Sustainable Development', 'Skill 1': 'Project Management', 'Skill 2': 'Renewable Energy Systems', 'Skill 3': 'Environmental Advocacy', 'Skill 4': 'Entrepreneurship'}\",\n",
      "  \"Number of Skills\": 5,\n",
      "  \"Recommendations\": \"{'0': {'User': 'Nia Thompson', 'Category': 'in', 'ID': 'niathompson', 'URL': 'https://www.linkedin.com/in/niathompson', 'Relation': 'March 5, 2020, Nia worked with Ameena in the same group', 'Description': 'Ameena\\'s leadership at GreenSparrow has not only shown her incredible passion for the environment but has also set a benchmark in how small businesses can have a large impact on sustainability. Her innovative approach and commitment to her work are truly inspirational. Working alongside her has been a learning curve, and I am excited to see how much more she will achieve.'}}\",\n",
      "  \"Number of Recommendations\": 1,\n",
      "  \"Projects\": \"{}\",\n",
      "  \"Number of Projects\": 0,\n",
      "  \"Publications\": \"{}\",\n",
      "  \"Number of Publications\": 0,\n",
      "  \"Courses\": \"{}\",\n",
      "  \"Number of Courses\": 0,\n",
      "  \"Honors\": \"{'0': {'Award': 'Forbes 30 Under 30 - Social Entrepreneurs', 'Info': 'Issued by Forbes \\u00b7 Mar 2021', 'Description': ''}}\",\n",
      "  \"Number of Honors\": 1,\n",
      "  \"Scores\": \"{}\",\n",
      "  \"Number of Scores\": 0,\n",
      "  \"Languages\": \"{'Language 0': 'English', 'Language 1': 'Swahili'}\",\n",
      "  \"Number of Languages\": 2,\n",
      "  \"Organizations\": \"{}\",\n",
      "  \"Number of Organizations\": 0,\n",
      "  \"Interests\": \"{'0': {'Interest': 'Bill Gates', 'ID': 'billgates', 'Category': 'in', 'URL': 'https://www.linkedin.com/in/billgates'}, '1': {'Interest': 'Environmental Defense Fund', 'ID': '4604', 'Category': 'company', 'URL': 'https://www.linkedin.com/company/4604'}, '2': {'Interest': 'Renewable Energy World', 'ID': '89523', 'Category': 'company', 'URL': 'https://www.linkedin.com/company/89523'}, '3': {'Interest': 'University of Nairobi', 'ID': '15250389', 'Category': 'school', 'URL': 'https://www.linkedin.com/school/15250389'}}\",\n",
      "  \"Number of Interests\": 4,\n",
      "  \"Activities\": \"{'greensparrow': {'Full Name': 'GreenSparrow', 'Category': 'company', 'URL': 'https://www.linkedin.com/company/greensparrow'}, 'letsdoitworld': {'Full Name': 'Let\\'s Do It World', 'Category': 'company', 'URL': 'https://www.linkedin.com/company/letsdoitworld'}}\",\n",
      "  \"Number of Activities\": 2,\n",
      "  \"Label\": 0\n",
      "}\n"
     ]
    },
    {
     "name": "stderr",
     "output_type": "stream",
     "text": [
      "Generating profiles:  30%|██████████▎                       | 545/1800 [4:31:37<21:43:07, 62.30s/it]"
     ]
    },
    {
     "name": "stdout",
     "output_type": "stream",
     "text": [
      "\n",
      "Saved 545 profiles to: generated_profiles_NEW.csv\n",
      "Completed batch 61, total profiles generated: 545\n",
      "\n",
      "Starting batch 62/312\n",
      "Selected 5 new random example profiles for this batch\n"
     ]
    },
    {
     "name": "stderr",
     "output_type": "stream",
     "text": [
      "Generating profiles:  31%|██████████▍                       | 550/1800 [4:35:50<18:24:34, 53.02s/it]"
     ]
    },
    {
     "name": "stdout",
     "output_type": "stream",
     "text": [
      "\n",
      "Saved 550 profiles to: generated_profiles_NEW.csv\n",
      "Completed batch 62, total profiles generated: 550\n",
      "\n",
      "Starting batch 63/312\n",
      "Selected 5 new random example profiles for this batch\n"
     ]
    },
    {
     "name": "stderr",
     "output_type": "stream",
     "text": [
      "Generating profiles:  31%|██████████▍                       | 555/1800 [4:39:30<15:22:45, 44.47s/it]"
     ]
    },
    {
     "name": "stdout",
     "output_type": "stream",
     "text": [
      "\n",
      "Saved 555 profiles to: generated_profiles_NEW.csv\n",
      "Completed batch 63, total profiles generated: 555\n",
      "\n",
      "Starting batch 64/312\n",
      "Selected 5 new random example profiles for this batch\n"
     ]
    },
    {
     "name": "stderr",
     "output_type": "stream",
     "text": [
      "Generating profiles:  31%|██████████▌                       | 560/1800 [4:44:25<21:16:49, 61.78s/it]"
     ]
    },
    {
     "name": "stdout",
     "output_type": "stream",
     "text": [
      "\n",
      "Saved 560 profiles to: generated_profiles_NEW.csv\n",
      "Completed batch 64, total profiles generated: 560\n",
      "\n",
      "Starting batch 65/312\n",
      "Selected 5 new random example profiles for this batch\n"
     ]
    },
    {
     "name": "stderr",
     "output_type": "stream",
     "text": [
      "Generating profiles:  31%|██████████▋                       | 563/1800 [4:47:20<20:17:17, 59.04s/it]"
     ]
    },
    {
     "name": "stdout",
     "output_type": "stream",
     "text": [
      "\n",
      "Invalid JSON received:\n",
      "{\n",
      "  \"Intro\": \"{'Full Name': 'Miguel Herrera', 'Workplace': 'COO at La Vida Cosmetics', 'Location': 'Mexico City, Mexico', 'Connections': '853', 'Photo': 'Yes', 'Followers': ''}\",\n",
      "  \"Full Name\": \"Miguel Herrera\",\n",
      "  \"Workplace\": \"COO at La Vida Cosmetics\",\n",
      "  \"Location\": \"Mexico City, Mexico\",\n",
      "  \"Connections\": 853,\n",
      "  \"Photo\": \"Yes\",\n",
      "  \"Followers\": 1020,\n",
      "  \"About\": NaN,\n",
      "  \"Experiences\": \"{'0': {'Workplace': 'La Vida Cosmetics', 'Role': 'Chief Operating Officer (COO)', 'Duration': 'Jan 2019 - Present \\u00b7 4 yrs 2 mos', 'Workplace Location': '', 'Description': ''}, '1': {'Workplace': 'GloriaFashions', 'Role': 'Director of Operations', 'Duration': 'Aug 2015 - Dec 2018 \\u00b7 3 yrs 5 mos', 'Workplace Location': '', 'Description': 'Oversaw operations across multiple departments, driving efficiency and fostering a culture of unparalleled customer service.'}, '2': {'Workplace': 'Belezza Imports', 'Role': 'Logistics Manager', 'Duration': 'May 2012 - Jul 2015 \\u00b7 3 yrs 3 mos', 'Workplace Location': '', 'Description': 'Streamlined import processes and reduced costs by 15% through strategic vendor negotiations and logistics optimization.'}}\",\n",
      "  \"Number of Experiences\": 3,\n",
      "  \"Educations\": \"{'0': {'Institute': 'Universidad Nacional Autónoma de México (UNAM)', 'Degree': 'Master of Business Administration (MBA)', 'Duration': '2010 - 2012', 'Description': 'Specialization in International Business'}, '1': {'Institute': 'Instituto Tecnológico y de Estudios Superiores de Monterrey', 'Degree': 'Bachelor of International Business', 'Duration': '2006 - 2010', 'Description': ''}}\",\n",
      "  \"Number of Educations\": 2,\n",
      "  \"Licenses\": \"{}\",\n",
      "  \"Number of Licenses\": 0,\n",
      "  \"Volunteering\": \"{}\",\n",
      "  \"Number of Volunteering\": 0,\n",
      "  \"Skills\": \"{'Skill 0': 'Operations Management', 'Skill 1': 'Strategic Planning', 'Skill 2': 'Business Development', 'Skill 3': 'Supply Chain Optimization'}\",\n",
      "  \"Number of Skills\": 4,\n",
      "  \"Recommendations\": \"{'0': {'User': 'Alejandra Ruiz', 'Category': 'in', 'ID': 'alejandra-ruiz-92a6351b', 'URL': 'https://www.linkedin.com/in/alejandra-ruiz-92a6351b', 'Relation': 'March 12, 2020, Alejandra was a client of Miguel\\'s', 'Description': 'Working with Miguel was a transformative experience for our brand. His ability to streamline operations and improve our customer service levels contributed significantly to our year-over-year growth. His insights into optimizing our supply chain resulted in significant cost savings and improved lead times. I highly recommend Miguel for his leadership and operations prowess.'}}\",\n",
      "  \"Number of Recommendations\": 1,\n",
      "  \"Projects\": \"{}\",\n",
      "  \"Number of Projects\": 0,\n",
      "  \"Publications\": \"{}\",\n",
      "  \"Number of Publications\": 0,\n",
      "  \"Courses\": \"{}\",\n",
      "  \"Number of Courses\": 0,\n",
      "  \"Honors\": \"{}\",\n",
      "  \"Number of Honors\": 0,\n",
      "  \"Scores\": \"{}\",\n",
      "  \"Number of Scores\": 0,\n",
      "  \"Languages\": \"{'Language 0': 'Spanish', 'Language 1': 'English'}\",\n",
      "  \"Number of Languages\": 2,\n",
      "  \"Organizations\": \"{}\",\n",
      "  \"Number of Organizations\": 0,\n",
      "  \"Interests\": \"{'0': {'Interest': 'Harvard Business Review', 'ID': '162438', 'Category': 'company', 'URL': 'https://www.linkedin.com/company/162438'}, '1': {'Interest': 'McKinsey & Company', 'ID': '2636', 'Category': 'company', 'URL': 'https://www.linkedin.com/company/2636'}, '2': {'Interest': 'World Economic Forum', 'ID': '3180', 'Category': 'company', 'URL': 'https://www.linkedin.com/company/3180'}, '3': {'Interest': 'Entrepreneur', 'ID': '2498', 'Category': 'company', 'URL': 'https://www.linkedin.com/company/2498'}, '4': {'Interest': 'Instituto Tecnológico y de Estudios Superiores de Monterrey', 'ID': '10800', 'Category': 'school', 'URL': 'https://www.linkedin.com/school/10800'}, '5': {'Interest': 'Universidad Nacional Autónoma de México (UNAM)', 'ID': '11207', 'Category': 'school', 'URL': 'https://www.linkedin.com/school/11207'}}\",\n",
      "  \"Number of Interests\": 6,\n",
      "  \"Activities\": \"{'ana-perez-castro': {'Full Name': 'Ana Perez Castro', 'Category': 'in', 'URL': 'https://www.linkedin.com/in/ana-perez-castro'}, 'luis-martinez-gomez': {'Full Name': 'Luis Martinez Gomez', 'Category': 'in', 'URL': 'https://www.linkedin.com/in/luis-martinez-gomez'}, 'daniela-ruizfernandez': {'Full Name': 'Daniela Ruiz Fernandez', 'Category': 'in', 'URL': 'https://www.linkedin.com/in/daniela-ruizfernandez'}, 'mario-alvarez': {'Full Name': 'Mario Alvarez', 'Category': 'in', 'URL': 'https://www.linkedin.com/in/mario-alvarez'}, 'alejandra-ruiz-92a6351b': {'Full Name': 'Alejandra Ruiz', 'Category': 'in', 'URL': 'https://www.linkedin.com/in/alejandra-ruiz-92a6351b'}}\",\n",
      "  \"Number of Activities\": 5,\n",
      "  \"Label\": 0\n",
      "}\n",
      "JSON Error: Invalid \\escape: line 20 column 230 (char 2132)\n",
      "\n",
      "Retry 1/3 after error: Invalid \\escape: line 20 column 230 (char 2132)\n",
      "Last response received: {\n",
      "  \"Intro\": \"{'Full Name': 'Miguel Herrera', 'Workplace': 'COO at La Vida Cosmetics', 'Location': 'Mexico City, Mexico', 'Connections': '853', 'Photo': 'Yes', 'Followers': ''}\",\n",
      "  \"Full Name\": \"Miguel Herrera\",\n",
      "  \"Workplace\": \"COO at La Vida Cosmetics\",\n",
      "  \"Location\": \"Mexico City, Mexico\",\n",
      "  \"Connections\": 853,\n",
      "  \"Photo\": \"Yes\",\n",
      "  \"Followers\": 1020,\n",
      "  \"About\": NaN,\n",
      "  \"Experiences\": \"{'0': {'Workplace': 'La Vida Cosmetics', 'Role': 'Chief Operating Officer (COO)', 'Duration': 'Jan 2019 - Present \\u00b7 4 yrs 2 mos', 'Workplace Location': '', 'Description': ''}, '1': {'Workplace': 'GloriaFashions', 'Role': 'Director of Operations', 'Duration': 'Aug 2015 - Dec 2018 \\u00b7 3 yrs 5 mos', 'Workplace Location': '', 'Description': 'Oversaw operations across multiple departments, driving efficiency and fostering a culture of unparalleled customer service.'}, '2': {'Workplace': 'Belezza Imports', 'Role': 'Logistics Manager', 'Duration': 'May 2012 - Jul 2015 \\u00b7 3 yrs 3 mos', 'Workplace Location': '', 'Description': 'Streamlined import processes and reduced costs by 15% through strategic vendor negotiations and logistics optimization.'}}\",\n",
      "  \"Number of Experiences\": 3,\n",
      "  \"Educations\": \"{'0': {'Institute': 'Universidad Nacional Autónoma de México (UNAM)', 'Degree': 'Master of Business Administration (MBA)', 'Duration': '2010 - 2012', 'Description': 'Specialization in International Business'}, '1': {'Institute': 'Instituto Tecnológico y de Estudios Superiores de Monterrey', 'Degree': 'Bachelor of International Business', 'Duration': '2006 - 2010', 'Description': ''}}\",\n",
      "  \"Number of Educations\": 2,\n",
      "  \"Licenses\": \"{}\",\n",
      "  \"Number of Licenses\": 0,\n",
      "  \"Volunteering\": \"{}\",\n",
      "  \"Number of Volunteering\": 0,\n",
      "  \"Skills\": \"{'Skill 0': 'Operations Management', 'Skill 1': 'Strategic Planning', 'Skill 2': 'Business Development', 'Skill 3': 'Supply Chain Optimization'}\",\n",
      "  \"Number of Skills\": 4,\n",
      "  \"Recommendations\": \"{'0': {'User': 'Alejandra Ruiz', 'Category': 'in', 'ID': 'alejandra-ruiz-92a6351b', 'URL': 'https://www.linkedin.com/in/alejandra-ruiz-92a6351b', 'Relation': 'March 12, 2020, Alejandra was a client of Miguel\\'s', 'Description': 'Working with Miguel was a transformative experience for our brand. His ability to streamline operations and improve our customer service levels contributed significantly to our year-over-year growth. His insights into optimizing our supply chain resulted in significant cost savings and improved lead times. I highly recommend Miguel for his leadership and operations prowess.'}}\",\n",
      "  \"Number of Recommendations\": 1,\n",
      "  \"Projects\": \"{}\",\n",
      "  \"Number of Projects\": 0,\n",
      "  \"Publications\": \"{}\",\n",
      "  \"Number of Publications\": 0,\n",
      "  \"Courses\": \"{}\",\n",
      "  \"Number of Courses\": 0,\n",
      "  \"Honors\": \"{}\",\n",
      "  \"Number of Honors\": 0,\n",
      "  \"Scores\": \"{}\",\n",
      "  \"Number of Scores\": 0,\n",
      "  \"Languages\": \"{'Language 0': 'Spanish', 'Language 1': 'English'}\",\n",
      "  \"Number of Languages\": 2,\n",
      "  \"Organizations\": \"{}\",\n",
      "  \"Number of Organizations\": 0,\n",
      "  \"Interests\": \"{'0': {'Interest': 'Harvard Business Review', 'ID': '162438', 'Category': 'company', 'URL': 'https://www.linkedin.com/company/162438'}, '1': {'Interest': 'McKinsey & Company', 'ID': '2636', 'Category': 'company', 'URL': 'https://www.linkedin.com/company/2636'}, '2': {'Interest': 'World Economic Forum', 'ID': '3180', 'Category': 'company', 'URL': 'https://www.linkedin.com/company/3180'}, '3': {'Interest': 'Entrepreneur', 'ID': '2498', 'Category': 'company', 'URL': 'https://www.linkedin.com/company/2498'}, '4': {'Interest': 'Instituto Tecnológico y de Estudios Superiores de Monterrey', 'ID': '10800', 'Category': 'school', 'URL': 'https://www.linkedin.com/school/10800'}, '5': {'Interest': 'Universidad Nacional Autónoma de México (UNAM)', 'ID': '11207', 'Category': 'school', 'URL': 'https://www.linkedin.com/school/11207'}}\",\n",
      "  \"Number of Interests\": 6,\n",
      "  \"Activities\": \"{'ana-perez-castro': {'Full Name': 'Ana Perez Castro', 'Category': 'in', 'URL': 'https://www.linkedin.com/in/ana-perez-castro'}, 'luis-martinez-gomez': {'Full Name': 'Luis Martinez Gomez', 'Category': 'in', 'URL': 'https://www.linkedin.com/in/luis-martinez-gomez'}, 'daniela-ruizfernandez': {'Full Name': 'Daniela Ruiz Fernandez', 'Category': 'in', 'URL': 'https://www.linkedin.com/in/daniela-ruizfernandez'}, 'mario-alvarez': {'Full Name': 'Mario Alvarez', 'Category': 'in', 'URL': 'https://www.linkedin.com/in/mario-alvarez'}, 'alejandra-ruiz-92a6351b': {'Full Name': 'Alejandra Ruiz', 'Category': 'in', 'URL': 'https://www.linkedin.com/in/alejandra-ruiz-92a6351b'}}\",\n",
      "  \"Number of Activities\": 5,\n",
      "  \"Label\": 0\n",
      "}\n"
     ]
    },
    {
     "name": "stderr",
     "output_type": "stream",
     "text": [
      "Generating profiles:  31%|██████████▋                       | 565/1800 [4:50:43<26:24:59, 77.00s/it]"
     ]
    },
    {
     "name": "stdout",
     "output_type": "stream",
     "text": [
      "\n",
      "Saved 565 profiles to: generated_profiles_NEW.csv\n",
      "Completed batch 65, total profiles generated: 565\n",
      "\n",
      "Starting batch 66/312\n",
      "Selected 5 new random example profiles for this batch\n"
     ]
    },
    {
     "name": "stderr",
     "output_type": "stream",
     "text": [
      "Generating profiles:  32%|██████████▊                       | 570/1800 [4:57:21<27:25:47, 80.28s/it]"
     ]
    },
    {
     "name": "stdout",
     "output_type": "stream",
     "text": [
      "\n",
      "Saved 570 profiles to: generated_profiles_NEW.csv\n",
      "Completed batch 66, total profiles generated: 570\n",
      "\n",
      "Starting batch 67/312\n",
      "Selected 5 new random example profiles for this batch\n"
     ]
    },
    {
     "name": "stderr",
     "output_type": "stream",
     "text": [
      "Generating profiles:  32%|██████████▊                       | 575/1800 [5:02:07<20:55:22, 61.49s/it]"
     ]
    },
    {
     "name": "stdout",
     "output_type": "stream",
     "text": [
      "\n",
      "Saved 575 profiles to: generated_profiles_NEW.csv\n",
      "Completed batch 67, total profiles generated: 575\n",
      "\n",
      "Starting batch 68/312\n",
      "Selected 5 new random example profiles for this batch\n"
     ]
    },
    {
     "name": "stderr",
     "output_type": "stream",
     "text": [
      "Generating profiles:  32%|██████████▉                       | 580/1800 [5:07:54<22:29:53, 66.39s/it]"
     ]
    },
    {
     "name": "stdout",
     "output_type": "stream",
     "text": [
      "\n",
      "Saved 580 profiles to: generated_profiles_NEW.csv\n",
      "Completed batch 68, total profiles generated: 580\n",
      "\n",
      "Starting batch 69/312\n",
      "Selected 5 new random example profiles for this batch\n"
     ]
    },
    {
     "name": "stderr",
     "output_type": "stream",
     "text": [
      "Generating profiles:  32%|███████████                       | 585/1800 [5:12:06<17:29:21, 51.82s/it]"
     ]
    },
    {
     "name": "stdout",
     "output_type": "stream",
     "text": [
      "\n",
      "Saved 585 profiles to: generated_profiles_NEW.csv\n",
      "Completed batch 69, total profiles generated: 585\n",
      "\n",
      "Starting batch 70/312\n",
      "Selected 5 new random example profiles for this batch\n"
     ]
    },
    {
     "name": "stderr",
     "output_type": "stream",
     "text": [
      "Generating profiles:  33%|███████████▏                      | 590/1800 [5:16:22<17:49:55, 53.05s/it]"
     ]
    },
    {
     "name": "stdout",
     "output_type": "stream",
     "text": [
      "\n",
      "Saved 590 profiles to: generated_profiles_NEW.csv\n",
      "Completed batch 70, total profiles generated: 590\n",
      "\n",
      "Starting batch 71/312\n",
      "Selected 5 new random example profiles for this batch\n"
     ]
    },
    {
     "name": "stderr",
     "output_type": "stream",
     "text": [
      "Generating profiles:  33%|███████████▏                      | 595/1800 [5:20:22<15:59:54, 47.80s/it]"
     ]
    },
    {
     "name": "stdout",
     "output_type": "stream",
     "text": [
      "\n",
      "Saved 595 profiles to: generated_profiles_NEW.csv\n",
      "Completed batch 71, total profiles generated: 595\n",
      "\n",
      "Starting batch 72/312\n",
      "Selected 5 new random example profiles for this batch\n"
     ]
    },
    {
     "name": "stderr",
     "output_type": "stream",
     "text": [
      "Generating profiles:  33%|███████████▎                      | 600/1800 [5:24:46<17:44:38, 53.23s/it]"
     ]
    },
    {
     "name": "stdout",
     "output_type": "stream",
     "text": [
      "\n",
      "Saved 600 profiles to: generated_profiles_NEW.csv\n",
      "Completed batch 72, total profiles generated: 600\n",
      "\n",
      "Starting batch 73/312\n",
      "Selected 5 new random example profiles for this batch\n"
     ]
    },
    {
     "name": "stderr",
     "output_type": "stream",
     "text": [
      "Generating profiles:  33%|███████████▎                      | 601/1800 [5:25:39<17:39:49, 53.04s/it]"
     ]
    },
    {
     "name": "stdout",
     "output_type": "stream",
     "text": [
      "\n",
      "Invalid JSON received:\n",
      "{\n",
      "    \"Intro\": \"{'Full Name': 'Nikhil Patel', 'Workplace': 'Co-founder & CEO at InnovaTech Solutions', 'Location': 'Bangalore, Karnataka, India', 'Connections': '1000+', 'Photo': 'Yes', 'Followers': '1200'}\",\n",
      "    \"Full Name\": \"Nikhil Patel\",\n",
      "    \"Workplace\": \"Co-founder & CEO at InnovaTech Solutions\",\n",
      "    \"Location\": \"Bangalore, Karnataka, India\",\n",
      "    \"Connections\": 1000,\n",
      "    \"Photo\": \"Yes\",\n",
      "    \"Followers\": 1200,\n",
      "    \"About\": \"An entrepreneurial executive with a passion for leveraging technology to solve real-world problems. With over 15 years of experience in the tech industry, I've helped grow InnovaTech Solutions from a startup idea to a market leader in AI solutions for healthcare. A strong believer in the power of innovation and teamwork to drive success.\",\n",
      "    \"Experiences\": \"{'0': {'Workplace': 'InnovaTech Solutions', 'Role': 'Co-founder & CEO', 'Duration': 'Jan 2014 - Present \\u00b7 9 yrs', 'Workplace Location': 'Bangalore, Karnataka, India', 'Description': 'Led the startup from conception, securing initial funding, developing products, to becoming a leader in the AI for healthcare space. Spearheaded partnerships with major hospitals and research institutions worldwide.'}, '1': {'Workplace': 'TechInnovate', 'Role': 'Product Manager', 'Duration': 'Aug 2008 - Dec 2013 \\u00b7 5 yrs 5 mos', 'Workplace Location': 'Pune, Maharashtra, India', 'Description': 'Managed a team of engineers and designers to develop software solutions that improved productivity for small businesses. Played a key role in doubling the customer base in under two years.'}, '2': {'Workplace': 'InfoSys', 'Role': 'Software Developer', 'Duration': 'Jul 2003 - Jul 2008 \\u00b7 5 yrs 1 mo', 'Workplace Location': 'Bangalore, Karnataka, India', 'Description': 'Developed and maintained high-volume, low-latency applications for mission-critical systems, ensuring strong coherence and maximum performance.'}}\",\n",
      "    \"Number of Experiences\": 3,\n",
      "    \"Educations\": \"{'0': {'Institute': 'Indian Institute of Technology, Bombay', 'Degree': 'Master of Technology - MTech, Computer Science', 'Duration': '1999 - 2003', 'Description': 'Specialized in machine learning and data science.'}}\",\n",
      "    \"Number of Educations\": 1,\n",
      "    \"Licenses\": \"{'0': {'Title': 'Certified ScrumMaster\\u00ae (CSM\\u00ae)', 'Company': 'Scrum Alliance', 'Description': 'Issued Jan 2010'}}\",\n",
      "    \"Number of Licenses\": 1,\n",
      "    \"Volunteering\": \"{'0': {'Organization': 'Tech4Good', 'Role': 'Volunteer Mentor', 'Duration': '2016 - Present', 'Description': 'Mentor for early-stage tech startups focused on creating social impact.'}}\",\n",
      "    \"Number of Volunteering\": 1,\n",
      "    \"Skills\": \"{'Skill 0': 'Entrepreneurship', 'Skill 1': 'Artificial Intelligence', 'Skill 2': 'Leadership', 'Skill 3': 'Product Development', 'Skill 4': 'Strategic Partnerships'}\",\n",
      "    \"Number of Skills\": 5,\n",
      "    \"Recommendations\": \"{'0': {'User': 'Arjun Desai', 'Category': 'in', 'ID': 'arjun-desai-34165402', 'URL': 'https://www.linkedin.com/in/arjun-desai-34165402', 'Relation': 'November 2, 2016, Arjun was a client of Nikhil\\'s', 'Description': 'Nikhil is an innovative thinker with the remarkable ability to translate complex technical concepts into practical, scalable solutions. His leadership at InnovaTech Solutions has been instrumental in the success of our projects. A true professional and visionary in the tech industry.'}}\",\n",
      "    \"Number of Recommendations\": 1,\n",
      "    \"Projects\": \"{'0': {'Title': 'AI-driven Diagnostic Tool for Early Detection of Chronic Diseases', 'Description': 'Led the development of an AI-driven tool that significantly improves the early detection rates of chronic diseases, now implemented in over 50 hospitals globally.'}}\",\n",
      "    \"Number of Projects\": 1,\n",
      "    \"Publications\": \"{'0': {'Title': 'Leveraging AI for Enhanced Healthcare Delivery', 'Publication': 'IEEE Healthcare Technology', 'Date': 'March 2018', 'Description': 'An in-depth exploration of the application of artificial intelligence technologies in healthcare, detailing the challenges, methodologies, and successes observed.'}}\",\n",
      "    \"Number of Publications\": 1,\n",
      "    \"Courses\": \"{}\",\n",
      "    \"Number of Courses\": 0,\n",
      "    \"Honors\": \"{'0': {'Award': 'Innovator of the Year - 2020', 'Info': 'TechAsia Awards', 'Description': 'Recognized for outstanding contributions to technology innovations in healthcare.'}}\",\n",
      "    \"Number of Honors\": 1,\n",
      "    \"Scores\": \"{}\",\n",
      "    \"Number of Scores\": 0,\n",
      "    \"Languages\": \"{'0': {'Language': 'English', 'Proficiency': 'Fluent'}, '1': {'Language': 'Hindi', 'Proficiency': 'Native'}}\",\n",
      "    \"Number of Languages\": 2,\n",
      "    \"Organizations\": \"{'0': {'Organization': 'Indian Tech Entrepreneurs Association', 'Role': 'Board Member', 'Duration': '2015 - Present', 'Description': 'Contribute to the development of the tech entrepreneurship ecosystem in India.'}}\",\n",
      "    \"Number of Organizations\": 1,\n",
      "    \"Interests\": \"{'0': {'Interest': 'Bill Gates', 'ID': 'bill-gates-204', 'Category': 'in', 'URL': 'https://www.linkedin.com/in/bill-gates-204'}, '1': {'Interest': 'Satya Nadella', 'ID': 'satya-nadella-3145136', 'Category': 'in', 'URL': 'https://www.linkedin.com/in/satya-nadella-3145136'}, '2': {'Interest': 'Indian Institute of Technology', 'ID': '21877', 'Category': 'school', 'URL': 'https://www.linkedin.com/school/21877'}, '3': {'Interest': 'Startups', 'ID': '7978004', 'Category': 'company', 'URL': 'https://www.linkedin.com/company/7978004'}}\",\n",
      "    \"Number of Interests\": 4,\n",
      "    \"Activities\": \"{'infoq': {'Full Name': 'InfoQ', 'Category': 'company', 'URL': 'https://www.linkedin.com/company/infoq'}, 'techcrunch': {'Full Name': 'TechCrunch', 'Category': 'company', 'URL': 'https://www.linkedin.com/company/techcrunch'}, 'yourstory': {'Full Name': 'YourStory', 'Category': 'company', 'URL': 'https://www.linkedin.com/company/yourstory-media'}, 'machine-learning-ai': {'Full Name': 'Machine Learning & AI', 'Category': 'company', 'URL': 'https://www.linkedin.com/company/machine-learning-&-ai'}}\",\n",
      "    \"Number of Activities\": 4,\n",
      "    \"Label\": 0\n",
      "}\n",
      "JSON Error: Invalid \\escape: line 20 column 221 (char 3050)\n",
      "\n",
      "Retry 1/3 after error: Invalid \\escape: line 20 column 221 (char 3050)\n",
      "Last response received: {\n",
      "    \"Intro\": \"{'Full Name': 'Nikhil Patel', 'Workplace': 'Co-founder & CEO at InnovaTech Solutions', 'Location': 'Bangalore, Karnataka, India', 'Connections': '1000+', 'Photo': 'Yes', 'Followers': '1200'}\",\n",
      "    \"Full Name\": \"Nikhil Patel\",\n",
      "    \"Workplace\": \"Co-founder & CEO at InnovaTech Solutions\",\n",
      "    \"Location\": \"Bangalore, Karnataka, India\",\n",
      "    \"Connections\": 1000,\n",
      "    \"Photo\": \"Yes\",\n",
      "    \"Followers\": 1200,\n",
      "    \"About\": \"An entrepreneurial executive with a passion for leveraging technology to solve real-world problems. With over 15 years of experience in the tech industry, I've helped grow InnovaTech Solutions from a startup idea to a market leader in AI solutions for healthcare. A strong believer in the power of innovation and teamwork to drive success.\",\n",
      "    \"Experiences\": \"{'0': {'Workplace': 'InnovaTech Solutions', 'Role': 'Co-founder & CEO', 'Duration': 'Jan 2014 - Present \\u00b7 9 yrs', 'Workplace Location': 'Bangalore, Karnataka, India', 'Description': 'Led the startup from conception, securing initial funding, developing products, to becoming a leader in the AI for healthcare space. Spearheaded partnerships with major hospitals and research institutions worldwide.'}, '1': {'Workplace': 'TechInnovate', 'Role': 'Product Manager', 'Duration': 'Aug 2008 - Dec 2013 \\u00b7 5 yrs 5 mos', 'Workplace Location': 'Pune, Maharashtra, India', 'Description': 'Managed a team of engineers and designers to develop software solutions that improved productivity for small businesses. Played a key role in doubling the customer base in under two years.'}, '2': {'Workplace': 'InfoSys', 'Role': 'Software Developer', 'Duration': 'Jul 2003 - Jul 2008 \\u00b7 5 yrs 1 mo', 'Workplace Location': 'Bangalore, Karnataka, India', 'Description': 'Developed and maintained high-volume, low-latency applications for mission-critical systems, ensuring strong coherence and maximum performance.'}}\",\n",
      "    \"Number of Experiences\": 3,\n",
      "    \"Educations\": \"{'0': {'Institute': 'Indian Institute of Technology, Bombay', 'Degree': 'Master of Technology - MTech, Computer Science', 'Duration': '1999 - 2003', 'Description': 'Specialized in machine learning and data science.'}}\",\n",
      "    \"Number of Educations\": 1,\n",
      "    \"Licenses\": \"{'0': {'Title': 'Certified ScrumMaster\\u00ae (CSM\\u00ae)', 'Company': 'Scrum Alliance', 'Description': 'Issued Jan 2010'}}\",\n",
      "    \"Number of Licenses\": 1,\n",
      "    \"Volunteering\": \"{'0': {'Organization': 'Tech4Good', 'Role': 'Volunteer Mentor', 'Duration': '2016 - Present', 'Description': 'Mentor for early-stage tech startups focused on creating social impact.'}}\",\n",
      "    \"Number of Volunteering\": 1,\n",
      "    \"Skills\": \"{'Skill 0': 'Entrepreneurship', 'Skill 1': 'Artificial Intelligence', 'Skill 2': 'Leadership', 'Skill 3': 'Product Development', 'Skill 4': 'Strategic Partnerships'}\",\n",
      "    \"Number of Skills\": 5,\n",
      "    \"Recommendations\": \"{'0': {'User': 'Arjun Desai', 'Category': 'in', 'ID': 'arjun-desai-34165402', 'URL': 'https://www.linkedin.com/in/arjun-desai-34165402', 'Relation': 'November 2, 2016, Arjun was a client of Nikhil\\'s', 'Description': 'Nikhil is an innovative thinker with the remarkable ability to translate complex technical concepts into practical, scalable solutions. His leadership at InnovaTech Solutions has been instrumental in the success of our projects. A true professional and visionary in the tech industry.'}}\",\n",
      "    \"Number of Recommendations\": 1,\n",
      "    \"Projects\": \"{'0': {'Title': 'AI-driven Diagnostic Tool for Early Detection of Chronic Diseases', 'Description': 'Led the development of an AI-driven tool that significantly improves the early detection rates of chronic diseases, now implemented in over 50 hospitals globally.'}}\",\n",
      "    \"Number of Projects\": 1,\n",
      "    \"Publications\": \"{'0': {'Title': 'Leveraging AI for Enhanced Healthcare Delivery', 'Publication': 'IEEE Healthcare Technology', 'Date': 'March 2018', 'Description': 'An in-depth exploration of the application of artificial intelligence technologies in healthcare, detailing the challenges, methodologies, and successes observed.'}}\",\n",
      "    \"Number of Publications\": 1,\n",
      "    \"Courses\": \"{}\",\n",
      "    \"Number of Courses\": 0,\n",
      "    \"Honors\": \"{'0': {'Award': 'Innovator of the Year - 2020', 'Info': 'TechAsia Awards', 'Description': 'Recognized for outstanding contributions to technology innovations in healthcare.'}}\",\n",
      "    \"Number of Honors\": 1,\n",
      "    \"Scores\": \"{}\",\n",
      "    \"Number of Scores\": 0,\n",
      "    \"Languages\": \"{'0': {'Language': 'English', 'Proficiency': 'Fluent'}, '1': {'Language': 'Hindi', 'Proficiency': 'Native'}}\",\n",
      "    \"Number of Languages\": 2,\n",
      "    \"Organizations\": \"{'0': {'Organization': 'Indian Tech Entrepreneurs Association', 'Role': 'Board Member', 'Duration': '2015 - Present', 'Description': 'Contribute to the development of the tech entrepreneurship ecosystem in India.'}}\",\n",
      "    \"Number of Organizations\": 1,\n",
      "    \"Interests\": \"{'0': {'Interest': 'Bill Gates', 'ID': 'bill-gates-204', 'Category': 'in', 'URL': 'https://www.linkedin.com/in/bill-gates-204'}, '1': {'Interest': 'Satya Nadella', 'ID': 'satya-nadella-3145136', 'Category': 'in', 'URL': 'https://www.linkedin.com/in/satya-nadella-3145136'}, '2': {'Interest': 'Indian Institute of Technology', 'ID': '21877', 'Category': 'school', 'URL': 'https://www.linkedin.com/school/21877'}, '3': {'Interest': 'Startups', 'ID': '7978004', 'Category': 'company', 'URL': 'https://www.linkedin.com/company/7978004'}}\",\n",
      "    \"Number of Interests\": 4,\n",
      "    \"Activities\": \"{'infoq': {'Full Name': 'InfoQ', 'Category': 'company', 'URL': 'https://www.linkedin.com/company/infoq'}, 'techcrunch': {'Full Name': 'TechCrunch', 'Category': 'company', 'URL': 'https://www.linkedin.com/company/techcrunch'}, 'yourstory': {'Full Name': 'YourStory', 'Category': 'company', 'URL': 'https://www.linkedin.com/company/yourstory-media'}, 'machine-learning-ai': {'Full Name': 'Machine Learning & AI', 'Category': 'company', 'URL': 'https://www.linkedin.com/company/machine-learning-&-ai'}}\",\n",
      "    \"Number of Activities\": 4,\n",
      "    \"Label\": 0\n",
      "}\n"
     ]
    },
    {
     "name": "stderr",
     "output_type": "stream",
     "text": [
      "Generating profiles:  34%|███████████▍                      | 605/1800 [5:30:53<22:02:48, 66.42s/it]"
     ]
    },
    {
     "name": "stdout",
     "output_type": "stream",
     "text": [
      "\n",
      "Saved 605 profiles to: generated_profiles_NEW.csv\n",
      "Completed batch 73, total profiles generated: 605\n",
      "\n",
      "Starting batch 74/312\n",
      "Selected 5 new random example profiles for this batch\n"
     ]
    },
    {
     "name": "stderr",
     "output_type": "stream",
     "text": [
      "Generating profiles:  34%|███████████▌                      | 610/1800 [5:35:47<20:07:39, 60.89s/it]"
     ]
    },
    {
     "name": "stdout",
     "output_type": "stream",
     "text": [
      "\n",
      "Saved 610 profiles to: generated_profiles_NEW.csv\n",
      "Completed batch 74, total profiles generated: 610\n",
      "\n",
      "Starting batch 75/312\n",
      "Selected 5 new random example profiles for this batch\n"
     ]
    },
    {
     "name": "stderr",
     "output_type": "stream",
     "text": [
      "Generating profiles:  34%|███████████▌                      | 615/1800 [5:40:15<17:02:50, 51.79s/it]"
     ]
    },
    {
     "name": "stdout",
     "output_type": "stream",
     "text": [
      "\n",
      "Saved 615 profiles to: generated_profiles_NEW.csv\n",
      "Completed batch 75, total profiles generated: 615\n",
      "\n",
      "Starting batch 76/312\n",
      "Selected 5 new random example profiles for this batch\n"
     ]
    },
    {
     "name": "stderr",
     "output_type": "stream",
     "text": [
      "Generating profiles:  34%|███████████▋                      | 620/1800 [5:44:39<17:44:50, 54.14s/it]"
     ]
    },
    {
     "name": "stdout",
     "output_type": "stream",
     "text": [
      "\n",
      "Saved 620 profiles to: generated_profiles_NEW.csv\n",
      "Completed batch 76, total profiles generated: 620\n",
      "\n",
      "Starting batch 77/312\n",
      "Selected 5 new random example profiles for this batch\n"
     ]
    },
    {
     "name": "stderr",
     "output_type": "stream",
     "text": [
      "Generating profiles:  35%|███████████▊                      | 625/1800 [5:48:41<15:40:51, 48.04s/it]"
     ]
    },
    {
     "name": "stdout",
     "output_type": "stream",
     "text": [
      "\n",
      "Saved 625 profiles to: generated_profiles_NEW.csv\n",
      "Completed batch 77, total profiles generated: 625\n",
      "\n",
      "Starting batch 78/312\n",
      "Selected 5 new random example profiles for this batch\n"
     ]
    },
    {
     "name": "stderr",
     "output_type": "stream",
     "text": [
      "Generating profiles:  35%|███████████▉                      | 630/1800 [5:52:44<16:27:45, 50.65s/it]"
     ]
    },
    {
     "name": "stdout",
     "output_type": "stream",
     "text": [
      "\n",
      "Saved 630 profiles to: generated_profiles_NEW.csv\n",
      "Completed batch 78, total profiles generated: 630\n",
      "\n",
      "Starting batch 79/312\n",
      "Selected 5 new random example profiles for this batch\n"
     ]
    },
    {
     "name": "stderr",
     "output_type": "stream",
     "text": [
      "Generating profiles:  35%|███████████▉                      | 632/1800 [5:54:48<18:08:15, 55.90s/it]"
     ]
    },
    {
     "name": "stdout",
     "output_type": "stream",
     "text": [
      "\n",
      "Invalid JSON received:\n",
      "{\n",
      "    \"Intro\": \"{'Full Name': 'Isabella Torres', 'Workplace': 'Head of Growth Marketing at EcoBoom | Driving Sustainable Consumer Practices and Brand Expansion in LATAM', 'Location': 'São Paulo, São Paulo, Brazil', 'Connections': '852', 'Photo': 'Yes', 'Followers': '3,415'}\",\n",
      "    \"Full Name\": \"Isabella Torres\",\n",
      "    \"Workplace\": \"Head of Growth Marketing at EcoBoom | Driving Sustainable Consumer Practices and Brand Expansion in LATAM\",\n",
      "    \"Location\": \"São Paulo, São Paulo, Brazil\",\n",
      "    \"Connections\": 852,\n",
      "    \"Photo\": \"Yes\",\n",
      "    \"Followers\": 3415,\n",
      "    \"About\": \"{'Bio': 'With over 12 years of experience in the marketing sector, specifically in building and executing marketing strategies for sustainability-focused brands, I help businesses achieve their growth targets while fostering consumer loyalty. A passionate advocate for sustainable living, my journey in the marketing world spans across various industries including technology, fashion, and now consumer goods. My expertise lies in bridging the gap between brand potentials and consumer expectations through innovation, persuasion, and strategic market penetration. As a leader, my goal is to inspire my team to push boundaries, and together, contribute to a more sustainable world for future generations.'}\",\n",
      "    \"Experiences\": \"{'0': {'Role': 'Head of Growth Marketing', 'Workplace': 'EcoBoom', 'Duration': 'Jan 2021 - Present \\u00b7 2 yrs 2 mos', 'Workplace Location': 'São Paulo, Brazil', 'Description': 'Leads strategic marketing campaigns across LATAM to boost brand visibility and customer acquisition for EcoBoom’s eco-friendly product range.\\nInitiates data-driven market analysis to align product offerings with consumer behaviour and sustainability trends.'}, '1': {'Role': 'Senior Marketing Manager', 'Workplace': 'BeeGreenTech Solutions', 'Duration': 'Oct 2016 - Dec 2020 \\u00b7 4 yrs 3 mos', 'Workplace Location': 'São Paulo, Brazil', 'Description': 'Managed cross-functional teams to launch comprehensive marketing strategies that emphasized on sustainable technology solutions.\\nExpanded market share through targeted campaigns, significantly increasing user engagement and bottom line growth.'}, '2': {'Role': 'Marketing Specialist', 'Workplace': 'Lucy’s Fashion Outlet', 'Duration': 'Apr 2013 - Sep 2016 \\u00b7 3 yrs 6 mos', 'Workplace Location': 'Rio de Janeiro, Brazil', 'Description': 'Spearheaded online and offline marketing efforts that resulted in improved brand recognition and sales performance.\\nImplemented customer retention programs that enhanced loyalty and repeat purchases.'}}\",\n",
      "    \"Number of Experiences\": 3,\n",
      "    \"Educations\": \"{'0': {'Institute': 'Fundação Getulio Vargas (FGV)', 'Degree': 'Master of Business Administration (M.B.A.), Marketing', 'Duration': '2018 - 2020', 'Description': ''}, '1': {'Institute': 'Universidade de São Paulo (USP)', 'Degree': 'Bachelor of Science (B.S.), Environmental/Environmental Health Engineering', 'Duration': '2008 - 2012', 'Description': ''}}\",\n",
      "    \"Number of Educations\": 2,\n",
      "    \"Licenses\": \"{'0': {'Title': 'Certified Sustainable Business Leader', 'Company': 'Green Business Certification Inc. (GBCI)', 'Description': 'Issued Jan 2021'}, '1': {'Title': 'Professional Certified Marketer (PCM®)', 'Company': 'American Marketing Association', 'Description': 'Issued Dec 2019'}}\",\n",
      "    \"Number of Licenses\": 2,\n",
      "    \"Volunteering\": \"{'0': {'Role': 'Volunteer Marketing Consultant', 'Organization': 'Amazonia Onlus', 'Duration': 'Feb 2018 - Present \\u00b7 5 yrs', 'Description': 'Advising on sustainable marketing practices for projects focused on the conservation of the Amazon rainforest.'}}\",\n",
      "    \"Number of Volunteering\": 1,\n",
      "    \"Skills\": \"{'Skill 0': 'Sustainable Marketing', 'Skill 1': 'Brand Development', 'Skill 2': 'Consumer Behaviour Analysis', 'Skill 3': 'Team Leadership'}\",\n",
      "    \"Number of Skills\": 4,\n",
      "    \"Recommendations\": \"{'0': {'User': 'Alex Martins', 'Category': 'in', 'ID': 'alexm', 'URL': 'https://www.linkedin.com/in/alexm', 'Relation': 'September 15, 2020, Alex was Isabella’s colleague', 'Description': 'Isabella is a visionary marketer who understands the importance of sustainability in today's world. Working with her, I saw firsthand how she drives growth through innovative and eco-friendly strategies. Her leadership has not only propelled EcoBoom to new heights in LATAM but also instilled a culture of sustainability within the team.'}}\",\n",
      "    \"Number of Recommendations\": 1,\n",
      "    \"Projects\": \"{'0': {'Title': 'Launching EcoBoom\\'s Zero Waste Product Line', 'Description': 'Led the successful market launch of EcoBoom’s first zero waste product line, resulting in a 40% year-on-year increase in brand engagement across LATAM.'}}\",\n",
      "    \"Number of Projects\": 1,\n",
      "    \"Publications\": \"{'0': {'Title': 'The Green Consumer: Adapting to the Evolving Market Demands', 'Journal': 'Sustainable Marketing Quarterly \\u00b7 July 2022', 'Description': 'An in-depth look at how modern consumer behavior is shaping brands’ approaches to sustainable practices and product offerings.'}}\",\n",
      "    \"Number of Publications\": 1,\n",
      "    \"Courses\": \"{}\",\n",
      "    \"Number of Courses\": 0,\n",
      "    \"Honors\": \"{'0': {'Award': 'Top 30 Marketers Under 40', 'Info': 'Issued by LATAM Marketing Association \\u00b7 Mar 2022', 'Description': ''}}\",\n",
      "    \"Number of Honors\": 1,\n",
      "    \"Scores\": \"{}\",\n",
      "    \"Number of Scores\": 0,\n",
      "    \"Languages\": \"{'Language 0': 'Portuguese', 'Language 1': 'English', 'Language 2': 'Spanish'}\",\n",
      "    \"Number of Languages\": 3,\n",
      "    \"Organizations\": \"{'0': {'Organization': 'Brazilian Marketing Association', 'Role': 'Member \\u00b7 Jan 2018 - Present'}, '1': {'Organization': 'LATAM Environmental Advocates', 'Role': 'Co-founder \\u00b7 Dec 2020 - Present'}}\",\n",
      "    \"Number of Organizations\": 2,\n",
      "    \"Interests\": \"{'0': {'Interest': 'Sustainable Brands', 'ID': '123455', 'Category': 'company', 'URL': 'https://www.linkedin.com/company/123455'}, '1': {'Interest': 'Fundação Getulio Vargas', 'ID': '67890', 'Category': 'school', 'URL': 'https://www.linkedin.com/school/67890'}, '2': {'Interest': 'Greenpeace', 'ID': '10112', 'Category': 'company', 'URL': 'https://www.linkedin.com/company/10112'}}\",\n",
      "    \"Number of Interests\": 3,\n",
      "    \"Activities\": \"{'jpereira': {'Full Name': 'Juliana Pereira', 'Category': 'in', 'URL': 'https://www.linkedin.com/in/jpereira'}, 'mariasouza': {'Full Name': 'Maria Souza', 'Category': 'in', 'URL': 'https://www.linkedin.com/in/mariasouza'}, 'gabrielalopes': {'Full Name': 'Gabriela Lopes', 'Category': 'in', 'URL': 'https://www.linkedin.com/in/gabrielalopes'}}\",\n",
      "    \"Number of Activities\": 3,\n",
      "    \"Label\": 0\n",
      "}\n",
      "JSON Error: Invalid \\escape: line 22 column 52 (char 4496)\n",
      "\n",
      "Retry 1/3 after error: Invalid \\escape: line 22 column 52 (char 4496)\n",
      "Last response received: {\n",
      "    \"Intro\": \"{'Full Name': 'Isabella Torres', 'Workplace': 'Head of Growth Marketing at EcoBoom | Driving Sustainable Consumer Practices and Brand Expansion in LATAM', 'Location': 'São Paulo, São Paulo, Brazil', 'Connections': '852', 'Photo': 'Yes', 'Followers': '3,415'}\",\n",
      "    \"Full Name\": \"Isabella Torres\",\n",
      "    \"Workplace\": \"Head of Growth Marketing at EcoBoom | Driving Sustainable Consumer Practices and Brand Expansion in LATAM\",\n",
      "    \"Location\": \"São Paulo, São Paulo, Brazil\",\n",
      "    \"Connections\": 852,\n",
      "    \"Photo\": \"Yes\",\n",
      "    \"Followers\": 3415,\n",
      "    \"About\": \"{'Bio': 'With over 12 years of experience in the marketing sector, specifically in building and executing marketing strategies for sustainability-focused brands, I help businesses achieve their growth targets while fostering consumer loyalty. A passionate advocate for sustainable living, my journey in the marketing world spans across various industries including technology, fashion, and now consumer goods. My expertise lies in bridging the gap between brand potentials and consumer expectations through innovation, persuasion, and strategic market penetration. As a leader, my goal is to inspire my team to push boundaries, and together, contribute to a more sustainable world for future generations.'}\",\n",
      "    \"Experiences\": \"{'0': {'Role': 'Head of Growth Marketing', 'Workplace': 'EcoBoom', 'Duration': 'Jan 2021 - Present \\u00b7 2 yrs 2 mos', 'Workplace Location': 'São Paulo, Brazil', 'Description': 'Leads strategic marketing campaigns across LATAM to boost brand visibility and customer acquisition for EcoBoom’s eco-friendly product range.\\nInitiates data-driven market analysis to align product offerings with consumer behaviour and sustainability trends.'}, '1': {'Role': 'Senior Marketing Manager', 'Workplace': 'BeeGreenTech Solutions', 'Duration': 'Oct 2016 - Dec 2020 \\u00b7 4 yrs 3 mos', 'Workplace Location': 'São Paulo, Brazil', 'Description': 'Managed cross-functional teams to launch comprehensive marketing strategies that emphasized on sustainable technology solutions.\\nExpanded market share through targeted campaigns, significantly increasing user engagement and bottom line growth.'}, '2': {'Role': 'Marketing Specialist', 'Workplace': 'Lucy’s Fashion Outlet', 'Duration': 'Apr 2013 - Sep 2016 \\u00b7 3 yrs 6 mos', 'Workplace Location': 'Rio de Janeiro, Brazil', 'Description': 'Spearheaded online and offline marketing efforts that resulted in improved brand recognition and sales performance.\\nImplemented customer retention programs that enhanced loyalty and repeat purchases.'}}\",\n",
      "    \"Number of Experiences\": 3,\n",
      "    \"Educations\": \"{'0': {'Institute': 'Fundação Getulio Vargas (FGV)', 'Degree': 'Master of Business Administration (M.B.A.), Marketing', 'Duration': '2018 - 2020', 'Description': ''}, '1': {'Institute': 'Universidade de São Paulo (USP)', 'Degree': 'Bachelor of Science (B.S.), Environmental/Environmental Health Engineering', 'Duration': '2008 - 2012', 'Description': ''}}\",\n",
      "    \"Number of Educations\": 2,\n",
      "    \"Licenses\": \"{'0': {'Title': 'Certified Sustainable Business Leader', 'Company': 'Green Business Certification Inc. (GBCI)', 'Description': 'Issued Jan 2021'}, '1': {'Title': 'Professional Certified Marketer (PCM®)', 'Company': 'American Marketing Association', 'Description': 'Issued Dec 2019'}}\",\n",
      "    \"Number of Licenses\": 2,\n",
      "    \"Volunteering\": \"{'0': {'Role': 'Volunteer Marketing Consultant', 'Organization': 'Amazonia Onlus', 'Duration': 'Feb 2018 - Present \\u00b7 5 yrs', 'Description': 'Advising on sustainable marketing practices for projects focused on the conservation of the Amazon rainforest.'}}\",\n",
      "    \"Number of Volunteering\": 1,\n",
      "    \"Skills\": \"{'Skill 0': 'Sustainable Marketing', 'Skill 1': 'Brand Development', 'Skill 2': 'Consumer Behaviour Analysis', 'Skill 3': 'Team Leadership'}\",\n",
      "    \"Number of Skills\": 4,\n",
      "    \"Recommendations\": \"{'0': {'User': 'Alex Martins', 'Category': 'in', 'ID': 'alexm', 'URL': 'https://www.linkedin.com/in/alexm', 'Relation': 'September 15, 2020, Alex was Isabella’s colleague', 'Description': 'Isabella is a visionary marketer who understands the importance of sustainability in today's world. Working with her, I saw firsthand how she drives growth through innovative and eco-friendly strategies. Her leadership has not only propelled EcoBoom to new heights in LATAM but also instilled a culture of sustainability within the team.'}}\",\n",
      "    \"Number of Recommendations\": 1,\n",
      "    \"Projects\": \"{'0': {'Title': 'Launching EcoBoom\\'s Zero Waste Product Line', 'Description': 'Led the successful market launch of EcoBoom’s first zero waste product line, resulting in a 40% year-on-year increase in brand engagement across LATAM.'}}\",\n",
      "    \"Number of Projects\": 1,\n",
      "    \"Publications\": \"{'0': {'Title': 'The Green Consumer: Adapting to the Evolving Market Demands', 'Journal': 'Sustainable Marketing Quarterly \\u00b7 July 2022', 'Description': 'An in-depth look at how modern consumer behavior is shaping brands’ approaches to sustainable practices and product offerings.'}}\",\n",
      "    \"Number of Publications\": 1,\n",
      "    \"Courses\": \"{}\",\n",
      "    \"Number of Courses\": 0,\n",
      "    \"Honors\": \"{'0': {'Award': 'Top 30 Marketers Under 40', 'Info': 'Issued by LATAM Marketing Association \\u00b7 Mar 2022', 'Description': ''}}\",\n",
      "    \"Number of Honors\": 1,\n",
      "    \"Scores\": \"{}\",\n",
      "    \"Number of Scores\": 0,\n",
      "    \"Languages\": \"{'Language 0': 'Portuguese', 'Language 1': 'English', 'Language 2': 'Spanish'}\",\n",
      "    \"Number of Languages\": 3,\n",
      "    \"Organizations\": \"{'0': {'Organization': 'Brazilian Marketing Association', 'Role': 'Member \\u00b7 Jan 2018 - Present'}, '1': {'Organization': 'LATAM Environmental Advocates', 'Role': 'Co-founder \\u00b7 Dec 2020 - Present'}}\",\n",
      "    \"Number of Organizations\": 2,\n",
      "    \"Interests\": \"{'0': {'Interest': 'Sustainable Brands', 'ID': '123455', 'Category': 'company', 'URL': 'https://www.linkedin.com/company/123455'}, '1': {'Interest': 'Fundação Getulio Vargas', 'ID': '67890', 'Category': 'school', 'URL': 'https://www.linkedin.com/school/67890'}, '2': {'Interest': 'Greenpeace', 'ID': '10112', 'Category': 'company', 'URL': 'https://www.linkedin.com/company/10112'}}\",\n",
      "    \"Number of Interests\": 3,\n",
      "    \"Activities\": \"{'jpereira': {'Full Name': 'Juliana Pereira', 'Category': 'in', 'URL': 'https://www.linkedin.com/in/jpereira'}, 'mariasouza': {'Full Name': 'Maria Souza', 'Category': 'in', 'URL': 'https://www.linkedin.com/in/mariasouza'}, 'gabrielalopes': {'Full Name': 'Gabriela Lopes', 'Category': 'in', 'URL': 'https://www.linkedin.com/in/gabrielalopes'}}\",\n",
      "    \"Number of Activities\": 3,\n",
      "    \"Label\": 0\n",
      "}\n"
     ]
    },
    {
     "name": "stderr",
     "output_type": "stream",
     "text": [
      "Generating profiles:  35%|███████████▉                      | 635/1800 [5:58:44<21:20:01, 65.92s/it]"
     ]
    },
    {
     "name": "stdout",
     "output_type": "stream",
     "text": [
      "\n",
      "Saved 635 profiles to: generated_profiles_NEW.csv\n",
      "Completed batch 79, total profiles generated: 635\n",
      "\n",
      "Starting batch 80/312\n",
      "Selected 5 new random example profiles for this batch\n"
     ]
    },
    {
     "name": "stderr",
     "output_type": "stream",
     "text": [
      "Generating profiles:  36%|████████████                      | 640/1800 [6:03:10<18:12:52, 56.53s/it]"
     ]
    },
    {
     "name": "stdout",
     "output_type": "stream",
     "text": [
      "\n",
      "Saved 640 profiles to: generated_profiles_NEW.csv\n",
      "Completed batch 80, total profiles generated: 640\n",
      "\n",
      "Starting batch 81/312\n",
      "Selected 5 new random example profiles for this batch\n"
     ]
    },
    {
     "name": "stderr",
     "output_type": "stream",
     "text": [
      "Generating profiles:  36%|████████████▏                     | 645/1800 [6:07:24<17:19:43, 54.01s/it]"
     ]
    },
    {
     "name": "stdout",
     "output_type": "stream",
     "text": [
      "\n",
      "Saved 645 profiles to: generated_profiles_NEW.csv\n",
      "Completed batch 81, total profiles generated: 645\n",
      "\n",
      "Starting batch 82/312\n",
      "Selected 5 new random example profiles for this batch\n"
     ]
    },
    {
     "name": "stderr",
     "output_type": "stream",
     "text": [
      "Generating profiles:  36%|████████████▎                     | 650/1800 [6:11:54<17:48:46, 55.76s/it]"
     ]
    },
    {
     "name": "stdout",
     "output_type": "stream",
     "text": [
      "\n",
      "Saved 650 profiles to: generated_profiles_NEW.csv\n",
      "Completed batch 82, total profiles generated: 650\n",
      "\n",
      "Starting batch 83/312\n",
      "Selected 5 new random example profiles for this batch\n"
     ]
    },
    {
     "name": "stderr",
     "output_type": "stream",
     "text": [
      "Generating profiles:  36%|████████████▎                     | 655/1800 [6:17:00<18:41:48, 58.79s/it]"
     ]
    },
    {
     "name": "stdout",
     "output_type": "stream",
     "text": [
      "\n",
      "Saved 655 profiles to: generated_profiles_NEW.csv\n",
      "Completed batch 83, total profiles generated: 655\n",
      "\n",
      "Starting batch 84/312\n",
      "Selected 5 new random example profiles for this batch\n"
     ]
    },
    {
     "name": "stderr",
     "output_type": "stream",
     "text": [
      "Generating profiles:  37%|████████████▍                     | 660/1800 [6:21:18<15:27:54, 48.84s/it]"
     ]
    },
    {
     "name": "stdout",
     "output_type": "stream",
     "text": [
      "\n",
      "Saved 660 profiles to: generated_profiles_NEW.csv\n",
      "Completed batch 84, total profiles generated: 660\n",
      "\n",
      "Starting batch 85/312\n",
      "Selected 5 new random example profiles for this batch\n"
     ]
    },
    {
     "name": "stderr",
     "output_type": "stream",
     "text": [
      "Generating profiles:  37%|████████████▌                     | 665/1800 [6:26:22<18:15:37, 57.92s/it]"
     ]
    },
    {
     "name": "stdout",
     "output_type": "stream",
     "text": [
      "\n",
      "Saved 665 profiles to: generated_profiles_NEW.csv\n",
      "Completed batch 85, total profiles generated: 665\n",
      "\n",
      "Starting batch 86/312\n",
      "Selected 5 new random example profiles for this batch\n"
     ]
    },
    {
     "name": "stderr",
     "output_type": "stream",
     "text": [
      "Generating profiles:  37%|████████████▋                     | 670/1800 [6:31:32<18:46:10, 59.80s/it]"
     ]
    },
    {
     "name": "stdout",
     "output_type": "stream",
     "text": [
      "\n",
      "Saved 670 profiles to: generated_profiles_NEW.csv\n",
      "Completed batch 86, total profiles generated: 670\n",
      "\n",
      "Starting batch 87/312\n",
      "Selected 5 new random example profiles for this batch\n"
     ]
    },
    {
     "name": "stderr",
     "output_type": "stream",
     "text": [
      "Generating profiles:  37%|████████████▋                     | 671/1800 [6:32:25<18:04:53, 57.66s/it]"
     ]
    },
    {
     "name": "stdout",
     "output_type": "stream",
     "text": [
      "\n",
      "Invalid JSON received:\n",
      "{\n",
      "    \"Intro\": \"{'Full Name': 'Nadia Kamara', 'Workplace': 'Regional Conservation Coordinator, WWF - East Africa', 'Location': 'Nairobi, Kenya', 'Connections': '800+', 'Photo': 'Yes', 'Followers': '1,200'}\",\n",
      "    \"Full Name\": \"Nadia Kamara\",\n",
      "    \"Workplace\": \"Regional Conservation Coordinator, WWF - East Africa\",\n",
      "    \"Location\": \"Nairobi, Kenya\",\n",
      "    \"Connections\": 800,\n",
      "    \"Photo\": \"Yes\",\n",
      "    \"Followers\": 1200,\n",
      "    \"About\": \"Dedicated to fostering sustainable development and promoting conservation efforts across East Africa. With over 10 years of experience working in diverse environments, I lead initiatives that align with the Sustainable Development Goals (SDGs), concentrating on biodiversity preservation, community engagement, and policy advocacy. Passionate about bridging the gap between conservation science and actionable policy.\",\n",
      "    \"Experiences\": \"{'0': {'Role': 'Regional Conservation Coordinator', 'Workplace': 'WWF - East Africa', 'Duration': 'Jun 2017 - Present \\u00b7 6 yrs', 'Workplace Location': 'Nairobi, Kenya', 'Description': 'Coordinate conservation projects across multiple countries in East Africa, ensuring strategic alignment with global conservation goals and local sustainability.'}, '1': {'Role': 'Conservation Project Manager', 'Workplace': 'The Nature Conservancy', 'Duration': 'Apr 2012 - May 2017 \\u00b7 5 yrs 2 mos', 'Workplace Location': 'Dar es Salaam, Tanzania', 'Description': 'Led multiple community-based conservation projects, focusing on marine and terrestrial ecosystems. Spearheaded the development of community engagement models that increased local participation in conservation efforts by 75%.'}, '2': {'Role': 'Environmental Policy Analyst', 'Workplace': 'Kenya Wildlife Service', 'Duration': 'Jan 2008 - Mar 2012 \\u00b7 4 yrs 3 mos', 'Workplace Location': 'Nairobi, Kenya', 'Description': 'Analyzed policy frameworks and advocated for changes in national wildlife policies to include community-led conservation methods. Participated in drafting national guidelines that have since influenced the creation of community wildlife conservancies.'}}\",\n",
      "    \"Number of Experiences\": 3,\n",
      "    \"Educations\": \"{'0': {'Institute': 'University of Nairobi', 'Degree': 'Master of Science in Environmental Governance', 'Duration': '2005 - 2007', 'Description': ''}, '1': {'Institute': 'Moi University', 'Degree': 'Bachelor of Science in Environmental Science', 'Duration': '2001 - 2005', 'Description': ''}}\",\n",
      "    \"Number of Educations\": 2,\n",
      "    \"Licenses\": \"{}\",\n",
      "    \"Number of Licenses\": 0,\n",
      "    \"Volunteering\": \"{'0': {'Role': 'Mentor', 'Organization': 'Green Africa Youth Organization', 'Duration': '2018 - Present \\u00b7 5 yrs', 'Description': 'Provide mentorship to young environmental leaders across Africa, aiming to develop the next generation of conservationists.'}}\",\n",
      "    \"Number of Volunteering\": 1,\n",
      "    \"Skills\": \"{'Skill 0': 'Sustainable Development', 'Skill 1': 'Policy Analysis', 'Skill 2': 'Community Engagement', 'Skill 3': 'Biodiversity Conservation'}\",\n",
      "    \"Number of Skills\": 4,\n",
      "    \"Recommendations\": \"{'0': {'User': 'Amina Hussein', 'Category': 'in', 'ID': 'amina-hussein', 'URL': 'https://www.linkedin.com/in/amina-hussein', 'Relation': 'June 15, 2019, Amina worked with Nadia in the same group', 'Description': 'Nadia’s commitment to conservation and her ability to work seamlessly with communities and government agencies alike have been instrumental in the success of our regional projects. Her leadership is inspiring and her strategic thinking invaluable.'}}\",\n",
      "    \"Number of Recommendations\": 1,\n",
      "    \"Projects\": \"{}\",\n",
      "    \"Number of Projects\": 0,\n",
      "    \"Publications\": \"{'0': {'Title': 'Impact of Climate Change on Biodiversity in East Africa', 'Journal': 'Conservation Africa Review \\u00b7 Mar 15, 2019', 'Description': 'A comprehensive review on the implications of climate change on the region’s biodiversity and the urgent need for action. Highlighted successful case studies of community-led initiatives that are paving the way for sustainable conservation practices.'}}\",\n",
      "    \"Number of Publications\": 1,\n",
      "    \"Courses\": \"{}\",\n",
      "    \"Number of Courses\": 0,\n",
      "    \"Honors\": \"{'0': {'Award': 'Environmental Leadership Award', 'Info': 'Issued by Green Africa Foundation \\u00b7 Aug 2020', 'Description': 'Recognized for outstanding leadership in environmental conservation across East Africa.'}}\",\n",
      "    \"Number of Honors\": 1,\n",
      "    \"Scores\": \"{}\",\n",
      "    \"Number of Scores\": 0,\n",
      "    \"Languages\": \"{}\",\n",
      "    \"Number of Languages\": 0,\n",
      "    \"Organizations\": \"{}\",\n",
      "    \"Number of Organizations\": 0,\n",
      "    \"Interests\": \"{'0': {'Interest': 'UN Environment Programme', 'ID': '8270', 'Category': 'company', 'URL': 'https://www.linkedin.com/company/8270'}, '1': {'Interest': 'World Economic Forum', 'ID': '8193', 'Category': 'company', 'URL': 'https://www.linkedin.com/company/8193'}, '2': {'Interest': 'The Nature Conservancy', 'ID': '36443', 'Category': 'company', 'URL': 'https://www.linkedin.com/company/36443'}, '3': {'Interest': 'Green Africa Youth Organization', 'ID': '209231093', 'Category': 'groups', 'URL': 'https://www.linkedin.com/groups/209231093'}, '4': {'Interest': 'University of Nairobi', 'ID': '9893912', 'Category': 'school', 'URL': 'https://www.linkedin.com/school/9893912'}}\",\n",
      "    \"Number of Interests\": 5,\n",
      "    \"Activities\": \"{'claireodyoung': {'Full Name': 'Claire O\\'Young', 'Category': 'in', 'URL': 'https://www.linkedin.com/in/claireodyoung'}, 'jacksonmwangi': {'Full Name': 'Jackson Mwangi', 'Category': 'in', 'URL': 'https://www.linkedin.com/in/jacksonmwangi'}, 'emmanuelokwe': {'Full Name': 'Emmanuel Okwe', 'Category': 'in', 'URL': 'https://www.linkedin.com/in/emmanuelokwe'}, 'angela-kimani': {'Full Name': 'Angela Kimani', 'Category': 'in', 'URL': 'https://www.linkedin.com/in/angela-kimani'}}\",\n",
      "    \"Number of Activities\": 4,\n",
      "    \"Label\": 0\n",
      "  }\n",
      "JSON Error: Invalid \\escape: line 38 column 61 (char 5334)\n",
      "\n",
      "Retry 1/3 after error: Invalid \\escape: line 38 column 61 (char 5334)\n",
      "Last response received: {\n",
      "    \"Intro\": \"{'Full Name': 'Nadia Kamara', 'Workplace': 'Regional Conservation Coordinator, WWF - East Africa', 'Location': 'Nairobi, Kenya', 'Connections': '800+', 'Photo': 'Yes', 'Followers': '1,200'}\",\n",
      "    \"Full Name\": \"Nadia Kamara\",\n",
      "    \"Workplace\": \"Regional Conservation Coordinator, WWF - East Africa\",\n",
      "    \"Location\": \"Nairobi, Kenya\",\n",
      "    \"Connections\": 800,\n",
      "    \"Photo\": \"Yes\",\n",
      "    \"Followers\": 1200,\n",
      "    \"About\": \"Dedicated to fostering sustainable development and promoting conservation efforts across East Africa. With over 10 years of experience working in diverse environments, I lead initiatives that align with the Sustainable Development Goals (SDGs), concentrating on biodiversity preservation, community engagement, and policy advocacy. Passionate about bridging the gap between conservation science and actionable policy.\",\n",
      "    \"Experiences\": \"{'0': {'Role': 'Regional Conservation Coordinator', 'Workplace': 'WWF - East Africa', 'Duration': 'Jun 2017 - Present \\u00b7 6 yrs', 'Workplace Location': 'Nairobi, Kenya', 'Description': 'Coordinate conservation projects across multiple countries in East Africa, ensuring strategic alignment with global conservation goals and local sustainability.'}, '1': {'Role': 'Conservation Project Manager', 'Workplace': 'The Nature Conservancy', 'Duration': 'Apr 2012 - May 2017 \\u00b7 5 yrs 2 mos', 'Workplace Location': 'Dar es Salaam, Tanzania', 'Description': 'Led multiple community-based conservation projects, focusing on marine and terrestrial ecosystems. Spearheaded the development of community engagement models that increased local participation in conservation efforts by 75%.'}, '2': {'Role': 'Environmental Policy Analyst', 'Workplace': 'Kenya Wildlife Service', 'Duration': 'Jan 2008 - Mar 2012 \\u00b7 4 yrs 3 mos', 'Workplace Location': 'Nairobi, Kenya', 'Description': 'Analyzed policy frameworks and advocated for changes in national wildlife policies to include community-led conservation methods. Participated in drafting national guidelines that have since influenced the creation of community wildlife conservancies.'}}\",\n",
      "    \"Number of Experiences\": 3,\n",
      "    \"Educations\": \"{'0': {'Institute': 'University of Nairobi', 'Degree': 'Master of Science in Environmental Governance', 'Duration': '2005 - 2007', 'Description': ''}, '1': {'Institute': 'Moi University', 'Degree': 'Bachelor of Science in Environmental Science', 'Duration': '2001 - 2005', 'Description': ''}}\",\n",
      "    \"Number of Educations\": 2,\n",
      "    \"Licenses\": \"{}\",\n",
      "    \"Number of Licenses\": 0,\n",
      "    \"Volunteering\": \"{'0': {'Role': 'Mentor', 'Organization': 'Green Africa Youth Organization', 'Duration': '2018 - Present \\u00b7 5 yrs', 'Description': 'Provide mentorship to young environmental leaders across Africa, aiming to develop the next generation of conservationists.'}}\",\n",
      "    \"Number of Volunteering\": 1,\n",
      "    \"Skills\": \"{'Skill 0': 'Sustainable Development', 'Skill 1': 'Policy Analysis', 'Skill 2': 'Community Engagement', 'Skill 3': 'Biodiversity Conservation'}\",\n",
      "    \"Number of Skills\": 4,\n",
      "    \"Recommendations\": \"{'0': {'User': 'Amina Hussein', 'Category': 'in', 'ID': 'amina-hussein', 'URL': 'https://www.linkedin.com/in/amina-hussein', 'Relation': 'June 15, 2019, Amina worked with Nadia in the same group', 'Description': 'Nadia’s commitment to conservation and her ability to work seamlessly with communities and government agencies alike have been instrumental in the success of our regional projects. Her leadership is inspiring and her strategic thinking invaluable.'}}\",\n",
      "    \"Number of Recommendations\": 1,\n",
      "    \"Projects\": \"{}\",\n",
      "    \"Number of Projects\": 0,\n",
      "    \"Publications\": \"{'0': {'Title': 'Impact of Climate Change on Biodiversity in East Africa', 'Journal': 'Conservation Africa Review \\u00b7 Mar 15, 2019', 'Description': 'A comprehensive review on the implications of climate change on the region’s biodiversity and the urgent need for action. Highlighted successful case studies of community-led initiatives that are paving the way for sustainable conservation practices.'}}\",\n",
      "    \"Number of Publications\": 1,\n",
      "    \"Courses\": \"{}\",\n",
      "    \"Number of Courses\": 0,\n",
      "    \"Honors\": \"{'0': {'Award': 'Environmental Leadership Award', 'Info': 'Issued by Green Africa Foundation \\u00b7 Aug 2020', 'Description': 'Recognized for outstanding leadership in environmental conservation across East Africa.'}}\",\n",
      "    \"Number of Honors\": 1,\n",
      "    \"Scores\": \"{}\",\n",
      "    \"Number of Scores\": 0,\n",
      "    \"Languages\": \"{}\",\n",
      "    \"Number of Languages\": 0,\n",
      "    \"Organizations\": \"{}\",\n",
      "    \"Number of Organizations\": 0,\n",
      "    \"Interests\": \"{'0': {'Interest': 'UN Environment Programme', 'ID': '8270', 'Category': 'company', 'URL': 'https://www.linkedin.com/company/8270'}, '1': {'Interest': 'World Economic Forum', 'ID': '8193', 'Category': 'company', 'URL': 'https://www.linkedin.com/company/8193'}, '2': {'Interest': 'The Nature Conservancy', 'ID': '36443', 'Category': 'company', 'URL': 'https://www.linkedin.com/company/36443'}, '3': {'Interest': 'Green Africa Youth Organization', 'ID': '209231093', 'Category': 'groups', 'URL': 'https://www.linkedin.com/groups/209231093'}, '4': {'Interest': 'University of Nairobi', 'ID': '9893912', 'Category': 'school', 'URL': 'https://www.linkedin.com/school/9893912'}}\",\n",
      "    \"Number of Interests\": 5,\n",
      "    \"Activities\": \"{'claireodyoung': {'Full Name': 'Claire O\\'Young', 'Category': 'in', 'URL': 'https://www.linkedin.com/in/claireodyoung'}, 'jacksonmwangi': {'Full Name': 'Jackson Mwangi', 'Category': 'in', 'URL': 'https://www.linkedin.com/in/jacksonmwangi'}, 'emmanuelokwe': {'Full Name': 'Emmanuel Okwe', 'Category': 'in', 'URL': 'https://www.linkedin.com/in/emmanuelokwe'}, 'angela-kimani': {'Full Name': 'Angela Kimani', 'Category': 'in', 'URL': 'https://www.linkedin.com/in/angela-kimani'}}\",\n",
      "    \"Number of Activities\": 4,\n",
      "    \"Label\": 0\n",
      "  }\n"
     ]
    },
    {
     "name": "stderr",
     "output_type": "stream",
     "text": [
      "Generating profiles:  38%|████████████▊                     | 675/1800 [6:37:16<19:26:44, 62.23s/it]"
     ]
    },
    {
     "name": "stdout",
     "output_type": "stream",
     "text": [
      "\n",
      "Saved 675 profiles to: generated_profiles_NEW.csv\n",
      "Completed batch 87, total profiles generated: 675\n",
      "\n",
      "Starting batch 88/312\n",
      "Selected 5 new random example profiles for this batch\n"
     ]
    },
    {
     "name": "stderr",
     "output_type": "stream",
     "text": [
      "Generating profiles:  38%|████████████▊                     | 680/1800 [6:41:56<18:17:42, 58.81s/it]"
     ]
    },
    {
     "name": "stdout",
     "output_type": "stream",
     "text": [
      "\n",
      "Saved 680 profiles to: generated_profiles_NEW.csv\n",
      "Completed batch 88, total profiles generated: 680\n",
      "\n",
      "Starting batch 89/312\n",
      "Selected 5 new random example profiles for this batch\n"
     ]
    },
    {
     "name": "stderr",
     "output_type": "stream",
     "text": [
      "Generating profiles:  38%|████████████▊                     | 680/1800 [6:42:01<17:03:20, 54.82s/it]\n"
     ]
    },
    {
     "ename": "KeyboardInterrupt",
     "evalue": "",
     "output_type": "error",
     "traceback": [
      "\u001b[0;31m---------------------------------------------------------------------------\u001b[0m",
      "\u001b[0;31mKeyboardInterrupt\u001b[0m                         Traceback (most recent call last)",
      "\u001b[0;32m/tmp/ipykernel_1639608/4032829486.py\u001b[0m in \u001b[0;36m<module>\u001b[0;34m\u001b[0m\n\u001b[1;32m    219\u001b[0m \u001b[0;34m\u001b[0m\u001b[0m\n\u001b[1;32m    220\u001b[0m \u001b[0;32mif\u001b[0m \u001b[0m__name__\u001b[0m \u001b[0;34m==\u001b[0m \u001b[0;34m\"__main__\"\u001b[0m\u001b[0;34m:\u001b[0m\u001b[0;34m\u001b[0m\u001b[0;34m\u001b[0m\u001b[0m\n\u001b[0;32m--> 221\u001b[0;31m     \u001b[0mmain\u001b[0m\u001b[0;34m(\u001b[0m\u001b[0;34m)\u001b[0m\u001b[0;34m\u001b[0m\u001b[0;34m\u001b[0m\u001b[0m\n\u001b[0m",
      "\u001b[0;32m/tmp/ipykernel_1639608/4032829486.py\u001b[0m in \u001b[0;36mmain\u001b[0;34m()\u001b[0m\n\u001b[1;32m    210\u001b[0m     \u001b[0mprint\u001b[0m\u001b[0;34m(\u001b[0m\u001b[0;34mf\"\\nTarget number of profiles: {num_profiles} {'(TEST MODE)' if test_mode else ''}\"\u001b[0m\u001b[0;34m)\u001b[0m\u001b[0;34m\u001b[0m\u001b[0;34m\u001b[0m\u001b[0m\n\u001b[1;32m    211\u001b[0m \u001b[0;34m\u001b[0m\u001b[0m\n\u001b[0;32m--> 212\u001b[0;31m     new_profiles = generator.generate_profiles(\n\u001b[0m\u001b[1;32m    213\u001b[0m         \u001b[0mexample_profiles\u001b[0m\u001b[0;34m=\u001b[0m\u001b[0mexisting_profiles\u001b[0m\u001b[0;34m,\u001b[0m\u001b[0;34m\u001b[0m\u001b[0;34m\u001b[0m\u001b[0m\n\u001b[1;32m    214\u001b[0m         \u001b[0mnum_profiles\u001b[0m\u001b[0;34m=\u001b[0m\u001b[0mnum_profiles\u001b[0m\u001b[0;34m\u001b[0m\u001b[0;34m\u001b[0m\u001b[0m\n",
      "\u001b[0;32m/tmp/ipykernel_1639608/4032829486.py\u001b[0m in \u001b[0;36mgenerate_profiles\u001b[0;34m(self, example_profiles, num_profiles)\u001b[0m\n\u001b[1;32m    163\u001b[0m                     \u001b[0;32mtry\u001b[0m\u001b[0;34m:\u001b[0m\u001b[0;34m\u001b[0m\u001b[0;34m\u001b[0m\u001b[0m\n\u001b[1;32m    164\u001b[0m                         \u001b[0;31m# Use the same example_batch within this batch\u001b[0m\u001b[0;34m\u001b[0m\u001b[0;34m\u001b[0m\u001b[0m\n\u001b[0;32m--> 165\u001b[0;31m                         \u001b[0mprofile\u001b[0m \u001b[0;34m=\u001b[0m \u001b[0mself\u001b[0m\u001b[0;34m.\u001b[0m\u001b[0mgenerate_single_profile\u001b[0m\u001b[0;34m(\u001b[0m\u001b[0mexample_batch\u001b[0m\u001b[0;34m)\u001b[0m\u001b[0;34m\u001b[0m\u001b[0;34m\u001b[0m\u001b[0m\n\u001b[0m\u001b[1;32m    166\u001b[0m \u001b[0;34m\u001b[0m\u001b[0m\n\u001b[1;32m    167\u001b[0m                         \u001b[0;32mif\u001b[0m \u001b[0mself\u001b[0m\u001b[0;34m.\u001b[0m\u001b[0mvalidate_profile\u001b[0m\u001b[0;34m(\u001b[0m\u001b[0mprofile\u001b[0m\u001b[0;34m)\u001b[0m\u001b[0;34m:\u001b[0m\u001b[0;34m\u001b[0m\u001b[0;34m\u001b[0m\u001b[0m\n",
      "\u001b[0;32m/tmp/ipykernel_1639608/4032829486.py\u001b[0m in \u001b[0;36mgenerate_single_profile\u001b[0;34m(self, example_profiles, retry_count)\u001b[0m\n\u001b[1;32m     65\u001b[0m     \u001b[0;32mdef\u001b[0m \u001b[0mgenerate_single_profile\u001b[0m\u001b[0;34m(\u001b[0m\u001b[0mself\u001b[0m\u001b[0;34m,\u001b[0m \u001b[0mexample_profiles\u001b[0m\u001b[0;34m:\u001b[0m \u001b[0mList\u001b[0m\u001b[0;34m[\u001b[0m\u001b[0mDict\u001b[0m\u001b[0;34m]\u001b[0m\u001b[0;34m,\u001b[0m \u001b[0mretry_count\u001b[0m\u001b[0;34m:\u001b[0m \u001b[0mint\u001b[0m \u001b[0;34m=\u001b[0m \u001b[0;36m0\u001b[0m\u001b[0;34m)\u001b[0m \u001b[0;34m->\u001b[0m \u001b[0mDict\u001b[0m\u001b[0;34m:\u001b[0m\u001b[0;34m\u001b[0m\u001b[0;34m\u001b[0m\u001b[0m\n\u001b[1;32m     66\u001b[0m         \u001b[0;32mtry\u001b[0m\u001b[0;34m:\u001b[0m\u001b[0;34m\u001b[0m\u001b[0;34m\u001b[0m\u001b[0m\n\u001b[0;32m---> 67\u001b[0;31m             response = openai.chat.completions.create(\n\u001b[0m\u001b[1;32m     68\u001b[0m                 \u001b[0mmodel\u001b[0m\u001b[0;34m=\u001b[0m\u001b[0;34m\"gpt-4-turbo-preview\"\u001b[0m\u001b[0;34m,\u001b[0m\u001b[0;34m\u001b[0m\u001b[0;34m\u001b[0m\u001b[0m\n\u001b[1;32m     69\u001b[0m                 \u001b[0mmessages\u001b[0m\u001b[0;34m=\u001b[0m\u001b[0mself\u001b[0m\u001b[0;34m.\u001b[0m\u001b[0mcreate_prompts\u001b[0m\u001b[0;34m(\u001b[0m\u001b[0mexample_profiles\u001b[0m\u001b[0;34m)\u001b[0m\u001b[0;34m,\u001b[0m\u001b[0;34m\u001b[0m\u001b[0;34m\u001b[0m\u001b[0m\n",
      "\u001b[0;32m~/.local/lib/python3.10/site-packages/openai/_utils/_utils.py\u001b[0m in \u001b[0;36mwrapper\u001b[0;34m(*args, **kwargs)\u001b[0m\n\u001b[1;32m    272\u001b[0m                         \u001b[0mmsg\u001b[0m \u001b[0;34m=\u001b[0m \u001b[0;34mf\"Missing required argument: {quote(missing[0])}\"\u001b[0m\u001b[0;34m\u001b[0m\u001b[0;34m\u001b[0m\u001b[0m\n\u001b[1;32m    273\u001b[0m                 \u001b[0;32mraise\u001b[0m \u001b[0mTypeError\u001b[0m\u001b[0;34m(\u001b[0m\u001b[0mmsg\u001b[0m\u001b[0;34m)\u001b[0m\u001b[0;34m\u001b[0m\u001b[0;34m\u001b[0m\u001b[0m\n\u001b[0;32m--> 274\u001b[0;31m             \u001b[0;32mreturn\u001b[0m \u001b[0mfunc\u001b[0m\u001b[0;34m(\u001b[0m\u001b[0;34m*\u001b[0m\u001b[0margs\u001b[0m\u001b[0;34m,\u001b[0m \u001b[0;34m**\u001b[0m\u001b[0mkwargs\u001b[0m\u001b[0;34m)\u001b[0m\u001b[0;34m\u001b[0m\u001b[0;34m\u001b[0m\u001b[0m\n\u001b[0m\u001b[1;32m    275\u001b[0m \u001b[0;34m\u001b[0m\u001b[0m\n\u001b[1;32m    276\u001b[0m         \u001b[0;32mreturn\u001b[0m \u001b[0mwrapper\u001b[0m  \u001b[0;31m# type: ignore\u001b[0m\u001b[0;34m\u001b[0m\u001b[0;34m\u001b[0m\u001b[0m\n",
      "\u001b[0;32m~/.local/lib/python3.10/site-packages/openai/resources/chat/completions.py\u001b[0m in \u001b[0;36mcreate\u001b[0;34m(self, messages, model, audio, frequency_penalty, function_call, functions, logit_bias, logprobs, max_completion_tokens, max_tokens, metadata, modalities, n, parallel_tool_calls, presence_penalty, response_format, seed, service_tier, stop, store, stream, stream_options, temperature, tool_choice, tools, top_logprobs, top_p, user, extra_headers, extra_query, extra_body, timeout)\u001b[0m\n\u001b[1;32m    813\u001b[0m     ) -> ChatCompletion | Stream[ChatCompletionChunk]:\n\u001b[1;32m    814\u001b[0m         \u001b[0mvalidate_response_format\u001b[0m\u001b[0;34m(\u001b[0m\u001b[0mresponse_format\u001b[0m\u001b[0;34m)\u001b[0m\u001b[0;34m\u001b[0m\u001b[0;34m\u001b[0m\u001b[0m\n\u001b[0;32m--> 815\u001b[0;31m         return self._post(\n\u001b[0m\u001b[1;32m    816\u001b[0m             \u001b[0;34m\"/chat/completions\"\u001b[0m\u001b[0;34m,\u001b[0m\u001b[0;34m\u001b[0m\u001b[0;34m\u001b[0m\u001b[0m\n\u001b[1;32m    817\u001b[0m             body=maybe_transform(\n",
      "\u001b[0;32m~/.local/lib/python3.10/site-packages/openai/_base_client.py\u001b[0m in \u001b[0;36mpost\u001b[0;34m(self, path, cast_to, body, options, files, stream, stream_cls)\u001b[0m\n\u001b[1;32m   1275\u001b[0m             \u001b[0mmethod\u001b[0m\u001b[0;34m=\u001b[0m\u001b[0;34m\"post\"\u001b[0m\u001b[0;34m,\u001b[0m \u001b[0murl\u001b[0m\u001b[0;34m=\u001b[0m\u001b[0mpath\u001b[0m\u001b[0;34m,\u001b[0m \u001b[0mjson_data\u001b[0m\u001b[0;34m=\u001b[0m\u001b[0mbody\u001b[0m\u001b[0;34m,\u001b[0m \u001b[0mfiles\u001b[0m\u001b[0;34m=\u001b[0m\u001b[0mto_httpx_files\u001b[0m\u001b[0;34m(\u001b[0m\u001b[0mfiles\u001b[0m\u001b[0;34m)\u001b[0m\u001b[0;34m,\u001b[0m \u001b[0;34m**\u001b[0m\u001b[0moptions\u001b[0m\u001b[0;34m\u001b[0m\u001b[0;34m\u001b[0m\u001b[0m\n\u001b[1;32m   1276\u001b[0m         )\n\u001b[0;32m-> 1277\u001b[0;31m         \u001b[0;32mreturn\u001b[0m \u001b[0mcast\u001b[0m\u001b[0;34m(\u001b[0m\u001b[0mResponseT\u001b[0m\u001b[0;34m,\u001b[0m \u001b[0mself\u001b[0m\u001b[0;34m.\u001b[0m\u001b[0mrequest\u001b[0m\u001b[0;34m(\u001b[0m\u001b[0mcast_to\u001b[0m\u001b[0;34m,\u001b[0m \u001b[0mopts\u001b[0m\u001b[0;34m,\u001b[0m \u001b[0mstream\u001b[0m\u001b[0;34m=\u001b[0m\u001b[0mstream\u001b[0m\u001b[0;34m,\u001b[0m \u001b[0mstream_cls\u001b[0m\u001b[0;34m=\u001b[0m\u001b[0mstream_cls\u001b[0m\u001b[0;34m)\u001b[0m\u001b[0;34m)\u001b[0m\u001b[0;34m\u001b[0m\u001b[0;34m\u001b[0m\u001b[0m\n\u001b[0m\u001b[1;32m   1278\u001b[0m \u001b[0;34m\u001b[0m\u001b[0m\n\u001b[1;32m   1279\u001b[0m     def patch(\n",
      "\u001b[0;32m~/.local/lib/python3.10/site-packages/openai/_base_client.py\u001b[0m in \u001b[0;36mrequest\u001b[0;34m(self, cast_to, options, remaining_retries, stream, stream_cls)\u001b[0m\n\u001b[1;32m    952\u001b[0m             \u001b[0mretries_taken\u001b[0m \u001b[0;34m=\u001b[0m \u001b[0;36m0\u001b[0m\u001b[0;34m\u001b[0m\u001b[0;34m\u001b[0m\u001b[0m\n\u001b[1;32m    953\u001b[0m \u001b[0;34m\u001b[0m\u001b[0m\n\u001b[0;32m--> 954\u001b[0;31m         return self._request(\n\u001b[0m\u001b[1;32m    955\u001b[0m             \u001b[0mcast_to\u001b[0m\u001b[0;34m=\u001b[0m\u001b[0mcast_to\u001b[0m\u001b[0;34m,\u001b[0m\u001b[0;34m\u001b[0m\u001b[0;34m\u001b[0m\u001b[0m\n\u001b[1;32m    956\u001b[0m             \u001b[0moptions\u001b[0m\u001b[0;34m=\u001b[0m\u001b[0moptions\u001b[0m\u001b[0;34m,\u001b[0m\u001b[0;34m\u001b[0m\u001b[0;34m\u001b[0m\u001b[0m\n",
      "\u001b[0;32m~/.local/lib/python3.10/site-packages/openai/_base_client.py\u001b[0m in \u001b[0;36m_request\u001b[0;34m(self, cast_to, options, retries_taken, stream, stream_cls)\u001b[0m\n\u001b[1;32m    988\u001b[0m \u001b[0;34m\u001b[0m\u001b[0m\n\u001b[1;32m    989\u001b[0m         \u001b[0;32mtry\u001b[0m\u001b[0;34m:\u001b[0m\u001b[0;34m\u001b[0m\u001b[0;34m\u001b[0m\u001b[0m\n\u001b[0;32m--> 990\u001b[0;31m             response = self._client.send(\n\u001b[0m\u001b[1;32m    991\u001b[0m                 \u001b[0mrequest\u001b[0m\u001b[0;34m,\u001b[0m\u001b[0;34m\u001b[0m\u001b[0;34m\u001b[0m\u001b[0m\n\u001b[1;32m    992\u001b[0m                 \u001b[0mstream\u001b[0m\u001b[0;34m=\u001b[0m\u001b[0mstream\u001b[0m \u001b[0;32mor\u001b[0m \u001b[0mself\u001b[0m\u001b[0;34m.\u001b[0m\u001b[0m_should_stream_response_body\u001b[0m\u001b[0;34m(\u001b[0m\u001b[0mrequest\u001b[0m\u001b[0;34m=\u001b[0m\u001b[0mrequest\u001b[0m\u001b[0;34m)\u001b[0m\u001b[0;34m,\u001b[0m\u001b[0;34m\u001b[0m\u001b[0;34m\u001b[0m\u001b[0m\n",
      "\u001b[0;32m~/.local/lib/python3.10/site-packages/httpx/_client.py\u001b[0m in \u001b[0;36msend\u001b[0;34m(self, request, stream, auth, follow_redirects)\u001b[0m\n\u001b[1;32m    924\u001b[0m         \u001b[0mauth\u001b[0m \u001b[0;34m=\u001b[0m \u001b[0mself\u001b[0m\u001b[0;34m.\u001b[0m\u001b[0m_build_request_auth\u001b[0m\u001b[0;34m(\u001b[0m\u001b[0mrequest\u001b[0m\u001b[0;34m,\u001b[0m \u001b[0mauth\u001b[0m\u001b[0;34m)\u001b[0m\u001b[0;34m\u001b[0m\u001b[0;34m\u001b[0m\u001b[0m\n\u001b[1;32m    925\u001b[0m \u001b[0;34m\u001b[0m\u001b[0m\n\u001b[0;32m--> 926\u001b[0;31m         response = self._send_handling_auth(\n\u001b[0m\u001b[1;32m    927\u001b[0m             \u001b[0mrequest\u001b[0m\u001b[0;34m,\u001b[0m\u001b[0;34m\u001b[0m\u001b[0;34m\u001b[0m\u001b[0m\n\u001b[1;32m    928\u001b[0m             \u001b[0mauth\u001b[0m\u001b[0;34m=\u001b[0m\u001b[0mauth\u001b[0m\u001b[0;34m,\u001b[0m\u001b[0;34m\u001b[0m\u001b[0;34m\u001b[0m\u001b[0m\n",
      "\u001b[0;32m~/.local/lib/python3.10/site-packages/httpx/_client.py\u001b[0m in \u001b[0;36m_send_handling_auth\u001b[0;34m(self, request, auth, follow_redirects, history)\u001b[0m\n\u001b[1;32m    952\u001b[0m \u001b[0;34m\u001b[0m\u001b[0m\n\u001b[1;32m    953\u001b[0m             \u001b[0;32mwhile\u001b[0m \u001b[0;32mTrue\u001b[0m\u001b[0;34m:\u001b[0m\u001b[0;34m\u001b[0m\u001b[0;34m\u001b[0m\u001b[0m\n\u001b[0;32m--> 954\u001b[0;31m                 response = self._send_handling_redirects(\n\u001b[0m\u001b[1;32m    955\u001b[0m                     \u001b[0mrequest\u001b[0m\u001b[0;34m,\u001b[0m\u001b[0;34m\u001b[0m\u001b[0;34m\u001b[0m\u001b[0m\n\u001b[1;32m    956\u001b[0m                     \u001b[0mfollow_redirects\u001b[0m\u001b[0;34m=\u001b[0m\u001b[0mfollow_redirects\u001b[0m\u001b[0;34m,\u001b[0m\u001b[0;34m\u001b[0m\u001b[0;34m\u001b[0m\u001b[0m\n",
      "\u001b[0;32m~/.local/lib/python3.10/site-packages/httpx/_client.py\u001b[0m in \u001b[0;36m_send_handling_redirects\u001b[0;34m(self, request, follow_redirects, history)\u001b[0m\n\u001b[1;32m    989\u001b[0m                 \u001b[0mhook\u001b[0m\u001b[0;34m(\u001b[0m\u001b[0mrequest\u001b[0m\u001b[0;34m)\u001b[0m\u001b[0;34m\u001b[0m\u001b[0;34m\u001b[0m\u001b[0m\n\u001b[1;32m    990\u001b[0m \u001b[0;34m\u001b[0m\u001b[0m\n\u001b[0;32m--> 991\u001b[0;31m             \u001b[0mresponse\u001b[0m \u001b[0;34m=\u001b[0m \u001b[0mself\u001b[0m\u001b[0;34m.\u001b[0m\u001b[0m_send_single_request\u001b[0m\u001b[0;34m(\u001b[0m\u001b[0mrequest\u001b[0m\u001b[0;34m)\u001b[0m\u001b[0;34m\u001b[0m\u001b[0;34m\u001b[0m\u001b[0m\n\u001b[0m\u001b[1;32m    992\u001b[0m             \u001b[0;32mtry\u001b[0m\u001b[0;34m:\u001b[0m\u001b[0;34m\u001b[0m\u001b[0;34m\u001b[0m\u001b[0m\n\u001b[1;32m    993\u001b[0m                 \u001b[0;32mfor\u001b[0m \u001b[0mhook\u001b[0m \u001b[0;32min\u001b[0m \u001b[0mself\u001b[0m\u001b[0;34m.\u001b[0m\u001b[0m_event_hooks\u001b[0m\u001b[0;34m[\u001b[0m\u001b[0;34m\"response\"\u001b[0m\u001b[0;34m]\u001b[0m\u001b[0;34m:\u001b[0m\u001b[0;34m\u001b[0m\u001b[0;34m\u001b[0m\u001b[0m\n",
      "\u001b[0;32m~/.local/lib/python3.10/site-packages/httpx/_client.py\u001b[0m in \u001b[0;36m_send_single_request\u001b[0;34m(self, request)\u001b[0m\n\u001b[1;32m   1025\u001b[0m \u001b[0;34m\u001b[0m\u001b[0m\n\u001b[1;32m   1026\u001b[0m         \u001b[0;32mwith\u001b[0m \u001b[0mrequest_context\u001b[0m\u001b[0;34m(\u001b[0m\u001b[0mrequest\u001b[0m\u001b[0;34m=\u001b[0m\u001b[0mrequest\u001b[0m\u001b[0;34m)\u001b[0m\u001b[0;34m:\u001b[0m\u001b[0;34m\u001b[0m\u001b[0;34m\u001b[0m\u001b[0m\n\u001b[0;32m-> 1027\u001b[0;31m             \u001b[0mresponse\u001b[0m \u001b[0;34m=\u001b[0m \u001b[0mtransport\u001b[0m\u001b[0;34m.\u001b[0m\u001b[0mhandle_request\u001b[0m\u001b[0;34m(\u001b[0m\u001b[0mrequest\u001b[0m\u001b[0;34m)\u001b[0m\u001b[0;34m\u001b[0m\u001b[0;34m\u001b[0m\u001b[0m\n\u001b[0m\u001b[1;32m   1028\u001b[0m \u001b[0;34m\u001b[0m\u001b[0m\n\u001b[1;32m   1029\u001b[0m         \u001b[0;32massert\u001b[0m \u001b[0misinstance\u001b[0m\u001b[0;34m(\u001b[0m\u001b[0mresponse\u001b[0m\u001b[0;34m.\u001b[0m\u001b[0mstream\u001b[0m\u001b[0;34m,\u001b[0m \u001b[0mSyncByteStream\u001b[0m\u001b[0;34m)\u001b[0m\u001b[0;34m\u001b[0m\u001b[0;34m\u001b[0m\u001b[0m\n",
      "\u001b[0;32m~/.local/lib/python3.10/site-packages/httpx/_transports/default.py\u001b[0m in \u001b[0;36mhandle_request\u001b[0;34m(self, request)\u001b[0m\n\u001b[1;32m    234\u001b[0m         )\n\u001b[1;32m    235\u001b[0m         \u001b[0;32mwith\u001b[0m \u001b[0mmap_httpcore_exceptions\u001b[0m\u001b[0;34m(\u001b[0m\u001b[0;34m)\u001b[0m\u001b[0;34m:\u001b[0m\u001b[0;34m\u001b[0m\u001b[0;34m\u001b[0m\u001b[0m\n\u001b[0;32m--> 236\u001b[0;31m             \u001b[0mresp\u001b[0m \u001b[0;34m=\u001b[0m \u001b[0mself\u001b[0m\u001b[0;34m.\u001b[0m\u001b[0m_pool\u001b[0m\u001b[0;34m.\u001b[0m\u001b[0mhandle_request\u001b[0m\u001b[0;34m(\u001b[0m\u001b[0mreq\u001b[0m\u001b[0;34m)\u001b[0m\u001b[0;34m\u001b[0m\u001b[0;34m\u001b[0m\u001b[0m\n\u001b[0m\u001b[1;32m    237\u001b[0m \u001b[0;34m\u001b[0m\u001b[0m\n\u001b[1;32m    238\u001b[0m         \u001b[0;32massert\u001b[0m \u001b[0misinstance\u001b[0m\u001b[0;34m(\u001b[0m\u001b[0mresp\u001b[0m\u001b[0;34m.\u001b[0m\u001b[0mstream\u001b[0m\u001b[0;34m,\u001b[0m \u001b[0mtyping\u001b[0m\u001b[0;34m.\u001b[0m\u001b[0mIterable\u001b[0m\u001b[0;34m)\u001b[0m\u001b[0;34m\u001b[0m\u001b[0;34m\u001b[0m\u001b[0m\n",
      "\u001b[0;32m~/.local/lib/python3.10/site-packages/httpcore/_sync/connection_pool.py\u001b[0m in \u001b[0;36mhandle_request\u001b[0;34m(self, request)\u001b[0m\n\u001b[1;32m    214\u001b[0m \u001b[0;34m\u001b[0m\u001b[0m\n\u001b[1;32m    215\u001b[0m             \u001b[0mself\u001b[0m\u001b[0;34m.\u001b[0m\u001b[0m_close_connections\u001b[0m\u001b[0;34m(\u001b[0m\u001b[0mclosing\u001b[0m\u001b[0;34m)\u001b[0m\u001b[0;34m\u001b[0m\u001b[0;34m\u001b[0m\u001b[0m\n\u001b[0;32m--> 216\u001b[0;31m             \u001b[0;32mraise\u001b[0m \u001b[0mexc\u001b[0m \u001b[0;32mfrom\u001b[0m \u001b[0;32mNone\u001b[0m\u001b[0;34m\u001b[0m\u001b[0;34m\u001b[0m\u001b[0m\n\u001b[0m\u001b[1;32m    217\u001b[0m \u001b[0;34m\u001b[0m\u001b[0m\n\u001b[1;32m    218\u001b[0m         \u001b[0;31m# Return the response. Note that in this case we still have to manage\u001b[0m\u001b[0;34m\u001b[0m\u001b[0;34m\u001b[0m\u001b[0m\n",
      "\u001b[0;32m~/.local/lib/python3.10/site-packages/httpcore/_sync/connection_pool.py\u001b[0m in \u001b[0;36mhandle_request\u001b[0;34m(self, request)\u001b[0m\n\u001b[1;32m    194\u001b[0m                 \u001b[0;32mtry\u001b[0m\u001b[0;34m:\u001b[0m\u001b[0;34m\u001b[0m\u001b[0;34m\u001b[0m\u001b[0m\n\u001b[1;32m    195\u001b[0m                     \u001b[0;31m# Send the request on the assigned connection.\u001b[0m\u001b[0;34m\u001b[0m\u001b[0;34m\u001b[0m\u001b[0m\n\u001b[0;32m--> 196\u001b[0;31m                     response = connection.handle_request(\n\u001b[0m\u001b[1;32m    197\u001b[0m                         \u001b[0mpool_request\u001b[0m\u001b[0;34m.\u001b[0m\u001b[0mrequest\u001b[0m\u001b[0;34m\u001b[0m\u001b[0;34m\u001b[0m\u001b[0m\n\u001b[1;32m    198\u001b[0m                     )\n",
      "\u001b[0;32m~/.local/lib/python3.10/site-packages/httpcore/_sync/connection.py\u001b[0m in \u001b[0;36mhandle_request\u001b[0;34m(self, request)\u001b[0m\n\u001b[1;32m     99\u001b[0m             \u001b[0;32mraise\u001b[0m \u001b[0mexc\u001b[0m\u001b[0;34m\u001b[0m\u001b[0;34m\u001b[0m\u001b[0m\n\u001b[1;32m    100\u001b[0m \u001b[0;34m\u001b[0m\u001b[0m\n\u001b[0;32m--> 101\u001b[0;31m         \u001b[0;32mreturn\u001b[0m \u001b[0mself\u001b[0m\u001b[0;34m.\u001b[0m\u001b[0m_connection\u001b[0m\u001b[0;34m.\u001b[0m\u001b[0mhandle_request\u001b[0m\u001b[0;34m(\u001b[0m\u001b[0mrequest\u001b[0m\u001b[0;34m)\u001b[0m\u001b[0;34m\u001b[0m\u001b[0;34m\u001b[0m\u001b[0m\n\u001b[0m\u001b[1;32m    102\u001b[0m \u001b[0;34m\u001b[0m\u001b[0m\n\u001b[1;32m    103\u001b[0m     \u001b[0;32mdef\u001b[0m \u001b[0m_connect\u001b[0m\u001b[0;34m(\u001b[0m\u001b[0mself\u001b[0m\u001b[0;34m,\u001b[0m \u001b[0mrequest\u001b[0m\u001b[0;34m:\u001b[0m \u001b[0mRequest\u001b[0m\u001b[0;34m)\u001b[0m \u001b[0;34m->\u001b[0m \u001b[0mNetworkStream\u001b[0m\u001b[0;34m:\u001b[0m\u001b[0;34m\u001b[0m\u001b[0;34m\u001b[0m\u001b[0m\n",
      "\u001b[0;32m~/.local/lib/python3.10/site-packages/httpcore/_sync/http11.py\u001b[0m in \u001b[0;36mhandle_request\u001b[0;34m(self, request)\u001b[0m\n\u001b[1;32m    141\u001b[0m                 \u001b[0;32mwith\u001b[0m \u001b[0mTrace\u001b[0m\u001b[0;34m(\u001b[0m\u001b[0;34m\"response_closed\"\u001b[0m\u001b[0;34m,\u001b[0m \u001b[0mlogger\u001b[0m\u001b[0;34m,\u001b[0m \u001b[0mrequest\u001b[0m\u001b[0;34m)\u001b[0m \u001b[0;32mas\u001b[0m \u001b[0mtrace\u001b[0m\u001b[0;34m:\u001b[0m\u001b[0;34m\u001b[0m\u001b[0;34m\u001b[0m\u001b[0m\n\u001b[1;32m    142\u001b[0m                     \u001b[0mself\u001b[0m\u001b[0;34m.\u001b[0m\u001b[0m_response_closed\u001b[0m\u001b[0;34m(\u001b[0m\u001b[0;34m)\u001b[0m\u001b[0;34m\u001b[0m\u001b[0;34m\u001b[0m\u001b[0m\n\u001b[0;32m--> 143\u001b[0;31m             \u001b[0;32mraise\u001b[0m \u001b[0mexc\u001b[0m\u001b[0;34m\u001b[0m\u001b[0;34m\u001b[0m\u001b[0m\n\u001b[0m\u001b[1;32m    144\u001b[0m \u001b[0;34m\u001b[0m\u001b[0m\n\u001b[1;32m    145\u001b[0m     \u001b[0;31m# Sending the request...\u001b[0m\u001b[0;34m\u001b[0m\u001b[0;34m\u001b[0m\u001b[0m\n",
      "\u001b[0;32m~/.local/lib/python3.10/site-packages/httpcore/_sync/http11.py\u001b[0m in \u001b[0;36mhandle_request\u001b[0;34m(self, request)\u001b[0m\n\u001b[1;32m    111\u001b[0m                     \u001b[0mheaders\u001b[0m\u001b[0;34m,\u001b[0m\u001b[0;34m\u001b[0m\u001b[0;34m\u001b[0m\u001b[0m\n\u001b[1;32m    112\u001b[0m                     \u001b[0mtrailing_data\u001b[0m\u001b[0;34m,\u001b[0m\u001b[0;34m\u001b[0m\u001b[0;34m\u001b[0m\u001b[0m\n\u001b[0;32m--> 113\u001b[0;31m                 ) = self._receive_response_headers(**kwargs)\n\u001b[0m\u001b[1;32m    114\u001b[0m                 trace.return_value = (\n\u001b[1;32m    115\u001b[0m                     \u001b[0mhttp_version\u001b[0m\u001b[0;34m,\u001b[0m\u001b[0;34m\u001b[0m\u001b[0;34m\u001b[0m\u001b[0m\n",
      "\u001b[0;32m~/.local/lib/python3.10/site-packages/httpcore/_sync/http11.py\u001b[0m in \u001b[0;36m_receive_response_headers\u001b[0;34m(self, request)\u001b[0m\n\u001b[1;32m    184\u001b[0m \u001b[0;34m\u001b[0m\u001b[0m\n\u001b[1;32m    185\u001b[0m         \u001b[0;32mwhile\u001b[0m \u001b[0;32mTrue\u001b[0m\u001b[0;34m:\u001b[0m\u001b[0;34m\u001b[0m\u001b[0;34m\u001b[0m\u001b[0m\n\u001b[0;32m--> 186\u001b[0;31m             \u001b[0mevent\u001b[0m \u001b[0;34m=\u001b[0m \u001b[0mself\u001b[0m\u001b[0;34m.\u001b[0m\u001b[0m_receive_event\u001b[0m\u001b[0;34m(\u001b[0m\u001b[0mtimeout\u001b[0m\u001b[0;34m=\u001b[0m\u001b[0mtimeout\u001b[0m\u001b[0;34m)\u001b[0m\u001b[0;34m\u001b[0m\u001b[0;34m\u001b[0m\u001b[0m\n\u001b[0m\u001b[1;32m    187\u001b[0m             \u001b[0;32mif\u001b[0m \u001b[0misinstance\u001b[0m\u001b[0;34m(\u001b[0m\u001b[0mevent\u001b[0m\u001b[0;34m,\u001b[0m \u001b[0mh11\u001b[0m\u001b[0;34m.\u001b[0m\u001b[0mResponse\u001b[0m\u001b[0;34m)\u001b[0m\u001b[0;34m:\u001b[0m\u001b[0;34m\u001b[0m\u001b[0;34m\u001b[0m\u001b[0m\n\u001b[1;32m    188\u001b[0m                 \u001b[0;32mbreak\u001b[0m\u001b[0;34m\u001b[0m\u001b[0;34m\u001b[0m\u001b[0m\n",
      "\u001b[0;32m~/.local/lib/python3.10/site-packages/httpcore/_sync/http11.py\u001b[0m in \u001b[0;36m_receive_event\u001b[0;34m(self, timeout)\u001b[0m\n\u001b[1;32m    222\u001b[0m \u001b[0;34m\u001b[0m\u001b[0m\n\u001b[1;32m    223\u001b[0m             \u001b[0;32mif\u001b[0m \u001b[0mevent\u001b[0m \u001b[0;32mis\u001b[0m \u001b[0mh11\u001b[0m\u001b[0;34m.\u001b[0m\u001b[0mNEED_DATA\u001b[0m\u001b[0;34m:\u001b[0m\u001b[0;34m\u001b[0m\u001b[0;34m\u001b[0m\u001b[0m\n\u001b[0;32m--> 224\u001b[0;31m                 data = self._network_stream.read(\n\u001b[0m\u001b[1;32m    225\u001b[0m                     \u001b[0mself\u001b[0m\u001b[0;34m.\u001b[0m\u001b[0mREAD_NUM_BYTES\u001b[0m\u001b[0;34m,\u001b[0m \u001b[0mtimeout\u001b[0m\u001b[0;34m=\u001b[0m\u001b[0mtimeout\u001b[0m\u001b[0;34m\u001b[0m\u001b[0;34m\u001b[0m\u001b[0m\n\u001b[1;32m    226\u001b[0m                 )\n",
      "\u001b[0;32m~/.local/lib/python3.10/site-packages/httpcore/_backends/sync.py\u001b[0m in \u001b[0;36mread\u001b[0;34m(self, max_bytes, timeout)\u001b[0m\n\u001b[1;32m    124\u001b[0m         \u001b[0;32mwith\u001b[0m \u001b[0mmap_exceptions\u001b[0m\u001b[0;34m(\u001b[0m\u001b[0mexc_map\u001b[0m\u001b[0;34m)\u001b[0m\u001b[0;34m:\u001b[0m\u001b[0;34m\u001b[0m\u001b[0;34m\u001b[0m\u001b[0m\n\u001b[1;32m    125\u001b[0m             \u001b[0mself\u001b[0m\u001b[0;34m.\u001b[0m\u001b[0m_sock\u001b[0m\u001b[0;34m.\u001b[0m\u001b[0msettimeout\u001b[0m\u001b[0;34m(\u001b[0m\u001b[0mtimeout\u001b[0m\u001b[0;34m)\u001b[0m\u001b[0;34m\u001b[0m\u001b[0;34m\u001b[0m\u001b[0m\n\u001b[0;32m--> 126\u001b[0;31m             \u001b[0;32mreturn\u001b[0m \u001b[0mself\u001b[0m\u001b[0;34m.\u001b[0m\u001b[0m_sock\u001b[0m\u001b[0;34m.\u001b[0m\u001b[0mrecv\u001b[0m\u001b[0;34m(\u001b[0m\u001b[0mmax_bytes\u001b[0m\u001b[0;34m)\u001b[0m\u001b[0;34m\u001b[0m\u001b[0;34m\u001b[0m\u001b[0m\n\u001b[0m\u001b[1;32m    127\u001b[0m \u001b[0;34m\u001b[0m\u001b[0m\n\u001b[1;32m    128\u001b[0m     \u001b[0;32mdef\u001b[0m \u001b[0mwrite\u001b[0m\u001b[0;34m(\u001b[0m\u001b[0mself\u001b[0m\u001b[0;34m,\u001b[0m \u001b[0mbuffer\u001b[0m\u001b[0;34m:\u001b[0m \u001b[0mbytes\u001b[0m\u001b[0;34m,\u001b[0m \u001b[0mtimeout\u001b[0m\u001b[0;34m:\u001b[0m \u001b[0mtyping\u001b[0m\u001b[0;34m.\u001b[0m\u001b[0mOptional\u001b[0m\u001b[0;34m[\u001b[0m\u001b[0mfloat\u001b[0m\u001b[0;34m]\u001b[0m \u001b[0;34m=\u001b[0m \u001b[0;32mNone\u001b[0m\u001b[0;34m)\u001b[0m \u001b[0;34m->\u001b[0m \u001b[0;32mNone\u001b[0m\u001b[0;34m:\u001b[0m\u001b[0;34m\u001b[0m\u001b[0;34m\u001b[0m\u001b[0m\n",
      "\u001b[0;32m/usr/lib/python3.10/ssl.py\u001b[0m in \u001b[0;36mrecv\u001b[0;34m(self, buflen, flags)\u001b[0m\n\u001b[1;32m   1286\u001b[0m                     \u001b[0;34m\"non-zero flags not allowed in calls to recv() on %s\"\u001b[0m \u001b[0;34m%\u001b[0m\u001b[0;34m\u001b[0m\u001b[0;34m\u001b[0m\u001b[0m\n\u001b[1;32m   1287\u001b[0m                     self.__class__)\n\u001b[0;32m-> 1288\u001b[0;31m             \u001b[0;32mreturn\u001b[0m \u001b[0mself\u001b[0m\u001b[0;34m.\u001b[0m\u001b[0mread\u001b[0m\u001b[0;34m(\u001b[0m\u001b[0mbuflen\u001b[0m\u001b[0;34m)\u001b[0m\u001b[0;34m\u001b[0m\u001b[0;34m\u001b[0m\u001b[0m\n\u001b[0m\u001b[1;32m   1289\u001b[0m         \u001b[0;32melse\u001b[0m\u001b[0;34m:\u001b[0m\u001b[0;34m\u001b[0m\u001b[0;34m\u001b[0m\u001b[0m\n\u001b[1;32m   1290\u001b[0m             \u001b[0;32mreturn\u001b[0m \u001b[0msuper\u001b[0m\u001b[0;34m(\u001b[0m\u001b[0;34m)\u001b[0m\u001b[0;34m.\u001b[0m\u001b[0mrecv\u001b[0m\u001b[0;34m(\u001b[0m\u001b[0mbuflen\u001b[0m\u001b[0;34m,\u001b[0m \u001b[0mflags\u001b[0m\u001b[0;34m)\u001b[0m\u001b[0;34m\u001b[0m\u001b[0;34m\u001b[0m\u001b[0m\n",
      "\u001b[0;32m/usr/lib/python3.10/ssl.py\u001b[0m in \u001b[0;36mread\u001b[0;34m(self, len, buffer)\u001b[0m\n\u001b[1;32m   1159\u001b[0m                 \u001b[0;32mreturn\u001b[0m \u001b[0mself\u001b[0m\u001b[0;34m.\u001b[0m\u001b[0m_sslobj\u001b[0m\u001b[0;34m.\u001b[0m\u001b[0mread\u001b[0m\u001b[0;34m(\u001b[0m\u001b[0mlen\u001b[0m\u001b[0;34m,\u001b[0m \u001b[0mbuffer\u001b[0m\u001b[0;34m)\u001b[0m\u001b[0;34m\u001b[0m\u001b[0;34m\u001b[0m\u001b[0m\n\u001b[1;32m   1160\u001b[0m             \u001b[0;32melse\u001b[0m\u001b[0;34m:\u001b[0m\u001b[0;34m\u001b[0m\u001b[0;34m\u001b[0m\u001b[0m\n\u001b[0;32m-> 1161\u001b[0;31m                 \u001b[0;32mreturn\u001b[0m \u001b[0mself\u001b[0m\u001b[0;34m.\u001b[0m\u001b[0m_sslobj\u001b[0m\u001b[0;34m.\u001b[0m\u001b[0mread\u001b[0m\u001b[0;34m(\u001b[0m\u001b[0mlen\u001b[0m\u001b[0;34m)\u001b[0m\u001b[0;34m\u001b[0m\u001b[0;34m\u001b[0m\u001b[0m\n\u001b[0m\u001b[1;32m   1162\u001b[0m         \u001b[0;32mexcept\u001b[0m \u001b[0mSSLError\u001b[0m \u001b[0;32mas\u001b[0m \u001b[0mx\u001b[0m\u001b[0;34m:\u001b[0m\u001b[0;34m\u001b[0m\u001b[0;34m\u001b[0m\u001b[0m\n\u001b[1;32m   1163\u001b[0m             \u001b[0;32mif\u001b[0m \u001b[0mx\u001b[0m\u001b[0;34m.\u001b[0m\u001b[0margs\u001b[0m\u001b[0;34m[\u001b[0m\u001b[0;36m0\u001b[0m\u001b[0;34m]\u001b[0m \u001b[0;34m==\u001b[0m \u001b[0mSSL_ERROR_EOF\u001b[0m \u001b[0;32mand\u001b[0m \u001b[0mself\u001b[0m\u001b[0;34m.\u001b[0m\u001b[0msuppress_ragged_eofs\u001b[0m\u001b[0;34m:\u001b[0m\u001b[0;34m\u001b[0m\u001b[0;34m\u001b[0m\u001b[0m\n",
      "\u001b[0;31mKeyboardInterrupt\u001b[0m: "
     ]
    }
   ],
   "source": [
    "import pandas as pd\n",
    "import openai\n",
    "import json\n",
    "import time\n",
    "from typing import Dict, List\n",
    "import random\n",
    "from tqdm import tqdm\n",
    "import os\n",
    "from datetime import datetime\n",
    "\n",
    "class LinkedInProfileGenerator:\n",
    "    def __init__(self, api_key: str):\n",
    "        openai.api_key = api_key\n",
    "        self.retry_delay = 5\n",
    "        self.max_retries = 3\n",
    "        self.output_file = \"generated_profiles_NEW.csv\"\n",
    "        self.used_indices = set()  # Track used indices instead of locations\n",
    "\n",
    "        self.columns = [\n",
    "            'Intro', 'Full Name', 'Workplace', 'Location', 'Connections', 'Photo',\n",
    "            'Followers', 'About', 'Experiences', 'Number of Experiences',\n",
    "            'Educations', 'Number of Educations', 'Licenses', 'Number of Licenses',\n",
    "            'Volunteering', 'Number of Volunteering', 'Skills', 'Number of Skills',\n",
    "            'Recommendations', 'Number of Recommendations', 'Projects', 'Number of Projects',\n",
    "            'Publications', 'Number of Publications', 'Courses', 'Number of Courses',\n",
    "            'Honors', 'Number of Honors', 'Scores', 'Number of Scores',\n",
    "            'Languages', 'Number of Languages', 'Organizations', 'Number of Organizations',\n",
    "            'Interests', 'Number of Interests', 'Activities', 'Number of Activities',\n",
    "            'Label'\n",
    "        ]\n",
    "\n",
    "    def select_training_examples(self, example_profiles: List[Dict], num_examples: int = 3) -> List[Dict]:\n",
    "        # Get legitimate profiles\n",
    "        legitimate_profiles = [p for p in example_profiles if p.get('Label') == 0]\n",
    "        \n",
    "        # Simply select 5 random profiles from legitimate ones\n",
    "        selected = random.sample(legitimate_profiles, num_examples)\n",
    "        \n",
    "        return selected\n",
    "\n",
    "    def create_prompts(self, example_profiles: List[Dict]) -> List[Dict]:\n",
    "        examples = self.select_training_examples(example_profiles)\n",
    "        return [\n",
    "            {\"role\": \"system\", \"content\": \"\"\"You are generating diverse LinkedIn profiles. Create profiles that are:\n",
    "            - From different regions (North America, Europe, Asia, Africa, and Latin America etc)\n",
    "            - From diverse industries (e.g., tech, healthcare, entertainment, finance, education, retail, manufacturing, arts, law, hospitality, etc.)\n",
    "            - At different career stages\n",
    "            - With different educational backgrounds\n",
    "            - Working at different types of organizations (startups, corporations, non-profits, etc.)\"\"\"},\n",
    "            {\"role\": \"user\", \"content\": f\"\"\"Here are some example LinkedIn profiles for format reference:\n",
    "{json.dumps(examples, indent=2)}\n",
    "\n",
    "Create a new LinkedIn profile that is similar to but different from these examples.\n",
    "Use the same format but make the profile unique and realistic\"\"\"}\n",
    "        ]\n",
    "\n",
    "    def clean_field(self, field_value):\n",
    "        if isinstance(field_value, str) and field_value.startswith('{') and field_value.endswith('}'):\n",
    "            try:\n",
    "                return json.loads(field_value.replace(\"'\", '\"'))\n",
    "            except:\n",
    "                return {}\n",
    "        return field_value\n",
    "\n",
    "    def generate_single_profile(self, example_profiles: List[Dict], retry_count: int = 0) -> Dict:\n",
    "        try:\n",
    "            response = openai.chat.completions.create(\n",
    "                model=\"gpt-4-turbo-preview\",\n",
    "                messages=self.create_prompts(example_profiles),\n",
    "                temperature=1.1,\n",
    "                max_tokens=3000\n",
    "            )\n",
    "\n",
    "            profile_str = response.choices[0].message.content.strip()\n",
    "            if profile_str.startswith(\"```json\"):\n",
    "                profile_str = profile_str.replace(\"```json\", \"\").replace(\"```\", \"\").strip()\n",
    "\n",
    "            try:\n",
    "                profile = json.loads(profile_str)\n",
    "            except json.JSONDecodeError as e:\n",
    "                print(\"\\nInvalid JSON received:\")\n",
    "                print(profile_str)\n",
    "                print(f\"JSON Error: {str(e)}\")\n",
    "                raise\n",
    "\n",
    "            for field in ['Experiences', 'Educations', 'Skills', 'Languages', 'Organizations', 'Interests']:\n",
    "                if field in profile:\n",
    "                    profile[field] = self.clean_field(profile[field])\n",
    "\n",
    "            profile['Label'] = 12\n",
    "            return profile\n",
    "\n",
    "        except (openai.APIError, json.JSONDecodeError) as e:\n",
    "            if retry_count < self.max_retries:\n",
    "                print(f\"\\nRetry {retry_count + 1}/{self.max_retries} after error: {str(e)}\")\n",
    "                if 'response' in locals():\n",
    "                    print(\"Last response received:\", response.choices[0].message.content)\n",
    "                time.sleep(self.retry_delay * (retry_count + 1))\n",
    "                return self.generate_single_profile(example_profiles, retry_count + 1)\n",
    "            else:\n",
    "                raise Exception(f\"Failed to generate profile after {self.max_retries} retries: {str(e)}\")\n",
    "\n",
    "    def validate_profile(self, profile: Dict) -> bool:\n",
    "        try:\n",
    "            required_fields = ['Full Name', 'Workplace', 'Location', 'Experiences', 'Educations']\n",
    "            for field in required_fields:\n",
    "                if field not in profile:\n",
    "                    print(f\"Missing required field: {field}\")\n",
    "                    return False\n",
    "\n",
    "            for col in self.columns:\n",
    "                if col not in profile:\n",
    "                    profile[col] = {} if 'Number' not in col else 0\n",
    "\n",
    "            return True\n",
    "\n",
    "        except Exception as e:\n",
    "            print(f\"Validation error: {str(e)}\")\n",
    "            return False\n",
    "\n",
    "    def save_profiles(self, profiles: List[Dict]):\n",
    "        output_df = pd.DataFrame(profiles)\n",
    "        output_df = output_df[self.columns]\n",
    "        output_df.to_csv(self.output_file, index=False)\n",
    "        print(f\"\\nSaved {len(profiles)} profiles to: {self.output_file}\")\n",
    "\n",
    "    \n",
    "    \n",
    "    def generate_profiles(self, example_profiles: List[Dict], num_profiles: int) -> List[Dict]:\n",
    "        # Load existing generated profiles if they exist\n",
    "        generated_profiles = []\n",
    "        if os.path.exists(self.output_file):\n",
    "            print(f\"Loading existing profiles from: {self.output_file}\")\n",
    "            df = pd.read_csv(self.output_file)\n",
    "            generated_profiles = df.to_dict('records')\n",
    "            print(f\"Loaded {len(generated_profiles)} existing profiles\")\n",
    "    \n",
    "        start_index = len(generated_profiles)\n",
    "        remaining_profiles = num_profiles - start_index\n",
    "    \n",
    "        if remaining_profiles <= 0:\n",
    "            print(\"Target number of profiles already generated!\")\n",
    "            return generated_profiles\n",
    "    \n",
    "        print(f\"Generating {remaining_profiles} more profiles...\")\n",
    "    \n",
    "        batch_size = 5\n",
    "        num_batches = (remaining_profiles + batch_size - 1) // batch_size\n",
    "    \n",
    "        with tqdm(total=num_profiles, initial=start_index, desc=\"Generating profiles\") as pbar:\n",
    "            for batch in range(remaining_profiles // batch_size + (1 if remaining_profiles % batch_size else 0)):\n",
    "                print(f\"\\nStarting batch {batch + 1}/{num_batches}\")\n",
    "                \n",
    "                # Select new example profiles for each batch\n",
    "                example_batch = self.select_training_examples(example_profiles)\n",
    "                print(f\"Selected 5 new random example profiles for this batch\")\n",
    "            \n",
    "                batch_profiles = []\n",
    "                failed_generations = 0\n",
    "                max_failures_per_batch = batch_size * 2\n",
    "    \n",
    "                while len(batch_profiles) < batch_size and failed_generations < max_failures_per_batch:\n",
    "                    try:\n",
    "                        # Use the same example_batch within this batch\n",
    "                        profile = self.generate_single_profile(example_batch)\n",
    "    \n",
    "                        if self.validate_profile(profile):\n",
    "                            batch_profiles.append(profile)\n",
    "                            pbar.update(1)\n",
    "                        else:\n",
    "                            failed_generations += 1\n",
    "                            print(f\"\\nProfile validation failed. Attempts remaining: {max_failures_per_batch - failed_generations}\")\n",
    "    \n",
    "                    except Exception as e:\n",
    "                        failed_generations += 1\n",
    "                        print(f\"\\nError generating profile: {str(e)}\")\n",
    "                        print(f\"Attempts remaining: {max_failures_per_batch - failed_generations}\")\n",
    "    \n",
    "                    time.sleep(1)\n",
    "    \n",
    "                generated_profiles.extend(batch_profiles)\n",
    "\n",
    "                # Save progress after each batch\n",
    "                if batch_profiles:\n",
    "                    self.save_profiles(generated_profiles)\n",
    "    \n",
    "                print(f\"Completed batch {batch + 1}, total profiles generated: {len(generated_profiles)}\")\n",
    "    \n",
    "                if batch < num_batches - 1:\n",
    "                    time.sleep(2)\n",
    "    \n",
    "        return generated_profiles\n",
    "\n",
    "def main():\n",
    "    api_key = \"INSERT_API_KEY\"\n",
    "    input_file = \"cleaned_profiles.csv\"\n",
    "    test_mode = False\n",
    "\n",
    "    generator = LinkedInProfileGenerator(api_key=api_key)\n",
    "\n",
    "    print(\"Loading existing profiles...\")\n",
    "    df = pd.read_csv(input_file)\n",
    "    existing_profiles = df.to_dict('records')\n",
    "\n",
    "    print(f\"Total profiles loaded: {len(existing_profiles)}\")\n",
    "    print(\"Label distribution:\")\n",
    "    print(df['Label'].value_counts())\n",
    "\n",
    "    num_profiles = 10 if test_mode else 1800\n",
    "    print(f\"\\nTarget number of profiles: {num_profiles} {'(TEST MODE)' if test_mode else ''}\")\n",
    "\n",
    "    new_profiles = generator.generate_profiles(\n",
    "        example_profiles=existing_profiles,\n",
    "        num_profiles=num_profiles\n",
    "    )\n",
    "\n",
    "    print(f\"\\nGeneration complete!\")\n",
    "    print(f\"Successfully generated: {len(new_profiles)} profiles\")\n",
    "\n",
    "if __name__ == \"__main__\":\n",
    "    main()"
   ]
  },
  {
   "cell_type": "code",
   "execution_count": null,
   "metadata": {
    "id": "UTcLzU-F0RZV"
   },
   "outputs": [],
   "source": []
  }
 ],
 "metadata": {
  "colab": {
   "provenance": []
  },
  "kernelspec": {
   "display_name": "Python 3 (ipykernel)",
   "language": "python",
   "name": "python3"
  },
  "language_info": {
   "codemirror_mode": {
    "name": "ipython",
    "version": 3
   },
   "file_extension": ".py",
   "mimetype": "text/x-python",
   "name": "python",
   "nbconvert_exporter": "python",
   "pygments_lexer": "ipython3",
   "version": "3.10.12"
  }
 },
 "nbformat": 4,
 "nbformat_minor": 4
}
